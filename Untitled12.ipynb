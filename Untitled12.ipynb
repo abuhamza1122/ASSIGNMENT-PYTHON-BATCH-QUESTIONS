{
 "cells": [
  {
   "cell_type": "markdown",
   "id": "9d495188",
   "metadata": {},
   "source": [
    "### 1) What is a vector?\n",
    "#### a quantity having direction as well as magnitude, especially as determining the position of one point in space relative to another."
   ]
  },
  {
   "cell_type": "markdown",
   "id": "edede997",
   "metadata": {},
   "source": [
    "### 2) How do you represent vectors using a Python list? Give an example.\n"
   ]
  },
  {
   "cell_type": "code",
   "execution_count": 2,
   "id": "1e55508d",
   "metadata": {},
   "outputs": [
    {
     "name": "stdout",
     "output_type": "stream",
     "text": [
      "We create a vector from a list:\n",
      "[10 20 30 40 50]\n"
     ]
    }
   ],
   "source": [
    "# Importing numpy  \n",
    "import numpy as np  \n",
    "# creating list  \n",
    "list1 = [10, 20, 30, 40, 50]  \n",
    "# Creating 1-D Horizontal Array  \n",
    "vtr = np.array(list1)  \n",
    "  \n",
    "vtr = np.array(list1)  \n",
    "  \n",
    "print(\"We create a vector from a list:\")  \n",
    "print(vtr)  "
   ]
  },
  {
   "cell_type": "markdown",
   "id": "27ec8e11",
   "metadata": {},
   "source": [
    "### 3) What is a dot product of two vectors?\n",
    "#### The dot product, also called scalar product, is a measure of how closely two vectors align, in terms of the directions they point."
   ]
  },
  {
   "cell_type": "markdown",
   "id": "288f8e14",
   "metadata": {},
   "source": [
    "### 4) Write a function to compute the dot product of two vectors.\n"
   ]
  },
  {
   "cell_type": "code",
   "execution_count": 3,
   "id": "02bcefeb",
   "metadata": {},
   "outputs": [
    {
     "name": "stdout",
     "output_type": "stream",
     "text": [
      "35\n"
     ]
    }
   ],
   "source": [
    "\n",
    "# Python Program illustrating\n",
    "# dot product of two vectors\n",
    " \n",
    "# Importing numpy module\n",
    "import numpy as np\n",
    " \n",
    "# Taking two scalar values\n",
    "a = 5\n",
    "b = 7\n",
    " \n",
    "# Calculating dot product using dot()\n",
    "print(np.dot(a, b))"
   ]
  },
  {
   "cell_type": "markdown",
   "id": "d9f5d218",
   "metadata": {},
   "source": [
    "### 5) what is numpy?\n",
    "#### NumPy is a Python library used for working with arrays."
   ]
  },
  {
   "cell_type": "markdown",
   "id": "4acc052b",
   "metadata": {},
   "source": [
    "### 6) How do you install Numpy?\n",
    "#### You have to write this in the command line \"pip install numpy\"\n"
   ]
  },
  {
   "cell_type": "markdown",
   "id": "5edbfbdc",
   "metadata": {},
   "source": [
    "### 7) How do you import the numpy module?\n",
    "#### import numpy"
   ]
  },
  {
   "cell_type": "markdown",
   "id": "eb333b84",
   "metadata": {},
   "source": [
    "### 8) What does it mean to import a module with an alias? Give an example.\n",
    "#### Import aliases are where you take your standard import, but instead of using a pre-defined name by the exporting module, you use a name that is defined in the importing module."
   ]
  },
  {
   "cell_type": "code",
   "execution_count": 5,
   "id": "9d5ece7c",
   "metadata": {},
   "outputs": [],
   "source": [
    "import numpy as np"
   ]
  },
  {
   "cell_type": "markdown",
   "id": "605a215b",
   "metadata": {},
   "source": [
    "### 9) What is the commonly used alias for numpy?\n",
    "#### NumPy is usually imported under the np alias. "
   ]
  },
  {
   "cell_type": "markdown",
   "id": "1e564feb",
   "metadata": {},
   "source": [
    "### 10) What is a Numpy array?\n",
    "#### A numpy array is a grid of values, all of the same type, and is indexed by a tuple of nonnegative integers. "
   ]
  },
  {
   "cell_type": "markdown",
   "id": "e3321c1f",
   "metadata": {},
   "source": [
    "### 11) How do you create a Numpy array? Give an example.\n"
   ]
  },
  {
   "cell_type": "code",
   "execution_count": 6,
   "id": "b15fa67a",
   "metadata": {},
   "outputs": [
    {
     "name": "stdout",
     "output_type": "stream",
     "text": [
      "My 1D array:\n",
      " [10 20 30]\n",
      "Type: <class 'numpy.ndarray'>\n"
     ]
    }
   ],
   "source": [
    "# Import numpy module\n",
    "import numpy as np\n",
    "\n",
    "# Creation of 1D array\n",
    "arr1=np.array([10,20,30])\n",
    "print(\"My 1D array:\\n\",arr1)\n",
    "\n",
    "# Output:\n",
    "# My 1D array: \n",
    "# [10 20 30 40]\n",
    "\n",
    "print(\"Type:\", type(arr1))\n",
    "\n",
    "# Output:\n",
    "# Type: <class 'numpy.ndarray'>"
   ]
  },
  {
   "cell_type": "markdown",
   "id": "ab7a97ca",
   "metadata": {},
   "source": [
    "### 12) What is the type of Numpy arrays?\n",
    "#### booleans (bool), integers (int), unsigned integers (uint) floating point (float) and complex."
   ]
  },
  {
   "cell_type": "markdown",
   "id": "da92eb45",
   "metadata": {},
   "source": [
    "### 13) How do you access the elements of a Numpy array?"
   ]
  },
  {
   "cell_type": "code",
   "execution_count": 7,
   "id": "50c30bf6",
   "metadata": {},
   "outputs": [
    {
     "name": "stdout",
     "output_type": "stream",
     "text": [
      "2\n"
     ]
    }
   ],
   "source": [
    "import numpy as np\n",
    "\n",
    "arr = np.array([1, 2, 3, 4])\n",
    "\n",
    "print(arr[1])"
   ]
  },
  {
   "cell_type": "code",
   "execution_count": 8,
   "id": "fd51a5bb",
   "metadata": {},
   "outputs": [
    {
     "name": "stdout",
     "output_type": "stream",
     "text": [
      "2nd element on 1st row:  2\n"
     ]
    }
   ],
   "source": [
    "import numpy as np\n",
    "\n",
    "arr = np.array([[1,2,3,4,5], [6,7,8,9,10]])\n",
    "\n",
    "print('2nd element on 1st row: ', arr[0, 1])"
   ]
  },
  {
   "cell_type": "code",
   "execution_count": 9,
   "id": "64797435",
   "metadata": {},
   "outputs": [
    {
     "name": "stdout",
     "output_type": "stream",
     "text": [
      "6\n"
     ]
    }
   ],
   "source": [
    "import numpy as np\n",
    "\n",
    "arr = np.array([[[1, 2, 3], [4, 5, 6]], [[7, 8, 9], [10, 11, 12]]])\n",
    "\n",
    "print(arr[0, 1, 2])"
   ]
  },
  {
   "cell_type": "markdown",
   "id": "9ba4e0f3",
   "metadata": {},
   "source": [
    "### 14) How do you compute the dot product of two vectors using Numpy?\n"
   ]
  },
  {
   "cell_type": "code",
   "execution_count": 11,
   "id": "6374cbf2",
   "metadata": {},
   "outputs": [
    {
     "name": "stdout",
     "output_type": "stream",
     "text": [
      "Array1...\n",
      " [2.+3.j 5.+6.j]\n",
      "\n",
      "Array2...\n",
      " [ 9.+10.j 11.+12.j]\n",
      "\n",
      "Dimensions of Array1...\n",
      " 1\n",
      "\n",
      "Dimensions of Array2...\n",
      " 1\n",
      "\n",
      "Shape of Array1...\n",
      " (2,)\n",
      "\n",
      "Shape of Array2...\n",
      " (2,)\n",
      "\n",
      "Result...\n",
      " (175-13j)\n"
     ]
    }
   ],
   "source": [
    "import numpy as np\n",
    "\n",
    "# Creating two numpy One-Dimensional array using the array() method\n",
    "arr1 = np.array([2+3j,5+6j])\n",
    "arr2 = np.array([9+10j,11+12j])\n",
    "\n",
    "# Display the arrays\n",
    "print(\"Array1...\\n\",arr1)\n",
    "print(\"\\nArray2...\\n\",arr2)\n",
    "\n",
    "# Check the Dimensions of both the arrays\n",
    "print(\"\\nDimensions of Array1...\\n\",arr1.ndim)\n",
    "print(\"\\nDimensions of Array2...\\n\",arr2.ndim)\n",
    "\n",
    "# Check the Shape of both the arrays\n",
    "print(\"\\nShape of Array1...\\n\",arr1.shape)\n",
    "print(\"\\nShape of Array2...\\n\",arr2.shape)\n",
    "\n",
    "# To return the dot product of two vectors, use the numpy.vdot() method in Python.\n",
    "print(\"\\nResult...\\n\",np.vdot(arr1, arr2))"
   ]
  },
  {
   "cell_type": "markdown",
   "id": "3f487a25",
   "metadata": {},
   "source": [
    "### 15) What happens if you try to compute the dot product of two vectors which have different sizes?\n",
    "#### The dot product is applicable only for the pairs of vectors that have the same number of dimensions."
   ]
  },
  {
   "cell_type": "markdown",
   "id": "23b0db09",
   "metadata": {},
   "source": [
    "### 16) How do you compute the element-wise product of two Numpy arrays?"
   ]
  },
  {
   "cell_type": "code",
   "execution_count": 12,
   "id": "9c3aa1bd",
   "metadata": {},
   "outputs": [
    {
     "name": "stdout",
     "output_type": "stream",
     "text": [
      "1st Input  number :  4\n",
      "2nd Input  number :  6\n",
      "output number :  24\n"
     ]
    }
   ],
   "source": [
    "import numpy as geek \n",
    "in_num1 = 4\n",
    "in_num2 = 6\n",
    "  \n",
    "print (\"1st Input  number : \", in_num1) \n",
    "print (\"2nd Input  number : \", in_num2) \n",
    "    \n",
    "out_num = geek.multiply(in_num1, in_num2)  \n",
    "print (\"output number : \", out_num)"
   ]
  },
  {
   "cell_type": "markdown",
   "id": "8a65194b",
   "metadata": {},
   "source": [
    "### 17) How do you compute the sum of all the elements in a Numpy array?\n"
   ]
  },
  {
   "cell_type": "code",
   "execution_count": 13,
   "id": "caa7fa50",
   "metadata": {},
   "outputs": [
    {
     "name": "stdout",
     "output_type": "stream",
     "text": [
      "Original array:\n",
      "[[0 1]\n",
      " [2 3]]\n",
      "Sum of all elements:\n",
      "6\n"
     ]
    }
   ],
   "source": [
    "import numpy as np\n",
    "x = np.array([[0,1],[2,3]])\n",
    "print(\"Original array:\")\n",
    "print(x)\n",
    "print(\"Sum of all elements:\")\n",
    "print(np.sum(x))"
   ]
  },
  {
   "cell_type": "markdown",
   "id": "dd089481",
   "metadata": {},
   "source": [
    "### 18) What are the benefits of using Numpy arrays over Python lists for operating on numerical data?\n",
    "#### NumPy arrays are faster than Python lists."
   ]
  },
  {
   "cell_type": "markdown",
   "id": "d3a7553b",
   "metadata": {},
   "source": [
    "### 19) Why do Numpy array operations have better performance compared to Python functions and loops?\n",
    "#### A Python list, however, is only a collection of objects. A NumPy array allows only homogeneous data types. "
   ]
  },
  {
   "cell_type": "markdown",
   "id": "f3c4e9f5",
   "metadata": {},
   "source": [
    "### 20) Illustrate the performance difference between Numpy array operations and Python loops using an example.\n"
   ]
  },
  {
   "cell_type": "code",
   "execution_count": 14,
   "id": "a01e5aca",
   "metadata": {},
   "outputs": [
    {
     "name": "stdout",
     "output_type": "stream",
     "text": [
      "Size of each element of list in bytes:  48\n",
      "Size of the whole list in bytes:  48000\n",
      "Size of each element of the Numpy array in bytes:  4\n",
      "Size of the whole Numpy array in bytes:  4000\n"
     ]
    }
   ],
   "source": [
    "# importing numpy package\n",
    "import numpy as np\n",
    " \n",
    "# importing system module\n",
    "import sys\n",
    " \n",
    "# declaring a list of 1000 elements\n",
    "S= range(1000)\n",
    " \n",
    "# printing size of each element of the list\n",
    "print(\"Size of each element of list in bytes: \",sys.getsizeof(S))\n",
    " \n",
    "# printing size of the whole list\n",
    "print(\"Size of the whole list in bytes: \",sys.getsizeof(S)*len(S))\n",
    " \n",
    "# declaring a Numpy array of 1000 elements\n",
    "D= np.arange(1000)\n",
    " \n",
    "# printing size of each element of the Numpy array\n",
    "print(\"Size of each element of the Numpy array in bytes: \",D.itemsize)\n",
    " \n",
    "# printing size of the whole Numpy array\n",
    "print(\"Size of the whole Numpy array in bytes: \",D.size*D.itemsize)"
   ]
  },
  {
   "cell_type": "markdown",
   "id": "a892a048",
   "metadata": {},
   "source": [
    "### 21) What are multi-dimensional Numpy arrays?\n",
    "#### A multi-dimensional array is an array with more than one level or dimension."
   ]
  },
  {
   "cell_type": "markdown",
   "id": "310f435a",
   "metadata": {},
   "source": [
    "### 22) Illustrate the creation of Numpy arrays with 2, 3, and 4 dimensions."
   ]
  },
  {
   "cell_type": "code",
   "execution_count": 18,
   "id": "b84da257",
   "metadata": {},
   "outputs": [
    {
     "name": "stdout",
     "output_type": "stream",
     "text": [
      "[[1 2 3]\n",
      " [4 5 6]]\n",
      "number of dimensions : 2\n"
     ]
    }
   ],
   "source": [
    "import numpy as np\n",
    "\n",
    "arr = np.array([[1, 2, 3], [4, 5, 6]])\n",
    "\n",
    "print(arr)\n",
    "print('number of dimensions :', arr.ndim)"
   ]
  },
  {
   "cell_type": "code",
   "execution_count": 19,
   "id": "60c2993f",
   "metadata": {},
   "outputs": [
    {
     "name": "stdout",
     "output_type": "stream",
     "text": [
      "[[[1 2 3]\n",
      "  [4 5 6]]\n",
      "\n",
      " [[1 2 3]\n",
      "  [4 5 6]]]\n",
      "number of dimensions : 3\n"
     ]
    }
   ],
   "source": [
    "import numpy as np\n",
    "\n",
    "arr = np.array([[[1, 2, 3], [4, 5, 6]], [[1, 2, 3], [4, 5, 6]]])\n",
    "\n",
    "print(arr)\n",
    "print('number of dimensions :', arr.ndim)"
   ]
  },
  {
   "cell_type": "code",
   "execution_count": 20,
   "id": "3d87707a",
   "metadata": {},
   "outputs": [
    {
     "name": "stdout",
     "output_type": "stream",
     "text": [
      "[[[[1 2 3 4]]]]\n",
      "number of dimensions : 4\n"
     ]
    }
   ],
   "source": [
    "import numpy as np\n",
    "\n",
    "arr = np.array([1, 2, 3, 4], ndmin=4)\n",
    "\n",
    "print(arr)\n",
    "print('number of dimensions :', arr.ndim)"
   ]
  },
  {
   "cell_type": "markdown",
   "id": "28abcd40",
   "metadata": {},
   "source": [
    "### 23) How do you inspect the number of dimensions and the length along each dimension in a Numpy array?\n"
   ]
  },
  {
   "cell_type": "code",
   "execution_count": 22,
   "id": "9b2ec5fc",
   "metadata": {},
   "outputs": [
    {
     "name": "stdout",
     "output_type": "stream",
     "text": [
      "[[[[[1 2 3 4]]]]]\n",
      "number of dimensions : 5\n",
      "Dimensions in arr are:  5\n"
     ]
    }
   ],
   "source": [
    "import numpy as np\n",
    "\n",
    "arr = np.array([1, 2, 3, 4], ndmin=5)\n",
    "\n",
    "print(arr)\n",
    "print('number of dimensions :', arr.ndim)\n",
    "print(\"Dimensions in arr are: \", len(arr.shape))"
   ]
  },
  {
   "cell_type": "markdown",
   "id": "c3812a94",
   "metadata": {},
   "source": [
    "### 24) Can the elements of a Numpy array have different data types?\n",
    "#### The elements of a NumPy array must all be of the same type"
   ]
  },
  {
   "cell_type": "markdown",
   "id": "455c1375",
   "metadata": {},
   "source": [
    "### 25) How do you check the data type of the elements of a Numpy array?"
   ]
  },
  {
   "cell_type": "code",
   "execution_count": 23,
   "id": "9b04a33f",
   "metadata": {},
   "outputs": [
    {
     "name": "stdout",
     "output_type": "stream",
     "text": [
      "int32\n"
     ]
    }
   ],
   "source": [
    "import numpy as np\n",
    "\n",
    "arr = np.array([1, 2, 3, 4], ndmin=5)\n",
    "\n",
    "print(arr.dtype)"
   ]
  },
  {
   "cell_type": "markdown",
   "id": "48488040",
   "metadata": {},
   "source": [
    "### 26) What is the data type of a Numpy array?\n",
    "#### Here's the list of most commonly used numeric data types in NumPy: int8 , int16 , int32 , int64 - signed integer types with different bit sizes."
   ]
  },
  {
   "cell_type": "markdown",
   "id": "c92d7e8b",
   "metadata": {},
   "source": [
    "### 27) What is the difference between a matrix and a 2D Numpy array?\n",
    "#### Numpy arrays (nd-arrays) are N-dimensional where, N=1,2,3… Numpy matrices are strictly 2-dimensional. "
   ]
  },
  {
   "cell_type": "markdown",
   "id": "70767e89",
   "metadata": {},
   "source": [
    "### 28) How do you perform matrix multiplication using Numpy?"
   ]
  },
  {
   "cell_type": "code",
   "execution_count": 24,
   "id": "5f3c1e06",
   "metadata": {},
   "outputs": [
    {
     "name": "stdout",
     "output_type": "stream",
     "text": [
      "[[30 35]\n",
      " [40 45]]\n"
     ]
    }
   ],
   "source": [
    "import numpy as np\n",
    "\n",
    "A = 5\n",
    "\n",
    "B = [[6, 7],\n",
    "      [8, 9]]\n",
    " \n",
    "print(np.dot(A,B))"
   ]
  },
  {
   "cell_type": "markdown",
   "id": "db31d471",
   "metadata": {},
   "source": [
    "### 29) What is the @ operator used for in Numpy?\n",
    "#### The @ operator, available since Python 3.5, can be used for conventional matrix multiplication."
   ]
  },
  {
   "cell_type": "markdown",
   "id": "007e3fcf",
   "metadata": {},
   "source": [
    "### 30) What is the CSV file format?\n",
    "#### A CSV file is a spreadsheet format, so it can be opened by spreadsheet applications like Microsoft Excel and Google Spreadsheets. Since CSV files are used to exchange large volumes of data, database programs, analytical software, and applications that can store massive amounts of information usually support the CSV."
   ]
  },
  {
   "cell_type": "markdown",
   "id": "0ddb2c69",
   "metadata": {},
   "source": [
    "### 31) How do you read data from a CSV file using Numpy?"
   ]
  },
  {
   "cell_type": "code",
   "execution_count": null,
   "id": "f68ae994",
   "metadata": {},
   "outputs": [],
   "source": [
    "import numpy as np\n",
    " \n",
    "# using loadtxt()\n",
    "arr = np.loadtxt(\"sample_data.csv\",\n",
    "                 delimiter=\",\", dtype=str)\n",
    "display(arr)"
   ]
  },
  {
   "cell_type": "code",
   "execution_count": null,
   "id": "93153de1",
   "metadata": {},
   "outputs": [],
   "source": [
    "import numpy as np\n",
    " \n",
    "# using genfromtxt()\n",
    "arr = np.genfromtxt(\"sample_data.csv\",\n",
    "                    delimiter=\",\", dtype=str)\n",
    "display(arr)"
   ]
  },
  {
   "cell_type": "markdown",
   "id": "86e465ed",
   "metadata": {},
   "source": [
    "### 32) How do you concatenate two Numpy arrays?"
   ]
  },
  {
   "cell_type": "code",
   "execution_count": 26,
   "id": "a85e63ac",
   "metadata": {},
   "outputs": [
    {
     "name": "stdout",
     "output_type": "stream",
     "text": [
      "After concatenated arrays along depth:\n",
      " [[[ 1  7]\n",
      "  [ 2  8]\n",
      "  [ 3  9]]\n",
      "\n",
      " [[ 4 10]\n",
      "  [ 5 11]\n",
      "  [ 6 12]]]\n"
     ]
    }
   ],
   "source": [
    "import numpy as np\n",
    "\n",
    "# Creating two 2D arrays\n",
    "array1 = np.array([[1, 2, 3],\n",
    "                  [4, 5, 6]])                   \n",
    "array2 = np.array([[7, 8, 9],\n",
    "                  [10, 11, 12]])\n",
    "\n",
    "# Using numpy.dstack() function\n",
    "# Concatenate 2D arrays along the depth axis\n",
    "result = np.dstack((array1, array2))\n",
    "print(\"After concatenated arrays along depth:\\n\", result)"
   ]
  },
  {
   "cell_type": "markdown",
   "id": "0487c33a",
   "metadata": {},
   "source": [
    "### 33) What is the purpose of the axis argument of np.concatenate?\n",
    "#### Numpy concatenate is like “stacking” numpy arrays\n",
    "#### The axis that we specify with the axis parameter is the axis along which we stack the arrays. "
   ]
  },
  {
   "cell_type": "markdown",
   "id": "1fa11d3c",
   "metadata": {},
   "source": [
    "### 34) When are two Numpy arrays compatible for concatenation?\n",
    "#### The arrays must have the same shape, except in the dimension corresponding to axis."
   ]
  },
  {
   "cell_type": "markdown",
   "id": "4566f610",
   "metadata": {},
   "source": [
    "### 35) Give an example of two Numpy arrays that can be concatenated.\n"
   ]
  },
  {
   "cell_type": "code",
   "execution_count": 31,
   "id": "7825a1ae",
   "metadata": {},
   "outputs": [
    {
     "data": {
      "text/plain": [
       "array([[1, 2],\n",
       "       [3, 4],\n",
       "       [5, 6]])"
      ]
     },
     "execution_count": 31,
     "metadata": {},
     "output_type": "execute_result"
    }
   ],
   "source": [
    "a = np.array([[1, 2], [3, 4]])\n",
    "b = np.array([[5, 6]])\n",
    "np.concatenate((a, b), axis=0)\n",
    "np.array([[1, 2],\n",
    "       [3, 4],\n",
    "       [5, 6]])\n"
   ]
  },
  {
   "cell_type": "code",
   "execution_count": 32,
   "id": "1be6f9d6",
   "metadata": {},
   "outputs": [
    {
     "data": {
      "text/plain": [
       "array([[1, 2, 5],\n",
       "       [3, 4, 6]])"
      ]
     },
     "execution_count": 32,
     "metadata": {},
     "output_type": "execute_result"
    }
   ],
   "source": [
    "np.concatenate((a, b.T), axis=1)\n",
    "np.array([[1, 2, 5],\n",
    "       [3, 4, 6]])\n"
   ]
  },
  {
   "cell_type": "code",
   "execution_count": 33,
   "id": "1935641c",
   "metadata": {},
   "outputs": [
    {
     "data": {
      "text/plain": [
       "array([1, 2, 3, 4, 5, 6])"
      ]
     },
     "execution_count": 33,
     "metadata": {},
     "output_type": "execute_result"
    }
   ],
   "source": [
    "np.concatenate((a, b), axis=None)\n",
    "np.array([1, 2, 3, 4, 5, 6])"
   ]
  },
  {
   "cell_type": "markdown",
   "id": "0214dc47",
   "metadata": {},
   "source": [
    "### 36) Give an example of two Numpy arrays that cannot be concatenated.\n"
   ]
  },
  {
   "cell_type": "code",
   "execution_count": 36,
   "id": "29f05d0c",
   "metadata": {},
   "outputs": [
    {
     "ename": "TypeError",
     "evalue": "only integer scalar arrays can be converted to a scalar index",
     "output_type": "error",
     "traceback": [
      "\u001b[1;31m---------------------------------------------------------------------------\u001b[0m",
      "\u001b[1;31mTypeError\u001b[0m                                 Traceback (most recent call last)",
      "Cell \u001b[1;32mIn[36], line 3\u001b[0m\n\u001b[0;32m      1\u001b[0m a \u001b[38;5;241m=\u001b[39m np\u001b[38;5;241m.\u001b[39marray([\u001b[38;5;241m1\u001b[39m, \u001b[38;5;241m2\u001b[39m])\n\u001b[0;32m      2\u001b[0m b \u001b[38;5;241m=\u001b[39m np\u001b[38;5;241m.\u001b[39marray([\u001b[38;5;241m3\u001b[39m, \u001b[38;5;241m4\u001b[39m])\n\u001b[1;32m----> 3\u001b[0m np\u001b[38;5;241m.\u001b[39mconcatenate(a, b)\n",
      "File \u001b[1;32m<__array_function__ internals>:200\u001b[0m, in \u001b[0;36mconcatenate\u001b[1;34m(*args, **kwargs)\u001b[0m\n",
      "\u001b[1;31mTypeError\u001b[0m: only integer scalar arrays can be converted to a scalar index"
     ]
    }
   ],
   "source": [
    "a = np.array([1, 2])\n",
    "b = np.array([3, 4])\n",
    "np.concatenate(a, b)\n",
    "\n",
    "# TypeError: only length-1 arrays can be converted to Python scalars"
   ]
  },
  {
   "cell_type": "code",
   "execution_count": 38,
   "id": "ba4ec61f",
   "metadata": {},
   "outputs": [
    {
     "ename": "TypeError",
     "evalue": "only integer scalar arrays can be converted to a scalar index",
     "output_type": "error",
     "traceback": [
      "\u001b[1;31m---------------------------------------------------------------------------\u001b[0m",
      "\u001b[1;31mTypeError\u001b[0m                                 Traceback (most recent call last)",
      "Cell \u001b[1;32mIn[38], line 3\u001b[0m\n\u001b[0;32m      1\u001b[0m \u001b[38;5;28;01mimport\u001b[39;00m \u001b[38;5;21;01mnumpy\u001b[39;00m \u001b[38;5;28;01mas\u001b[39;00m \u001b[38;5;21;01mnp\u001b[39;00m\n\u001b[0;32m      2\u001b[0m allValues \u001b[38;5;241m=\u001b[39m np\u001b[38;5;241m.\u001b[39marange(\u001b[38;5;241m-\u001b[39m\u001b[38;5;241m1\u001b[39m, \u001b[38;5;241m1\u001b[39m, \u001b[38;5;241m0.5\u001b[39m)\n\u001b[1;32m----> 3\u001b[0m tmp \u001b[38;5;241m=\u001b[39m np\u001b[38;5;241m.\u001b[39mconcatenate(allValues, np\u001b[38;5;241m.\u001b[39marray([\u001b[38;5;241m30\u001b[39m], \u001b[38;5;28mfloat\u001b[39m))\n",
      "File \u001b[1;32m<__array_function__ internals>:200\u001b[0m, in \u001b[0;36mconcatenate\u001b[1;34m(*args, **kwargs)\u001b[0m\n",
      "\u001b[1;31mTypeError\u001b[0m: only integer scalar arrays can be converted to a scalar index"
     ]
    }
   ],
   "source": [
    "import numpy as np\n",
    "allValues = np.arange(-1, 1, 0.5)\n",
    "tmp = np.concatenate(allValues, np.array([30], float))"
   ]
  },
  {
   "cell_type": "markdown",
   "id": "cc3cd885",
   "metadata": {},
   "source": [
    "### 37) What is the purpose of the np.reshape function?\n",
    "#### Change an Array's Shape Using NumPy reshape() NumPy's reshape() enables you to change the shape of an array into another compatible shape. "
   ]
  },
  {
   "cell_type": "markdown",
   "id": "fff32d48",
   "metadata": {},
   "source": [
    "### 38) What does it mean to “reshape” a Numpy array?\n",
    "#### Reshaping means changing the shape of an array. The shape of an array is the number of elements in each dimension. By reshaping we can add or remove dimensions or change number of elements in each dimension."
   ]
  },
  {
   "cell_type": "markdown",
   "id": "e2d6f4e1",
   "metadata": {},
   "source": [
    "### 39) How do you write a numpy array into a CSV file?\n"
   ]
  },
  {
   "cell_type": "code",
   "execution_count": 39,
   "id": "9a12b71f",
   "metadata": {},
   "outputs": [],
   "source": [
    "# save numpy array as csv file\n",
    "from numpy import asarray\n",
    "from numpy import savetxt\n",
    "# define data\n",
    "data = asarray([[0, 1, 2, 3, 4, 5, 6, 7, 8, 9]])\n",
    "# save to csv file\n",
    "savetxt('data.csv', data, delimiter=',')"
   ]
  },
  {
   "cell_type": "markdown",
   "id": "ed2580c4",
   "metadata": {},
   "source": [
    "### 40) Give some examples of Numpy functions for performing mathematical operations."
   ]
  },
  {
   "cell_type": "code",
   "execution_count": 40,
   "id": "d815cf72",
   "metadata": {},
   "outputs": [
    {
     "name": "stdout",
     "output_type": "stream",
     "text": [
      "[  7  77  23 130]\n",
      "[  7  77  23 130]\n",
      "[  8  79  26 134]\n",
      "[  7  77  23 130]\n"
     ]
    }
   ],
   "source": [
    "import numpy as np\n",
    " \n",
    "# Defining both the matrices\n",
    "a = np.array([5, 72, 13, 100])\n",
    "b = np.array([2, 5, 10, 30])\n",
    " \n",
    "# Performing addition using arithmetic operator\n",
    "add_ans = a+b\n",
    "print(add_ans)\n",
    " \n",
    "# Performing addition using numpy function\n",
    "add_ans = np.add(a, b)\n",
    "print(add_ans)\n",
    " \n",
    "# this would work\n",
    "c = np.array([1, 2, 3, 4])\n",
    "add_ans = a+b+c\n",
    "print(add_ans)\n",
    " \n",
    "# but here NumPy only considers the first two arrays (a and b) and ignores the third one (c).\n",
    "add_ans = np.add(a, b, c)\n",
    "print(add_ans)"
   ]
  },
  {
   "cell_type": "markdown",
   "id": "5c9106d0",
   "metadata": {},
   "source": [
    "### 41) Give some examples of Numpy functions for performing array manipulation.\n"
   ]
  },
  {
   "cell_type": "code",
   "execution_count": 41,
   "id": "0c9d8872",
   "metadata": {},
   "outputs": [
    {
     "name": "stdout",
     "output_type": "stream",
     "text": [
      "Original array:\n",
      " [ 1  3  5  7  9 11]\n",
      "\n",
      "Reshaped array:\n",
      " [[ 1  3  5]\n",
      " [ 7  9 11]]\n",
      "\n",
      "Transposed array:\n",
      " [[ 1  7]\n",
      " [ 3  9]\n",
      " [ 5 11]]\n"
     ]
    }
   ],
   "source": [
    "import numpy as np\n",
    "\n",
    "# create a 1D array\n",
    "array1 = np.array([1, 3, 5, 7, 9, 11])\n",
    "\n",
    "# reshape the 1D array into a 2D array\n",
    "array2 = np.reshape(array1, (2, 3))\n",
    "\n",
    "# transpose the 2D array\n",
    "array3 = np.transpose(array2)\n",
    "\n",
    "print(\"Original array:\\n\", array1)\n",
    "print(\"\\nReshaped array:\\n\", array2)\n",
    "print(\"\\nTransposed array:\\n\", array3)"
   ]
  },
  {
   "cell_type": "markdown",
   "id": "a933bb96",
   "metadata": {},
   "source": [
    "### 42) Give some examples of Numpy functions for performing linear algebra.\n"
   ]
  },
  {
   "cell_type": "code",
   "execution_count": 42,
   "id": "6497a00e",
   "metadata": {},
   "outputs": [
    {
     "name": "stdout",
     "output_type": "stream",
     "text": [
      "[[3400 6200]\n",
      " [ 374  712]]\n"
     ]
    }
   ],
   "source": [
    "import numpy as np  \n",
    "a = np.array([[100,200],[23,12]])  \n",
    "b = np.array([[10,20],[12,21]])  \n",
    "dot = np.dot(a,b)  \n",
    "print(dot)"
   ]
  },
  {
   "cell_type": "code",
   "execution_count": 43,
   "id": "92a15dbd",
   "metadata": {},
   "outputs": [
    {
     "name": "stdout",
     "output_type": "stream",
     "text": [
      "5528\n"
     ]
    }
   ],
   "source": [
    "import numpy as np  \n",
    "a = np.array([[100,200],[23,12]])  \n",
    "b = np.array([[10,20],[12,21]])  \n",
    "vdot = np.vdot(a,b)  \n",
    "print(vdot) "
   ]
  },
  {
   "cell_type": "code",
   "execution_count": 44,
   "id": "c18e2233",
   "metadata": {},
   "outputs": [
    {
     "name": "stdout",
     "output_type": "stream",
     "text": [
      "130\n"
     ]
    }
   ],
   "source": [
    "import numpy as np  \n",
    "a = np.array([1,2,3,4,5,6])  \n",
    "b = np.array([23,23,12,2,1,2])  \n",
    "inner = np.inner(a,b)  \n",
    "print(inner)  "
   ]
  },
  {
   "cell_type": "markdown",
   "id": "265fc83e",
   "metadata": {},
   "source": [
    "### 43) Give some examples of Numpy functions for performing statistical operations.\n"
   ]
  },
  {
   "cell_type": "code",
   "execution_count": 45,
   "id": "2342d605",
   "metadata": {},
   "outputs": [
    {
     "name": "stdout",
     "output_type": "stream",
     "text": [
      "The original array:\n",
      "\n",
      "[[ 2 10 20]\n",
      " [80 43 31]\n",
      " [22 43 10]]\n",
      "\n",
      "The minimum element among the array: 2\n",
      "The maximum element among the array: 80\n",
      "\n",
      "The minimum element among the rows of array [ 2 10 10]\n",
      "The maximum element among the rows of array [80 43 31]\n",
      "\n",
      "The minimum element among the columns of array [ 2 31 10]\n",
      "The maximum element among the columns of array [20 80 43]\n"
     ]
    }
   ],
   "source": [
    "import numpy as np  \n",
    "  \n",
    "a = np.array([[2,10,20],[80,43,31],[22,43,10]])  \n",
    "  \n",
    "print(\"The original array:\\n\")  \n",
    "print(a)  \n",
    "  \n",
    "  \n",
    "print(\"\\nThe minimum element among the array:\",np.amin(a))  \n",
    "print(\"The maximum element among the array:\",np.amax(a))  \n",
    "  \n",
    "print(\"\\nThe minimum element among the rows of array\",np.amin(a,0))  \n",
    "print(\"The maximum element among the rows of array\",np.amax(a,0))  \n",
    "  \n",
    "print(\"\\nThe minimum element among the columns of array\",np.amin(a,1))  \n",
    "print(\"The maximum element among the columns of array\",np.amax(a,1)) "
   ]
  },
  {
   "cell_type": "markdown",
   "id": "c3606846",
   "metadata": {},
   "source": [
    "### 44) How do you find the right Numpy function for a specific operation or use case?\n"
   ]
  },
  {
   "cell_type": "code",
   "execution_count": null,
   "id": "8385143c",
   "metadata": {},
   "outputs": [],
   "source": []
  },
  {
   "cell_type": "markdown",
   "id": "14b34902",
   "metadata": {},
   "source": [
    "### 45) Where can you see a list of all the Numpy array functions and operations?\n"
   ]
  },
  {
   "cell_type": "code",
   "execution_count": 46,
   "id": "55401eba",
   "metadata": {},
   "outputs": [
    {
     "data": {
      "text/plain": [
       "['ALLOW_THREADS',\n",
       " 'AxisError',\n",
       " 'BUFSIZE',\n",
       " 'CLIP',\n",
       " 'ComplexWarning',\n",
       " 'DataSource',\n",
       " 'ERR_CALL',\n",
       " 'ERR_DEFAULT',\n",
       " 'ERR_IGNORE',\n",
       " 'ERR_LOG',\n",
       " 'ERR_PRINT',\n",
       " 'ERR_RAISE',\n",
       " 'ERR_WARN',\n",
       " 'FLOATING_POINT_SUPPORT',\n",
       " 'FPE_DIVIDEBYZERO',\n",
       " 'FPE_INVALID',\n",
       " 'FPE_OVERFLOW',\n",
       " 'FPE_UNDERFLOW',\n",
       " 'False_',\n",
       " 'Inf',\n",
       " 'Infinity',\n",
       " 'MAXDIMS',\n",
       " 'MAY_SHARE_BOUNDS',\n",
       " 'MAY_SHARE_EXACT',\n",
       " 'ModuleDeprecationWarning',\n",
       " 'NAN',\n",
       " 'NINF',\n",
       " 'NZERO',\n",
       " 'NaN',\n",
       " 'PINF',\n",
       " 'PZERO',\n",
       " 'RAISE',\n",
       " 'RankWarning',\n",
       " 'SHIFT_DIVIDEBYZERO',\n",
       " 'SHIFT_INVALID',\n",
       " 'SHIFT_OVERFLOW',\n",
       " 'SHIFT_UNDERFLOW',\n",
       " 'ScalarType',\n",
       " 'Tester',\n",
       " 'TooHardError',\n",
       " 'True_',\n",
       " 'UFUNC_BUFSIZE_DEFAULT',\n",
       " 'UFUNC_PYVALS_NAME',\n",
       " 'VisibleDeprecationWarning',\n",
       " 'WRAP',\n",
       " '_CopyMode',\n",
       " '_NoValue',\n",
       " '_UFUNC_API',\n",
       " '__NUMPY_SETUP__',\n",
       " '__all__',\n",
       " '__builtins__',\n",
       " '__cached__',\n",
       " '__config__',\n",
       " '__deprecated_attrs__',\n",
       " '__dir__',\n",
       " '__doc__',\n",
       " '__expired_functions__',\n",
       " '__file__',\n",
       " '__former_attrs__',\n",
       " '__future_scalars__',\n",
       " '__getattr__',\n",
       " '__git_version__',\n",
       " '__loader__',\n",
       " '__mkl_version__',\n",
       " '__name__',\n",
       " '__package__',\n",
       " '__path__',\n",
       " '__spec__',\n",
       " '__version__',\n",
       " '_add_newdoc_ufunc',\n",
       " '_builtins',\n",
       " '_distributor_init',\n",
       " '_financial_names',\n",
       " '_get_promotion_state',\n",
       " '_globals',\n",
       " '_int_extended_msg',\n",
       " '_mat',\n",
       " '_no_nep50_warning',\n",
       " '_pyinstaller_hooks_dir',\n",
       " '_pytesttester',\n",
       " '_set_promotion_state',\n",
       " '_specific_msg',\n",
       " '_version',\n",
       " 'abs',\n",
       " 'absolute',\n",
       " 'add',\n",
       " 'add_docstring',\n",
       " 'add_newdoc',\n",
       " 'add_newdoc_ufunc',\n",
       " 'all',\n",
       " 'allclose',\n",
       " 'alltrue',\n",
       " 'amax',\n",
       " 'amin',\n",
       " 'angle',\n",
       " 'any',\n",
       " 'append',\n",
       " 'apply_along_axis',\n",
       " 'apply_over_axes',\n",
       " 'arange',\n",
       " 'arccos',\n",
       " 'arccosh',\n",
       " 'arcsin',\n",
       " 'arcsinh',\n",
       " 'arctan',\n",
       " 'arctan2',\n",
       " 'arctanh',\n",
       " 'argmax',\n",
       " 'argmin',\n",
       " 'argpartition',\n",
       " 'argsort',\n",
       " 'argwhere',\n",
       " 'around',\n",
       " 'array',\n",
       " 'array2string',\n",
       " 'array_equal',\n",
       " 'array_equiv',\n",
       " 'array_repr',\n",
       " 'array_split',\n",
       " 'array_str',\n",
       " 'asanyarray',\n",
       " 'asarray',\n",
       " 'asarray_chkfinite',\n",
       " 'ascontiguousarray',\n",
       " 'asfarray',\n",
       " 'asfortranarray',\n",
       " 'asmatrix',\n",
       " 'atleast_1d',\n",
       " 'atleast_2d',\n",
       " 'atleast_3d',\n",
       " 'average',\n",
       " 'bartlett',\n",
       " 'base_repr',\n",
       " 'binary_repr',\n",
       " 'bincount',\n",
       " 'bitwise_and',\n",
       " 'bitwise_not',\n",
       " 'bitwise_or',\n",
       " 'bitwise_xor',\n",
       " 'blackman',\n",
       " 'block',\n",
       " 'bmat',\n",
       " 'bool_',\n",
       " 'broadcast',\n",
       " 'broadcast_arrays',\n",
       " 'broadcast_shapes',\n",
       " 'broadcast_to',\n",
       " 'busday_count',\n",
       " 'busday_offset',\n",
       " 'busdaycalendar',\n",
       " 'byte',\n",
       " 'byte_bounds',\n",
       " 'bytes_',\n",
       " 'c_',\n",
       " 'can_cast',\n",
       " 'cast',\n",
       " 'cbrt',\n",
       " 'cdouble',\n",
       " 'ceil',\n",
       " 'cfloat',\n",
       " 'char',\n",
       " 'character',\n",
       " 'chararray',\n",
       " 'choose',\n",
       " 'clip',\n",
       " 'clongdouble',\n",
       " 'clongfloat',\n",
       " 'column_stack',\n",
       " 'common_type',\n",
       " 'compare_chararrays',\n",
       " 'compat',\n",
       " 'complex128',\n",
       " 'complex64',\n",
       " 'complex_',\n",
       " 'complexfloating',\n",
       " 'compress',\n",
       " 'concatenate',\n",
       " 'conj',\n",
       " 'conjugate',\n",
       " 'convolve',\n",
       " 'copy',\n",
       " 'copysign',\n",
       " 'copyto',\n",
       " 'corrcoef',\n",
       " 'correlate',\n",
       " 'cos',\n",
       " 'cosh',\n",
       " 'count_nonzero',\n",
       " 'cov',\n",
       " 'cross',\n",
       " 'csingle',\n",
       " 'ctypeslib',\n",
       " 'cumprod',\n",
       " 'cumproduct',\n",
       " 'cumsum',\n",
       " 'datetime64',\n",
       " 'datetime_as_string',\n",
       " 'datetime_data',\n",
       " 'deg2rad',\n",
       " 'degrees',\n",
       " 'delete',\n",
       " 'deprecate',\n",
       " 'deprecate_with_doc',\n",
       " 'diag',\n",
       " 'diag_indices',\n",
       " 'diag_indices_from',\n",
       " 'diagflat',\n",
       " 'diagonal',\n",
       " 'diff',\n",
       " 'digitize',\n",
       " 'disp',\n",
       " 'divide',\n",
       " 'divmod',\n",
       " 'dot',\n",
       " 'double',\n",
       " 'dsplit',\n",
       " 'dstack',\n",
       " 'dtype',\n",
       " 'e',\n",
       " 'ediff1d',\n",
       " 'einsum',\n",
       " 'einsum_path',\n",
       " 'emath',\n",
       " 'empty',\n",
       " 'empty_like',\n",
       " 'equal',\n",
       " 'errstate',\n",
       " 'euler_gamma',\n",
       " 'exp',\n",
       " 'exp2',\n",
       " 'expand_dims',\n",
       " 'expm1',\n",
       " 'extract',\n",
       " 'eye',\n",
       " 'fabs',\n",
       " 'fastCopyAndTranspose',\n",
       " 'fft',\n",
       " 'fill_diagonal',\n",
       " 'find_common_type',\n",
       " 'finfo',\n",
       " 'fix',\n",
       " 'flatiter',\n",
       " 'flatnonzero',\n",
       " 'flexible',\n",
       " 'flip',\n",
       " 'fliplr',\n",
       " 'flipud',\n",
       " 'float16',\n",
       " 'float32',\n",
       " 'float64',\n",
       " 'float_',\n",
       " 'float_power',\n",
       " 'floating',\n",
       " 'floor',\n",
       " 'floor_divide',\n",
       " 'fmax',\n",
       " 'fmin',\n",
       " 'fmod',\n",
       " 'format_float_positional',\n",
       " 'format_float_scientific',\n",
       " 'format_parser',\n",
       " 'frexp',\n",
       " 'from_dlpack',\n",
       " 'frombuffer',\n",
       " 'fromfile',\n",
       " 'fromfunction',\n",
       " 'fromiter',\n",
       " 'frompyfunc',\n",
       " 'fromregex',\n",
       " 'fromstring',\n",
       " 'full',\n",
       " 'full_like',\n",
       " 'gcd',\n",
       " 'generic',\n",
       " 'genfromtxt',\n",
       " 'geomspace',\n",
       " 'get_array_wrap',\n",
       " 'get_include',\n",
       " 'get_printoptions',\n",
       " 'getbufsize',\n",
       " 'geterr',\n",
       " 'geterrcall',\n",
       " 'geterrobj',\n",
       " 'gradient',\n",
       " 'greater',\n",
       " 'greater_equal',\n",
       " 'half',\n",
       " 'hamming',\n",
       " 'hanning',\n",
       " 'heaviside',\n",
       " 'histogram',\n",
       " 'histogram2d',\n",
       " 'histogram_bin_edges',\n",
       " 'histogramdd',\n",
       " 'hsplit',\n",
       " 'hstack',\n",
       " 'hypot',\n",
       " 'i0',\n",
       " 'identity',\n",
       " 'iinfo',\n",
       " 'imag',\n",
       " 'in1d',\n",
       " 'index_exp',\n",
       " 'indices',\n",
       " 'inexact',\n",
       " 'inf',\n",
       " 'info',\n",
       " 'infty',\n",
       " 'inner',\n",
       " 'insert',\n",
       " 'int16',\n",
       " 'int32',\n",
       " 'int64',\n",
       " 'int8',\n",
       " 'int_',\n",
       " 'intc',\n",
       " 'integer',\n",
       " 'interp',\n",
       " 'intersect1d',\n",
       " 'intp',\n",
       " 'invert',\n",
       " 'is_busday',\n",
       " 'isclose',\n",
       " 'iscomplex',\n",
       " 'iscomplexobj',\n",
       " 'isfinite',\n",
       " 'isfortran',\n",
       " 'isin',\n",
       " 'isinf',\n",
       " 'isnan',\n",
       " 'isnat',\n",
       " 'isneginf',\n",
       " 'isposinf',\n",
       " 'isreal',\n",
       " 'isrealobj',\n",
       " 'isscalar',\n",
       " 'issctype',\n",
       " 'issubclass_',\n",
       " 'issubdtype',\n",
       " 'issubsctype',\n",
       " 'iterable',\n",
       " 'ix_',\n",
       " 'kaiser',\n",
       " 'kron',\n",
       " 'lcm',\n",
       " 'ldexp',\n",
       " 'left_shift',\n",
       " 'less',\n",
       " 'less_equal',\n",
       " 'lexsort',\n",
       " 'lib',\n",
       " 'linalg',\n",
       " 'linspace',\n",
       " 'little_endian',\n",
       " 'load',\n",
       " 'loadtxt',\n",
       " 'log',\n",
       " 'log10',\n",
       " 'log1p',\n",
       " 'log2',\n",
       " 'logaddexp',\n",
       " 'logaddexp2',\n",
       " 'logical_and',\n",
       " 'logical_not',\n",
       " 'logical_or',\n",
       " 'logical_xor',\n",
       " 'logspace',\n",
       " 'longcomplex',\n",
       " 'longdouble',\n",
       " 'longfloat',\n",
       " 'longlong',\n",
       " 'lookfor',\n",
       " 'ma',\n",
       " 'mask_indices',\n",
       " 'mat',\n",
       " 'math',\n",
       " 'matmul',\n",
       " 'matrix',\n",
       " 'max',\n",
       " 'maximum',\n",
       " 'maximum_sctype',\n",
       " 'may_share_memory',\n",
       " 'mean',\n",
       " 'median',\n",
       " 'memmap',\n",
       " 'meshgrid',\n",
       " 'mgrid',\n",
       " 'min',\n",
       " 'min_scalar_type',\n",
       " 'minimum',\n",
       " 'mintypecode',\n",
       " 'mkl',\n",
       " 'mod',\n",
       " 'modf',\n",
       " 'moveaxis',\n",
       " 'msort',\n",
       " 'multiply',\n",
       " 'nan',\n",
       " 'nan_to_num',\n",
       " 'nanargmax',\n",
       " 'nanargmin',\n",
       " 'nancumprod',\n",
       " 'nancumsum',\n",
       " 'nanmax',\n",
       " 'nanmean',\n",
       " 'nanmedian',\n",
       " 'nanmin',\n",
       " 'nanpercentile',\n",
       " 'nanprod',\n",
       " 'nanquantile',\n",
       " 'nanstd',\n",
       " 'nansum',\n",
       " 'nanvar',\n",
       " 'nbytes',\n",
       " 'ndarray',\n",
       " 'ndenumerate',\n",
       " 'ndim',\n",
       " 'ndindex',\n",
       " 'nditer',\n",
       " 'negative',\n",
       " 'nested_iters',\n",
       " 'newaxis',\n",
       " 'nextafter',\n",
       " 'nonzero',\n",
       " 'not_equal',\n",
       " 'numarray',\n",
       " 'number',\n",
       " 'obj2sctype',\n",
       " 'object_',\n",
       " 'ogrid',\n",
       " 'oldnumeric',\n",
       " 'ones',\n",
       " 'ones_like',\n",
       " 'outer',\n",
       " 'packbits',\n",
       " 'pad',\n",
       " 'partition',\n",
       " 'percentile',\n",
       " 'pi',\n",
       " 'piecewise',\n",
       " 'place',\n",
       " 'poly',\n",
       " 'poly1d',\n",
       " 'polyadd',\n",
       " 'polyder',\n",
       " 'polydiv',\n",
       " 'polyfit',\n",
       " 'polyint',\n",
       " 'polymul',\n",
       " 'polynomial',\n",
       " 'polysub',\n",
       " 'polyval',\n",
       " 'positive',\n",
       " 'power',\n",
       " 'printoptions',\n",
       " 'prod',\n",
       " 'product',\n",
       " 'promote_types',\n",
       " 'ptp',\n",
       " 'put',\n",
       " 'put_along_axis',\n",
       " 'putmask',\n",
       " 'quantile',\n",
       " 'r_',\n",
       " 'rad2deg',\n",
       " 'radians',\n",
       " 'random',\n",
       " 'ravel',\n",
       " 'ravel_multi_index',\n",
       " 'real',\n",
       " 'real_if_close',\n",
       " 'rec',\n",
       " 'recarray',\n",
       " 'recfromcsv',\n",
       " 'recfromtxt',\n",
       " 'reciprocal',\n",
       " 'record',\n",
       " 'remainder',\n",
       " 'repeat',\n",
       " 'require',\n",
       " 'reshape',\n",
       " 'resize',\n",
       " 'result_type',\n",
       " 'right_shift',\n",
       " 'rint',\n",
       " 'roll',\n",
       " 'rollaxis',\n",
       " 'roots',\n",
       " 'rot90',\n",
       " 'round',\n",
       " 'round_',\n",
       " 'row_stack',\n",
       " 's_',\n",
       " 'safe_eval',\n",
       " 'save',\n",
       " 'savetxt',\n",
       " 'savez',\n",
       " 'savez_compressed',\n",
       " 'sctype2char',\n",
       " 'sctypeDict',\n",
       " 'sctypes',\n",
       " 'searchsorted',\n",
       " 'select',\n",
       " 'set_numeric_ops',\n",
       " 'set_printoptions',\n",
       " 'set_string_function',\n",
       " 'setbufsize',\n",
       " 'setdiff1d',\n",
       " 'seterr',\n",
       " 'seterrcall',\n",
       " 'seterrobj',\n",
       " 'setxor1d',\n",
       " 'shape',\n",
       " 'shares_memory',\n",
       " 'short',\n",
       " 'show_config',\n",
       " 'show_runtime',\n",
       " 'sign',\n",
       " 'signbit',\n",
       " 'signedinteger',\n",
       " 'sin',\n",
       " 'sinc',\n",
       " 'single',\n",
       " 'singlecomplex',\n",
       " 'sinh',\n",
       " 'size',\n",
       " 'sometrue',\n",
       " 'sort',\n",
       " 'sort_complex',\n",
       " 'source',\n",
       " 'spacing',\n",
       " 'split',\n",
       " 'sqrt',\n",
       " 'square',\n",
       " 'squeeze',\n",
       " 'stack',\n",
       " 'std',\n",
       " 'str_',\n",
       " 'string_',\n",
       " 'subtract',\n",
       " 'sum',\n",
       " 'swapaxes',\n",
       " 'take',\n",
       " 'take_along_axis',\n",
       " 'tan',\n",
       " 'tanh',\n",
       " 'tensordot',\n",
       " 'test',\n",
       " 'testing',\n",
       " 'tile',\n",
       " 'timedelta64',\n",
       " 'trace',\n",
       " 'tracemalloc_domain',\n",
       " 'transpose',\n",
       " 'trapz',\n",
       " 'tri',\n",
       " 'tril',\n",
       " 'tril_indices',\n",
       " 'tril_indices_from',\n",
       " 'trim_zeros',\n",
       " 'triu',\n",
       " 'triu_indices',\n",
       " 'triu_indices_from',\n",
       " 'true_divide',\n",
       " 'trunc',\n",
       " 'typecodes',\n",
       " 'typename',\n",
       " 'ubyte',\n",
       " 'ufunc',\n",
       " 'uint',\n",
       " 'uint16',\n",
       " 'uint32',\n",
       " 'uint64',\n",
       " 'uint8',\n",
       " 'uintc',\n",
       " 'uintp',\n",
       " 'ulonglong',\n",
       " 'unicode_',\n",
       " 'union1d',\n",
       " 'unique',\n",
       " 'unpackbits',\n",
       " 'unravel_index',\n",
       " 'unsignedinteger',\n",
       " 'unwrap',\n",
       " 'use_hugepage',\n",
       " 'ushort',\n",
       " 'vander',\n",
       " 'var',\n",
       " 'vdot',\n",
       " 'vectorize',\n",
       " 'version',\n",
       " 'void',\n",
       " 'vsplit',\n",
       " 'vstack',\n",
       " 'where',\n",
       " 'who',\n",
       " 'zeros',\n",
       " 'zeros_like']"
      ]
     },
     "execution_count": 46,
     "metadata": {},
     "output_type": "execute_result"
    }
   ],
   "source": [
    "import numpy as np\n",
    "dir(np)"
   ]
  },
  {
   "cell_type": "markdown",
   "id": "7194dd8c",
   "metadata": {},
   "source": [
    "### 46) What are the arithmetic operators supported by Numpy arrays? Illustrate with examples."
   ]
  },
  {
   "cell_type": "code",
   "execution_count": 47,
   "id": "5ae7cd44",
   "metadata": {},
   "outputs": [
    {
     "name": "stdout",
     "output_type": "stream",
     "text": [
      "Using the + operator: [ 3  7 11 15]\n",
      "Using the add() function: [ 3  7 11 15]\n"
     ]
    }
   ],
   "source": [
    "import numpy as np\n",
    "\n",
    "first_array = np.array([1, 3, 5, 7])\n",
    "second_array = np.array([2, 4, 6, 8])\n",
    "\n",
    "# using the + operator\n",
    "result1 = first_array + second_array\n",
    "print(\"Using the + operator:\",result1) \n",
    "\n",
    "# using the add() function\n",
    "result2 = np.add(first_array, second_array)\n",
    "print(\"Using the add() function:\",result2)"
   ]
  },
  {
   "cell_type": "code",
   "execution_count": 48,
   "id": "a8b7d11d",
   "metadata": {},
   "outputs": [
    {
     "name": "stdout",
     "output_type": "stream",
     "text": [
      "Using the - operator: [ 1  5 19 65]\n",
      "Using the subtract() function: [ 1  5 19 65]\n"
     ]
    }
   ],
   "source": [
    "import numpy as np\n",
    "\n",
    "first_array = np.array([3, 9, 27, 81])\n",
    "second_array = np.array([2, 4, 8, 16])\n",
    "\n",
    "# using the - operator\n",
    "result1 = first_array - second_array\n",
    "print(\"Using the - operator:\",result1) \n",
    "\n",
    "# using the subtract() function\n",
    "result2 = np.subtract(first_array, second_array)\n",
    "print(\"Using the subtract() function:\",result2) "
   ]
  },
  {
   "cell_type": "code",
   "execution_count": 49,
   "id": "73792e15",
   "metadata": {},
   "outputs": [
    {
     "name": "stdout",
     "output_type": "stream",
     "text": [
      "Using the * operator: [ 2 12 30 56]\n",
      "Using the multiply() function: [ 2 12 30 56]\n"
     ]
    }
   ],
   "source": [
    "import numpy as np\n",
    "\n",
    "first_array = np.array([1, 3, 5, 7])\n",
    "second_array = np.array([2, 4, 6, 8])\n",
    "\n",
    "# using the * operator\n",
    "result1 = first_array * second_array\n",
    "print(\"Using the * operator:\",result1) \n",
    "\n",
    "# using the multiply() function\n",
    "result2 = np.multiply(first_array, second_array)\n",
    "print(\"Using the multiply() function:\",result2) "
   ]
  },
  {
   "cell_type": "code",
   "execution_count": 50,
   "id": "d1378c20",
   "metadata": {},
   "outputs": [
    {
     "name": "stdout",
     "output_type": "stream",
     "text": [
      "Using the / operator: [0.25 0.4  0.5 ]\n",
      "Using the divide() function: [0.25 0.4  0.5 ]\n"
     ]
    }
   ],
   "source": [
    "import numpy as np\n",
    "\n",
    "first_array = np.array([1, 2, 3])\n",
    "second_array = np.array([4, 5, 6])\n",
    "\n",
    "# using the / operator\n",
    "result1 = first_array / second_array\n",
    "print(\"Using the / operator:\",result1) \n",
    "\n",
    "# using the divide() function\n",
    "result2 = np.divide(first_array, second_array)\n",
    "print(\"Using the divide() function:\",result2) "
   ]
  },
  {
   "cell_type": "code",
   "execution_count": 51,
   "id": "9b8dfbb1",
   "metadata": {},
   "outputs": [
    {
     "name": "stdout",
     "output_type": "stream",
     "text": [
      "Using the ** operator: [1 4 9]\n",
      "Using the power() function: [1 4 9]\n"
     ]
    }
   ],
   "source": [
    "import numpy as np\n",
    "\n",
    "array1 = np.array([1, 2, 3])\n",
    "\n",
    "# using the ** operator\n",
    "result1 = array1 ** 2\n",
    "print(\"Using the ** operator:\",result1) \n",
    "\n",
    "# using the power() function\n",
    "result2 = np.power(array1, 2)\n",
    "print(\"Using the power() function:\",result2) "
   ]
  },
  {
   "cell_type": "code",
   "execution_count": 52,
   "id": "17c74831",
   "metadata": {},
   "outputs": [
    {
     "name": "stdout",
     "output_type": "stream",
     "text": [
      "Using the % operator: [1 0 6]\n",
      "Using the mod() function: [1 0 6]\n"
     ]
    }
   ],
   "source": [
    "import numpy as np\n",
    "\n",
    "first_array = np.array([9, 10, 20])\n",
    "second_array = np.array([2, 5, 7])\n",
    "\n",
    "# using the % operator\n",
    "result1 = first_array % second_array\n",
    "print(\"Using the % operator:\",result1) \n",
    "\n",
    "# using the mod() function\n",
    "result2 = np.mod(first_array, second_array)\n",
    "print(\"Using the mod() function:\",result2)"
   ]
  },
  {
   "cell_type": "markdown",
   "id": "f6d64b80",
   "metadata": {},
   "source": [
    "### 47) What is array broadcasting? How is it useful? Illustrate with an example.\n",
    "#### The term broadcasting describes how numpy treats arrays with different shapes during arithmetic operations.\n",
    "#### Broadcasting provides a means of vectorizing array operations so that looping occurs in C instead of Python. It does this without making needless copies of data and usually leads to efficient algorithm implementations."
   ]
  },
  {
   "cell_type": "markdown",
   "id": "03c6eace",
   "metadata": {},
   "source": [
    "### 48) Give some examples of arrays that are compatible for broadcasting? "
   ]
  },
  {
   "cell_type": "code",
   "execution_count": 60,
   "id": "bb528f3a",
   "metadata": {},
   "outputs": [
    {
     "name": "stdout",
     "output_type": "stream",
     "text": [
      "[450 350   0  30]\n"
     ]
    }
   ],
   "source": [
    "\n",
    "import numpy as np\n",
    " \n",
    "a = np.array([5, 7, 3, 1])\n",
    "b = np.array([90, 50, 0, 30])\n",
    " \n",
    "# array are compatible because of same Dimension\n",
    "c = a * b\n",
    "print(c)"
   ]
  },
  {
   "cell_type": "markdown",
   "id": "1fccef95",
   "metadata": {},
   "source": [
    "### 49) Give some examples of arrays that are not compatible for broadcasting?\n"
   ]
  },
  {
   "cell_type": "code",
   "execution_count": 62,
   "id": "4e5d9d1a",
   "metadata": {},
   "outputs": [
    {
     "ename": "ValueError",
     "evalue": "operands could not be broadcast together with shapes (4,3) (4,) ",
     "output_type": "error",
     "traceback": [
      "\u001b[1;31m---------------------------------------------------------------------------\u001b[0m",
      "\u001b[1;31mValueError\u001b[0m                                Traceback (most recent call last)",
      "Cell \u001b[1;32mIn[62], line 12\u001b[0m\n\u001b[0;32m      7\u001b[0m np\u001b[38;5;241m.\u001b[39marray([[  \u001b[38;5;241m1.\u001b[39m,   \u001b[38;5;241m2.\u001b[39m,   \u001b[38;5;241m3.\u001b[39m],\n\u001b[0;32m      8\u001b[0m         [\u001b[38;5;241m11.\u001b[39m,  \u001b[38;5;241m12.\u001b[39m,  \u001b[38;5;241m13.\u001b[39m],\n\u001b[0;32m      9\u001b[0m         [\u001b[38;5;241m21.\u001b[39m,  \u001b[38;5;241m22.\u001b[39m,  \u001b[38;5;241m23.\u001b[39m],\n\u001b[0;32m     10\u001b[0m         [\u001b[38;5;241m31.\u001b[39m,  \u001b[38;5;241m32.\u001b[39m,  \u001b[38;5;241m33.\u001b[39m]])\n\u001b[0;32m     11\u001b[0m b \u001b[38;5;241m=\u001b[39m np\u001b[38;5;241m.\u001b[39marray([\u001b[38;5;241m1.0\u001b[39m, \u001b[38;5;241m2.0\u001b[39m, \u001b[38;5;241m3.0\u001b[39m, \u001b[38;5;241m4.0\u001b[39m])\n\u001b[1;32m---> 12\u001b[0m a \u001b[38;5;241m+\u001b[39m b\n",
      "\u001b[1;31mValueError\u001b[0m: operands could not be broadcast together with shapes (4,3) (4,) "
     ]
    }
   ],
   "source": [
    "a = np.array([[ 0.0,  0.0,  0.0],\n",
    "              [10.0, 10.0, 10.0],\n",
    "              [20.0, 20.0, 20.0],\n",
    "              [30.0, 30.0, 30.0]])\n",
    "b = np.array([1.0, 2.0, 3.0])\n",
    "a + b\n",
    "np.array([[  1.,   2.,   3.],\n",
    "        [11.,  12.,  13.],\n",
    "        [21.,  22.,  23.],\n",
    "        [31.,  32.,  33.]])\n",
    "b = np.array([1.0, 2.0, 3.0, 4.0])\n",
    "a + b"
   ]
  },
  {
   "cell_type": "markdown",
   "id": "a54f633a",
   "metadata": {},
   "source": [
    "### 50) What are the comparison operators supported by Numpy arrays? Illustrate with examples.\n"
   ]
  },
  {
   "cell_type": "code",
   "execution_count": 63,
   "id": "47087f35",
   "metadata": {},
   "outputs": [
    {
     "name": "stdout",
     "output_type": "stream",
     "text": [
      "array1 < array2: [ True False False]\n",
      "array1 > array2: [False False  True]\n",
      "array1 == array2: [False  True False]\n"
     ]
    }
   ],
   "source": [
    "import numpy as np\n",
    "\n",
    "array1 = np.array([1, 2, 3])\n",
    "array2 = np.array([3, 2, 1])\n",
    "\n",
    "# less than operator\n",
    "result1 = array1 < array2\n",
    "print(\"array1 < array2:\",result1)    # Output: [ True False False]\n",
    "\n",
    "# greater than operator\n",
    "result2 = array1 > array2\n",
    "print(\"array1 > array2:\",result2)    # Output: [False False  True]\n",
    "\n",
    "# equal to operator\n",
    "result3 = array1 == array2\n",
    "print(\"array1 == array2:\",result3)    # Output: [False  True False]"
   ]
  },
  {
   "cell_type": "markdown",
   "id": "7319dbe3",
   "metadata": {},
   "source": [
    "### 51) How do you access a specific subarray or slice from a Numpy array?\n"
   ]
  },
  {
   "cell_type": "code",
   "execution_count": 64,
   "id": "f4cf3eb2",
   "metadata": {},
   "outputs": [
    {
     "name": "stdout",
     "output_type": "stream",
     "text": [
      "[ 4  6  8 10]\n"
     ]
    }
   ],
   "source": [
    "#import the necessary library\n",
    "import numpy as np\n",
    " \n",
    "array1 = np.array([2, 4, 6, 8, 10])\n",
    " \n",
    "print(array1[1:])"
   ]
  },
  {
   "cell_type": "markdown",
   "id": "d1346dab",
   "metadata": {},
   "source": [
    "### 52) Illustrate array indexing and slicing in multi-dimensional Numpy arrays with some examples.\n"
   ]
  },
  {
   "cell_type": "code",
   "execution_count": 65,
   "id": "2683107f",
   "metadata": {},
   "outputs": [
    {
     "name": "stdout",
     "output_type": "stream",
     "text": [
      "8\n"
     ]
    }
   ],
   "source": [
    "import numpy as np\n",
    "\n",
    "a2 = np.array([[1, 2, 3],\n",
    "              [4, 5, 6],\n",
    "              [7, 8, 9]])\n",
    "print(a2[2, 1])"
   ]
  },
  {
   "cell_type": "markdown",
   "id": "6f25ba14",
   "metadata": {},
   "source": [
    "### 53) How do you create a Numpy array with a given shape containing all zeros?\n"
   ]
  },
  {
   "cell_type": "code",
   "execution_count": 66,
   "id": "2ca0af9a",
   "metadata": {},
   "outputs": [
    {
     "data": {
      "text/plain": [
       "array([[0., 0., 0., 0.],\n",
       "       [0., 0., 0., 0.]])"
      ]
     },
     "execution_count": 66,
     "metadata": {},
     "output_type": "execute_result"
    }
   ],
   "source": [
    "np.zeros((2,4))"
   ]
  },
  {
   "cell_type": "markdown",
   "id": "d79f6a76",
   "metadata": {},
   "source": [
    "### 54) How do you create a Numpy array with a given shape containing all ones?\n"
   ]
  },
  {
   "cell_type": "code",
   "execution_count": 67,
   "id": "73fdb077",
   "metadata": {},
   "outputs": [
    {
     "data": {
      "text/plain": [
       "array([[1., 1., 1., 1.],\n",
       "       [1., 1., 1., 1.]])"
      ]
     },
     "execution_count": 67,
     "metadata": {},
     "output_type": "execute_result"
    }
   ],
   "source": [
    "np.ones((2,4))\n"
   ]
  },
  {
   "cell_type": "markdown",
   "id": "2f70e2b5",
   "metadata": {},
   "source": [
    "### 55) How do you create an identity matrix of a given shape?\n"
   ]
  },
  {
   "cell_type": "code",
   "execution_count": 68,
   "id": "c651b0b6",
   "metadata": {},
   "outputs": [
    {
     "name": "stdout",
     "output_type": "stream",
     "text": [
      "Enter the dimension of identitiy matrix: 20\n",
      "[[1 0 0 0 0 0 0 0 0 0 0 0 0 0 0 0 0 0 0 0]\n",
      " [0 1 0 0 0 0 0 0 0 0 0 0 0 0 0 0 0 0 0 0]\n",
      " [0 0 1 0 0 0 0 0 0 0 0 0 0 0 0 0 0 0 0 0]\n",
      " [0 0 0 1 0 0 0 0 0 0 0 0 0 0 0 0 0 0 0 0]\n",
      " [0 0 0 0 1 0 0 0 0 0 0 0 0 0 0 0 0 0 0 0]\n",
      " [0 0 0 0 0 1 0 0 0 0 0 0 0 0 0 0 0 0 0 0]\n",
      " [0 0 0 0 0 0 1 0 0 0 0 0 0 0 0 0 0 0 0 0]\n",
      " [0 0 0 0 0 0 0 1 0 0 0 0 0 0 0 0 0 0 0 0]\n",
      " [0 0 0 0 0 0 0 0 1 0 0 0 0 0 0 0 0 0 0 0]\n",
      " [0 0 0 0 0 0 0 0 0 1 0 0 0 0 0 0 0 0 0 0]\n",
      " [0 0 0 0 0 0 0 0 0 0 1 0 0 0 0 0 0 0 0 0]\n",
      " [0 0 0 0 0 0 0 0 0 0 0 1 0 0 0 0 0 0 0 0]\n",
      " [0 0 0 0 0 0 0 0 0 0 0 0 1 0 0 0 0 0 0 0]\n",
      " [0 0 0 0 0 0 0 0 0 0 0 0 0 1 0 0 0 0 0 0]\n",
      " [0 0 0 0 0 0 0 0 0 0 0 0 0 0 1 0 0 0 0 0]\n",
      " [0 0 0 0 0 0 0 0 0 0 0 0 0 0 0 1 0 0 0 0]\n",
      " [0 0 0 0 0 0 0 0 0 0 0 0 0 0 0 0 1 0 0 0]\n",
      " [0 0 0 0 0 0 0 0 0 0 0 0 0 0 0 0 0 1 0 0]\n",
      " [0 0 0 0 0 0 0 0 0 0 0 0 0 0 0 0 0 0 1 0]\n",
      " [0 0 0 0 0 0 0 0 0 0 0 0 0 0 0 0 0 0 0 1]]\n"
     ]
    }
   ],
   "source": [
    "import numpy as np\n",
    "\n",
    "dimension = int(input(\"Enter the dimension of identitiy matrix: \"))\n",
    "identity_matrix = np.identity(dimension, dtype=\"int\")\n",
    "print(identity_matrix)"
   ]
  },
  {
   "cell_type": "markdown",
   "id": "212a4763",
   "metadata": {},
   "source": [
    "### 56) How do you create a random vector of a given length?"
   ]
  },
  {
   "cell_type": "code",
   "execution_count": 71,
   "id": "e50a7998",
   "metadata": {},
   "outputs": [
    {
     "name": "stdout",
     "output_type": "stream",
     "text": [
      "Vector of length 5 filled with arbitrary integers from 0 to 10:\n",
      "[ 6  4  5  4 10]\n"
     ]
    }
   ],
   "source": [
    "import numpy as np\n",
    "x = np.random.randint(0, 11, 5)\n",
    "print(\"Vector of length 5 filled with arbitrary integers from 0 to 10:\")\n",
    "print(x)"
   ]
  },
  {
   "cell_type": "markdown",
   "id": "9fcc57a3",
   "metadata": {},
   "source": [
    "### 57) How do you create a Numpy array with a given shape with a fixed value for each element?\n"
   ]
  },
  {
   "cell_type": "code",
   "execution_count": 72,
   "id": "95b13979",
   "metadata": {},
   "outputs": [
    {
     "name": "stdout",
     "output_type": "stream",
     "text": [
      "[0. 0. 0. 0.]\n"
     ]
    }
   ],
   "source": [
    "import numpy as np\n",
    "\n",
    "a1 = np.zeros(4)\n",
    "print(a1)"
   ]
  },
  {
   "cell_type": "markdown",
   "id": "24972e81",
   "metadata": {},
   "source": [
    "### 58) How do you create a Numpy array with a given shape containing randomly initialized elements?\n"
   ]
  },
  {
   "cell_type": "code",
   "execution_count": 73,
   "id": "2af3b282",
   "metadata": {},
   "outputs": [
    {
     "name": "stdout",
     "output_type": "stream",
     "text": [
      "First array 7\n",
      "Second array [[15 34 42 81 67]\n",
      " [26 31 21 30 63]\n",
      " [40 29 61 49 15]\n",
      " [11 72 66 27 11]]\n",
      "Third array [[62 70]\n",
      " [72 64]]\n"
     ]
    }
   ],
   "source": [
    "import numpy as np\n",
    "\n",
    "# if the shape is not mentioned the output will just be a random integer in the given range\n",
    "rand_int = np.random.randint(5,10)  \n",
    "print(\"First array\", rand_int)\n",
    "\n",
    "rand_int2 = np.random.randint(10,90,(4,5)) # random numpy array of shape (4,5)\n",
    "print(\"Second array\", rand_int2)\n",
    "\n",
    "rand_int3 = np.random.randint(50,75,(2,2), dtype='int64')\n",
    "print(\"Third array\", rand_int3)"
   ]
  },
  {
   "cell_type": "markdown",
   "id": "d90b88fa",
   "metadata": {},
   "source": [
    "### 59) What is the difference between np.random.rand and np.random.randn? Illustrate with examples.\n",
    "### numpy.random.randn generates samples from the normal distribution, while numpy.random.rand from uniform (in range [0,1))."
   ]
  },
  {
   "cell_type": "code",
   "execution_count": 75,
   "id": "639fef57",
   "metadata": {},
   "outputs": [
    {
     "data": {
      "image/png": "[encoded data removed]",
      "text/plain": [
       "<Figure size 640x480 with 1 Axes>"
      ]
     },
     "metadata": {},
     "output_type": "display_data"
    },
    {
     "data": {
      "image/png": "[encoded data removed]",
      "text/plain": [
       "<Figure size 640x480 with 1 Axes>"
      ]
     },
     "metadata": {},
     "output_type": "display_data"
    }
   ],
   "source": [
    "import numpy as np\n",
    "import matplotlib.pyplot as plt\n",
    "\n",
    "sample_size = 100000\n",
    "uniform = np.random.rand(sample_size)\n",
    "normal = np.random.randn(sample_size)\n",
    "\n",
    "pdf, bins, patches = plt.hist(uniform, bins=20, range=(0, 1), density=True)\n",
    "plt.title('rand: uniform')\n",
    "plt.show()\n",
    "\n",
    "pdf, bins, patches = plt.hist(normal, bins=20, range=(-4, 4), density=True)\n",
    "plt.title('randn: normal')\n",
    "plt.show()"
   ]
  },
  {
   "cell_type": "markdown",
   "id": "447377cf",
   "metadata": {},
   "source": [
    "### 60) What is the difference between np.arange and np.linspace? Illustrate with examples.\n",
    "#### np.arange : Return evenly spaced values within a given interval.\n",
    "#### np.linspace : Return evenly spaced numbers over a specified interval.\n"
   ]
  },
  {
   "cell_type": "code",
   "execution_count": 77,
   "id": "0bc8ab8c",
   "metadata": {},
   "outputs": [
    {
     "data": {
      "text/plain": [
       "array([0. , 0.1, 0.2, 0.3, 0.4, 0.5, 0.6, 0.7, 0.8, 0.9, 1. ])"
      ]
     },
     "execution_count": 77,
     "metadata": {},
     "output_type": "execute_result"
    }
   ],
   "source": [
    "np.linspace(0,1,11)\n",
    "np.array([0. , 0.1, 0.2, 0.3, 0.4, 0.5, 0.6, 0.7, 0.8, 0.9, 1. ])"
   ]
  },
  {
   "cell_type": "code",
   "execution_count": 78,
   "id": "0b1e8d44",
   "metadata": {},
   "outputs": [
    {
     "data": {
      "text/plain": [
       "array([0. , 0.1, 0.2, 0.3, 0.4, 0.5, 0.6, 0.7, 0.8, 0.9])"
      ]
     },
     "execution_count": 78,
     "metadata": {},
     "output_type": "execute_result"
    }
   ],
   "source": [
    "np.arange(0,1,.1)\n",
    "np.array([0. , 0.1, 0.2, 0.3, 0.4, 0.5, 0.6, 0.7, 0.8, 0.9])"
   ]
  },
  {
   "cell_type": "markdown",
   "id": "3559e188",
   "metadata": {},
   "source": [
    "### 1. Import the numpy package under the name np"
   ]
  },
  {
   "cell_type": "code",
   "execution_count": 79,
   "id": "37821d2d",
   "metadata": {},
   "outputs": [],
   "source": [
    "import numpy as np"
   ]
  },
  {
   "cell_type": "markdown",
   "id": "34a979dd",
   "metadata": {},
   "source": [
    "### 2. Print the numpy version and the configuration"
   ]
  },
  {
   "cell_type": "code",
   "execution_count": 80,
   "id": "c6c8a02a",
   "metadata": {},
   "outputs": [
    {
     "name": "stdout",
     "output_type": "stream",
     "text": [
      "1.24.3\n",
      "blas_armpl_info:\n",
      "  NOT AVAILABLE\n",
      "blas_mkl_info:\n",
      "    libraries = ['mkl_rt']\n",
      "    library_dirs = ['C:/Users/furqan ahmed/New folder\\\\Library\\\\lib']\n",
      "    define_macros = [('SCIPY_MKL_H', None), ('HAVE_CBLAS', None)]\n",
      "    include_dirs = ['C:/Users/furqan ahmed/New folder\\\\Library\\\\include']\n",
      "blas_opt_info:\n",
      "    libraries = ['mkl_rt']\n",
      "    library_dirs = ['C:/Users/furqan ahmed/New folder\\\\Library\\\\lib']\n",
      "    define_macros = [('SCIPY_MKL_H', None), ('HAVE_CBLAS', None)]\n",
      "    include_dirs = ['C:/Users/furqan ahmed/New folder\\\\Library\\\\include']\n",
      "lapack_armpl_info:\n",
      "  NOT AVAILABLE\n",
      "lapack_mkl_info:\n",
      "    libraries = ['mkl_rt']\n",
      "    library_dirs = ['C:/Users/furqan ahmed/New folder\\\\Library\\\\lib']\n",
      "    define_macros = [('SCIPY_MKL_H', None), ('HAVE_CBLAS', None)]\n",
      "    include_dirs = ['C:/Users/furqan ahmed/New folder\\\\Library\\\\include']\n",
      "lapack_opt_info:\n",
      "    libraries = ['mkl_rt']\n",
      "    library_dirs = ['C:/Users/furqan ahmed/New folder\\\\Library\\\\lib']\n",
      "    define_macros = [('SCIPY_MKL_H', None), ('HAVE_CBLAS', None)]\n",
      "    include_dirs = ['C:/Users/furqan ahmed/New folder\\\\Library\\\\include']\n",
      "Supported SIMD extensions in this NumPy install:\n",
      "    baseline = SSE,SSE2,SSE3\n",
      "    found = SSSE3,SSE41,POPCNT,SSE42,AVX,F16C,FMA3,AVX2\n",
      "    not found = AVX512F,AVX512CD,AVX512_SKX,AVX512_CLX,AVX512_CNL,AVX512_ICL\n",
      "None\n"
     ]
    }
   ],
   "source": [
    "import numpy as np\n",
    "print(np.__version__)\n",
    "print(np.show_config())"
   ]
  },
  {
   "cell_type": "markdown",
   "id": "4b0171db",
   "metadata": {},
   "source": [
    "### 3. Create a null vector of size 10"
   ]
  },
  {
   "cell_type": "code",
   "execution_count": 81,
   "id": "d9ae2b10",
   "metadata": {},
   "outputs": [
    {
     "name": "stdout",
     "output_type": "stream",
     "text": [
      "[0. 0. 0. 0. 0. 0. 0. 0. 0. 0.]\n"
     ]
    }
   ],
   "source": [
    "import numpy as np\n",
    "x = np.zeros(10)\n",
    "print(x)"
   ]
  },
  {
   "cell_type": "markdown",
   "id": "8f65ff5c",
   "metadata": {},
   "source": [
    "### 4. How to find the memory size of any array"
   ]
  },
  {
   "cell_type": "code",
   "execution_count": 82,
   "id": "92a6b7aa",
   "metadata": {},
   "outputs": [
    {
     "name": "stdout",
     "output_type": "stream",
     "text": [
      "Size of the array:  3\n",
      "Memory size of one array element in bytes:  4\n",
      "Memory size of numpy array in bytes: 12\n"
     ]
    }
   ],
   "source": [
    "# import library\n",
    "import numpy as np\n",
    " \n",
    "# create a numpy 1d-array\n",
    "x = np.array([100,20,34])\n",
    " \n",
    "print(\"Size of the array: \",\n",
    "      x.size)\n",
    " \n",
    "print(\"Memory size of one array element in bytes: \",\n",
    "      x.itemsize)\n",
    " \n",
    "# memory size of numpy array in bytes\n",
    "print(\"Memory size of numpy array in bytes:\",\n",
    "      x.size * x.itemsize)"
   ]
  },
  {
   "cell_type": "markdown",
   "id": "b65097c6",
   "metadata": {},
   "source": [
    "### 5. How to get the documentation of the numpy add function from the command line?"
   ]
  },
  {
   "cell_type": "code",
   "execution_count": 84,
   "id": "950941f0",
   "metadata": {},
   "outputs": [
    {
     "name": "stdout",
     "output_type": "stream",
     "text": [
      "add(x1, x2, /, out=None, *, where=True, casting='same_kind', order='K', dtype=None, subok=True[, signature, extobj])\n",
      "\n",
      "Add arguments element-wise.\n",
      "\n",
      "Parameters\n",
      "----------\n",
      "x1, x2 : array_like\n",
      "    The arrays to be added.\n",
      "    If ``x1.shape != x2.shape``, they must be broadcastable to a common\n",
      "    shape (which becomes the shape of the output).\n",
      "out : ndarray, None, or tuple of ndarray and None, optional\n",
      "    A location into which the result is stored. If provided, it must have\n",
      "    a shape that the inputs broadcast to. If not provided or None,\n",
      "    a freshly-allocated array is returned. A tuple (possible only as a\n",
      "    keyword argument) must have length equal to the number of outputs.\n",
      "where : array_like, optional\n",
      "    This condition is broadcast over the input. At locations where the\n",
      "    condition is True, the `out` array will be set to the ufunc result.\n",
      "    Elsewhere, the `out` array will retain its original value.\n",
      "    Note that if an uninitialized `out` array is created via the default\n",
      "    ``out=None``, locations within it where the condition is False will\n",
      "    remain uninitialized.\n",
      "**kwargs\n",
      "    For other keyword-only arguments, see the\n",
      "    :ref:`ufunc docs <ufuncs.kwargs>`.\n",
      "\n",
      "Returns\n",
      "-------\n",
      "add : ndarray or scalar\n",
      "    The sum of `x1` and `x2`, element-wise.\n",
      "    This is a scalar if both `x1` and `x2` are scalars.\n",
      "\n",
      "Notes\n",
      "-----\n",
      "Equivalent to `x1` + `x2` in terms of array broadcasting.\n",
      "\n",
      "Examples\n",
      "--------\n",
      ">>> np.add(1.0, 4.0)\n",
      "5.0\n",
      ">>> x1 = np.arange(9.0).reshape((3, 3))\n",
      ">>> x2 = np.arange(3.0)\n",
      ">>> np.add(x1, x2)\n",
      "array([[  0.,   2.,   4.],\n",
      "       [  3.,   5.,   7.],\n",
      "       [  6.,   8.,  10.]])\n",
      "\n",
      "The ``+`` operator can be used as a shorthand for ``np.add`` on ndarrays.\n",
      "\n",
      ">>> x1 = np.arange(9.0).reshape((3, 3))\n",
      ">>> x2 = np.arange(3.0)\n",
      ">>> x1 + x2\n",
      "array([[ 0.,  2.,  4.],\n",
      "       [ 3.,  5.,  7.],\n",
      "       [ 6.,  8., 10.]])\n",
      "None\n"
     ]
    }
   ],
   "source": [
    "import numpy as np\n",
    "print(np.info(np.add))"
   ]
  },
  {
   "cell_type": "markdown",
   "id": "5c5423f2",
   "metadata": {},
   "source": [
    "### 6. Create a null vector of size 10 but the fifth value which is 1"
   ]
  },
  {
   "cell_type": "code",
   "execution_count": 87,
   "id": "3062df66",
   "metadata": {},
   "outputs": [
    {
     "data": {
      "text/plain": [
       "array([0., 0., 0., 0., 1., 0., 0., 0., 0., 0.])"
      ]
     },
     "execution_count": 87,
     "metadata": {},
     "output_type": "execute_result"
    }
   ],
   "source": [
    "x=np.zeros(10)\n",
    "x[4]=1\n",
    "x"
   ]
  },
  {
   "cell_type": "markdown",
   "id": "1ec2d19d",
   "metadata": {},
   "source": [
    "### 7. Create a vector with values ranging from 10 to 49"
   ]
  },
  {
   "cell_type": "code",
   "execution_count": 89,
   "id": "742e36cb",
   "metadata": {},
   "outputs": [
    {
     "name": "stdout",
     "output_type": "stream",
     "text": [
      "Original vector:\n",
      "[10 11 12 13 14 15 16 17 18 19 20 21 22 23 24 25 26 27 28 29 30 31 32 33\n",
      " 34 35 36 37 38 39 40 41 42 43 44 45 46 47 48]\n"
     ]
    }
   ],
   "source": [
    "import numpy as np\n",
    "v = np.arange(10,49)\n",
    "print(\"Original vector:\")\n",
    "print(v)\n"
   ]
  },
  {
   "cell_type": "markdown",
   "id": "90ea0d01",
   "metadata": {},
   "source": [
    "### 8. Reverse a vector (first element becomes last)\n"
   ]
  },
  {
   "cell_type": "code",
   "execution_count": 90,
   "id": "5685ee82",
   "metadata": {},
   "outputs": [
    {
     "name": "stdout",
     "output_type": "stream",
     "text": [
      "Original array:\n",
      "[12 13 14 15 16 17 18 19 20 21 22 23 24 25 26 27 28 29 30 31 32 33 34 35\n",
      " 36 37]\n",
      "Reverse array:\n",
      "[37 36 35 34 33 32 31 30 29 28 27 26 25 24 23 22 21 20 19 18 17 16 15 14\n",
      " 13 12]\n"
     ]
    }
   ],
   "source": [
    "import numpy as np\n",
    "import numpy as np\n",
    "x = np.arange(12, 38)\n",
    "print(\"Original array:\")\n",
    "print(x)\n",
    "print(\"Reverse array:\")\n",
    "x = x[::-1]\n",
    "print(x)"
   ]
  },
  {
   "cell_type": "markdown",
   "id": "2dac78cf",
   "metadata": {},
   "source": [
    "### 9. Create a 3x3 matrix with values ranging from 0 to 8\n"
   ]
  },
  {
   "cell_type": "code",
   "execution_count": 92,
   "id": "c2882bf7",
   "metadata": {},
   "outputs": [
    {
     "name": "stdout",
     "output_type": "stream",
     "text": [
      "[[0 1 2]\n",
      " [3 4 5]\n",
      " [6 7 8]]\n"
     ]
    }
   ],
   "source": [
    "import numpy as np\n",
    "x =  np.arange(0, 9).reshape(3,3)\n",
    "print(x)"
   ]
  },
  {
   "cell_type": "markdown",
   "id": "222f67ed",
   "metadata": {},
   "source": [
    "### 10. Find indices of non-zero elements from [1,2,0,0,4,0]\n"
   ]
  },
  {
   "cell_type": "code",
   "execution_count": 101,
   "id": "2cf74b0d",
   "metadata": {},
   "outputs": [
    {
     "name": "stdout",
     "output_type": "stream",
     "text": [
      "1\n",
      "2\n",
      "4\n"
     ]
    }
   ],
   "source": [
    "arr = np.array([1,2,0,0,4,0])\n",
    "print(arr[0])\n",
    "print(arr[1])\n",
    "print(arr[4])"
   ]
  },
  {
   "cell_type": "markdown",
   "id": "bac80a1e",
   "metadata": {},
   "source": [
    "### 11. Create a 3x3 identity matrix (★☆☆)"
   ]
  },
  {
   "cell_type": "code",
   "execution_count": 102,
   "id": "c77d0088",
   "metadata": {},
   "outputs": [
    {
     "name": "stdout",
     "output_type": "stream",
     "text": [
      "3x3 matrix:\n",
      "[[1. 0. 0.]\n",
      " [0. 1. 0.]\n",
      " [0. 0. 1.]]\n"
     ]
    }
   ],
   "source": [
    "import numpy as np\n",
    "array_2D=np.identity(3)\n",
    "print('3x3 matrix:')\n",
    "print(array_2D)"
   ]
  },
  {
   "cell_type": "markdown",
   "id": "cbe71cfe",
   "metadata": {},
   "source": [
    "### 12. Create a 3x3x3 array with random values (★☆☆)"
   ]
  },
  {
   "cell_type": "code",
   "execution_count": 103,
   "id": "8c1c59db",
   "metadata": {},
   "outputs": [
    {
     "name": "stdout",
     "output_type": "stream",
     "text": [
      "[[[0.66170865 0.47014045 0.77740077]\n",
      "  [0.99562997 0.26103519 0.859594  ]\n",
      "  [0.05746014 0.78081268 0.06497717]]\n",
      "\n",
      " [[0.95158151 0.05190467 0.33038856]\n",
      "  [0.10210743 0.91532354 0.67039883]\n",
      "  [0.90709458 0.26766478 0.84233199]]\n",
      "\n",
      " [[0.36937047 0.23043006 0.35445072]\n",
      "  [0.6569694  0.04264093 0.10970511]\n",
      "  [0.89730921 0.61698392 0.04140162]]]\n"
     ]
    }
   ],
   "source": [
    "import numpy as np\n",
    "x = np.random.random((3,3,3))\n",
    "print(x)"
   ]
  },
  {
   "cell_type": "markdown",
   "id": "d6d41dd0",
   "metadata": {},
   "source": [
    "### 13. Create a 10x10 array with random values and find the minimum and maximum values (★☆☆)"
   ]
  },
  {
   "cell_type": "code",
   "execution_count": 104,
   "id": "66372e96",
   "metadata": {},
   "outputs": [
    {
     "name": "stdout",
     "output_type": "stream",
     "text": [
      "Original Array:\n",
      "[[0.45221066 0.61800781 0.9423729  0.53745298 0.00971345 0.76116966\n",
      "  0.86674199 0.58303479 0.99134239 0.56636553]\n",
      " [0.02605112 0.97407916 0.86081897 0.69208992 0.56759501 0.19904467\n",
      "  0.51197123 0.76946502 0.98938586 0.85328798]\n",
      " [0.91224688 0.3724753  0.78987711 0.61656134 0.39690288 0.28465117\n",
      "  0.74343222 0.42596792 0.9728869  0.81372848]\n",
      " [0.42192736 0.68348191 0.84098716 0.06569355 0.51723497 0.0710266\n",
      "  0.29851686 0.27394532 0.45414045 0.32369365]\n",
      " [0.57337576 0.84145756 0.53289767 0.50002839 0.94680004 0.98009395\n",
      "  0.69920535 0.01411517 0.04377533 0.09973246]\n",
      " [0.38834714 0.96702181 0.99942341 0.42710672 0.61144773 0.30944978\n",
      "  0.07076933 0.32101448 0.14376631 0.06069522]\n",
      " [0.65840035 0.58717806 0.61281006 0.69195576 0.29027477 0.37981469\n",
      "  0.9395439  0.65808597 0.99107445 0.4096457 ]\n",
      " [0.47948002 0.96708181 0.09152239 0.81994052 0.62149316 0.59322644\n",
      "  0.19190529 0.40048495 0.43428044 0.09275972]\n",
      " [0.30963172 0.6364371  0.38122265 0.61972091 0.25912078 0.45281536\n",
      "  0.01620843 0.370488   0.20112696 0.33547596]\n",
      " [0.42895416 0.00520247 0.96415615 0.21013914 0.86293893 0.34507718\n",
      "  0.58305437 0.23088674 0.57309552 0.55901331]]\n",
      "Minimum and Maximum Values:\n",
      "0.0052024690257469475 0.9994234076051031\n"
     ]
    }
   ],
   "source": [
    "import numpy as np\n",
    "x = np.random.random((10,10))\n",
    "print(\"Original Array:\")\n",
    "print(x) \n",
    "xmin, xmax = x.min(), x.max()\n",
    "print(\"Minimum and Maximum Values:\")\n",
    "print(xmin, xmax)"
   ]
  },
  {
   "cell_type": "markdown",
   "id": "9e365308",
   "metadata": {},
   "source": [
    "### 14. Create a random vector of size 30 and find the mean value (★☆☆)"
   ]
  },
  {
   "cell_type": "code",
   "execution_count": 105,
   "id": "f30d8da9",
   "metadata": {},
   "outputs": [
    {
     "data": {
      "text/plain": [
       "0.5141898191925335"
      ]
     },
     "execution_count": 105,
     "metadata": {},
     "output_type": "execute_result"
    }
   ],
   "source": [
    "a=np.random.random((30))\n",
    "a.mean()"
   ]
  },
  {
   "cell_type": "markdown",
   "id": "20649f2a",
   "metadata": {},
   "source": [
    "### 15. Create a 2d array with 1 on the border and 0 inside (★☆☆)"
   ]
  },
  {
   "cell_type": "code",
   "execution_count": 106,
   "id": "b44847c9",
   "metadata": {},
   "outputs": [
    {
     "name": "stdout",
     "output_type": "stream",
     "text": [
      "[[1. 1. 1. 1. 1.]\n",
      " [1. 0. 0. 0. 1.]\n",
      " [1. 0. 0. 0. 1.]\n",
      " [1. 0. 0. 0. 1.]\n",
      " [1. 0. 0. 0. 1.]\n",
      " [1. 0. 0. 0. 1.]\n",
      " [1. 0. 0. 0. 1.]\n",
      " [1. 0. 0. 0. 1.]\n",
      " [1. 0. 0. 0. 1.]\n",
      " [1. 1. 1. 1. 1.]]\n"
     ]
    }
   ],
   "source": [
    "a=np.ones((10,5))\n",
    "a[1:-1,1:-1]=0\n",
    "print(a)"
   ]
  },
  {
   "cell_type": "markdown",
   "id": "076e6b3d",
   "metadata": {},
   "source": [
    "### 16. How to add a border (filled with 0's) around an existing array? (★☆☆)"
   ]
  },
  {
   "cell_type": "code",
   "execution_count": 108,
   "id": "2218290a",
   "metadata": {},
   "outputs": [
    {
     "name": "stdout",
     "output_type": "stream",
     "text": [
      "Original array:\n",
      "[[1. 1. 1.]\n",
      " [1. 1. 1.]\n",
      " [1. 1. 1.]]\n",
      "0 on the border and 1 inside in the array\n",
      "[[0. 0. 0. 0. 0.]\n",
      " [0. 1. 1. 1. 0.]\n",
      " [0. 1. 1. 1. 0.]\n",
      " [0. 1. 1. 1. 0.]\n",
      " [0. 0. 0. 0. 0.]]\n"
     ]
    }
   ],
   "source": [
    "import numpy as np\n",
    "x = np.ones((3,3))\n",
    "print(\"Original array:\")\n",
    "print(x)\n",
    "print(\"0 on the border and 1 inside in the array\")\n",
    "x = np.pad(x, pad_width=1, mode='constant', constant_values=0)\n",
    "print(x)"
   ]
  },
  {
   "cell_type": "markdown",
   "id": "f5470a8a",
   "metadata": {},
   "source": [
    "### 17. What is the result of the following expression? (★☆☆)"
   ]
  },
  {
   "cell_type": "code",
   "execution_count": 115,
   "id": "f2a36af1",
   "metadata": {},
   "outputs": [
    {
     "name": "stdout",
     "output_type": "stream",
     "text": [
      "nan\n",
      "False\n",
      "False\n",
      "nan\n",
      "False\n"
     ]
    }
   ],
   "source": [
    "print(0 * np.nan)\n",
    "print(np.nan == np.nan)\n",
    "print(np.inf > np.nan)\n",
    "print(np.nan - np.nan)\n",
    "print(0.3 == 3 * 0.1)"
   ]
  },
  {
   "cell_type": "markdown",
   "id": "16d179b2",
   "metadata": {},
   "source": [
    "### 18. Create a 5x5 matrix with values 1,2,3,4 just below the diagonal (★☆☆)\n"
   ]
  },
  {
   "cell_type": "code",
   "execution_count": 5,
   "id": "9f389d58",
   "metadata": {},
   "outputs": [
    {
     "name": "stdout",
     "output_type": "stream",
     "text": [
      "[[0 0 0 0 0]\n",
      " [1 0 0 0 0]\n",
      " [0 2 0 0 0]\n",
      " [0 0 3 0 0]\n",
      " [0 0 0 4 0]]\n"
     ]
    }
   ],
   "source": [
    "a=np.diag(np.arange(1,5),k=-1)\n",
    "print(a)"
   ]
  },
  {
   "cell_type": "markdown",
   "id": "1bc13200",
   "metadata": {},
   "source": [
    "### 19. Create a 8x8 matrix and fill it with a checkerboard pattern (★☆☆)"
   ]
  },
  {
   "cell_type": "code",
   "execution_count": 4,
   "id": "3ad6b19e",
   "metadata": {},
   "outputs": [
    {
     "name": "stdout",
     "output_type": "stream",
     "text": [
      "Checkerboard pattern:\n",
      "[[0 1 0 1 0 1 0 1]\n",
      " [1 0 1 0 1 0 1 0]\n",
      " [0 1 0 1 0 1 0 1]\n",
      " [1 0 1 0 1 0 1 0]\n",
      " [0 1 0 1 0 1 0 1]\n",
      " [1 0 1 0 1 0 1 0]\n",
      " [0 1 0 1 0 1 0 1]\n",
      " [1 0 1 0 1 0 1 0]]\n"
     ]
    }
   ],
   "source": [
    "import numpy as np\n",
    "x = np.ones((3,3))\n",
    "print(\"Checkerboard pattern:\")\n",
    "x = np.zeros((8,8),dtype=int)\n",
    "x[1::2,::2] = 1\n",
    "x[::2,1::2] = 1\n",
    "print(x)"
   ]
  },
  {
   "cell_type": "markdown",
   "id": "84cbedc5",
   "metadata": {},
   "source": [
    "### 20. Consider a (6,7,8) shape array, what is the index (x,y,z) of the 100th element?"
   ]
  },
  {
   "cell_type": "code",
   "execution_count": 3,
   "id": "5e7d5661",
   "metadata": {},
   "outputs": [
    {
     "name": "stdout",
     "output_type": "stream",
     "text": [
      "(1, 5, 4)\n"
     ]
    }
   ],
   "source": [
    "import numpy as np\n",
    "print (np.unravel_index(100, (6,7,8)))"
   ]
  },
  {
   "cell_type": "markdown",
   "id": "274a1611",
   "metadata": {},
   "source": [
    "### 21. Create a checkerboard 8x8 matrix using the tile function (★☆☆)\n"
   ]
  },
  {
   "cell_type": "code",
   "execution_count": 7,
   "id": "d365e2b8",
   "metadata": {},
   "outputs": [
    {
     "name": "stdout",
     "output_type": "stream",
     "text": [
      "[[1 0 1 0 1 0 1 0]\n",
      " [0 1 0 1 0 1 0 1]\n",
      " [1 0 1 0 1 0 1 0]\n",
      " [0 1 0 1 0 1 0 1]\n",
      " [1 0 1 0 1 0 1 0]\n",
      " [0 1 0 1 0 1 0 1]\n",
      " [1 0 1 0 1 0 1 0]\n",
      " [0 1 0 1 0 1 0 1]]\n"
     ]
    }
   ],
   "source": [
    "import numpy as np\n",
    "Z = np.ones ((8,8), dtype=int)\n",
    "Z[1::2,::2]= 0\n",
    "Z[::2, 1::2] = 0\n",
    "print (Z)"
   ]
  },
  {
   "cell_type": "markdown",
   "id": "1cf21de2",
   "metadata": {},
   "source": [
    "### 22. Normalize a 5x5 random matrix (★☆☆)\n"
   ]
  },
  {
   "cell_type": "code",
   "execution_count": 8,
   "id": "3703e527",
   "metadata": {},
   "outputs": [
    {
     "name": "stdout",
     "output_type": "stream",
     "text": [
      "[[0.72436957 0.         0.64786008 0.72121375 0.90550621]\n",
      " [0.11804155 0.5422486  0.99599865 0.65895171 1.        ]\n",
      " [0.44279109 0.65379769 0.42542704 0.7204625  0.2717381 ]\n",
      " [0.46653138 0.67331385 0.60895141 0.50315007 0.29167014]\n",
      " [0.76818999 0.43273467 0.2591512  0.12417198 0.51467396]]\n"
     ]
    }
   ],
   "source": [
    "a=np.random.random((5,5))\n",
    "a_min,a_max=a.min(),a.max()\n",
    "normalize=(a-a_min)/(a_max-a_min)\n",
    "print(normalize)"
   ]
  },
  {
   "cell_type": "markdown",
   "id": "60fb641b",
   "metadata": {},
   "source": [
    "### 23. Create a custom dtype that describes a color as four unsigned bytes (RGBA) (★☆☆)"
   ]
  },
  {
   "cell_type": "code",
   "execution_count": 20,
   "id": "6200c489",
   "metadata": {},
   "outputs": [],
   "source": [
    "color = np.dtype([(\"r\", np.ubyte,  (1,)),\n",
    "                  (\"g\", np.ubyte,  (1,)),\n",
    "                  (\"b\", np.ubyte,  (1,)),\n",
    "                  (\"a\", np.ubyte,  (1,))])"
   ]
  },
  {
   "cell_type": "markdown",
   "id": "0f74d8ef",
   "metadata": {},
   "source": [
    "### 24. Multiply a 5x3 matrix by a 3x2 matrix (real matrix product) (★☆☆)"
   ]
  },
  {
   "cell_type": "code",
   "execution_count": 21,
   "id": "091934c6",
   "metadata": {},
   "outputs": [
    {
     "name": "stdout",
     "output_type": "stream",
     "text": [
      "[[3. 3.]\n",
      " [3. 3.]\n",
      " [3. 3.]\n",
      " [3. 3.]\n",
      " [3. 3.]]\n",
      "[[3. 3.]\n",
      " [3. 3.]\n",
      " [3. 3.]\n",
      " [3. 3.]\n",
      " [3. 3.]]\n"
     ]
    }
   ],
   "source": [
    "Z = np.dot(np.ones((5,3)), np.ones((3,2)))\n",
    "print(Z)\n",
    "\n",
    "# Alternative solution, in Python 3.5 and above\n",
    "Z = np.ones((5,3)) @ np.ones((3,2))\n",
    "print(Z)"
   ]
  },
  {
   "cell_type": "markdown",
   "id": "22c497ae",
   "metadata": {},
   "source": [
    "### 25. Given a 1D array, negate all elements which are between 3 and 8, in place. (★☆☆)\n"
   ]
  },
  {
   "cell_type": "code",
   "execution_count": 22,
   "id": "1c86994b",
   "metadata": {},
   "outputs": [
    {
     "name": "stdout",
     "output_type": "stream",
     "text": [
      "[ 0  1  2  3 -4 -5 -6 -7 -8  9 10]\n"
     ]
    }
   ],
   "source": [
    "Z = np.arange(11)\n",
    "Z[(3 < Z) & (Z <= 8)] *= -1\n",
    "print(Z)"
   ]
  },
  {
   "cell_type": "markdown",
   "id": "a6c43dec",
   "metadata": {},
   "source": [
    "### 26. What is the output of the following script? (★☆☆)"
   ]
  },
  {
   "cell_type": "code",
   "execution_count": 23,
   "id": "61224a9f",
   "metadata": {},
   "outputs": [
    {
     "name": "stdout",
     "output_type": "stream",
     "text": [
      "9\n",
      "10\n"
     ]
    }
   ],
   "source": [
    "print(sum(range(5),-1))\n",
    "from numpy import *\n",
    "print(sum(range(5),-1))"
   ]
  },
  {
   "cell_type": "markdown",
   "id": "02c98bd4",
   "metadata": {},
   "source": [
    "### 27. Consider an integer vector Z, which of these expressions are legal? (★☆☆)\n"
   ]
  },
  {
   "cell_type": "code",
   "execution_count": 24,
   "id": "2b069a84",
   "metadata": {},
   "outputs": [
    {
     "ename": "ValueError",
     "evalue": "Integers to negative integer powers are not allowed.",
     "output_type": "error",
     "traceback": [
      "\u001b[1;31m---------------------------------------------------------------------------\u001b[0m",
      "\u001b[1;31mValueError\u001b[0m                                Traceback (most recent call last)",
      "Cell \u001b[1;32mIn[24], line 1\u001b[0m\n\u001b[1;32m----> 1\u001b[0m Z\u001b[38;5;241m*\u001b[39m\u001b[38;5;241m*\u001b[39mZ\n\u001b[0;32m      2\u001b[0m \u001b[38;5;241m2\u001b[39m \u001b[38;5;241m<<\u001b[39m Z \u001b[38;5;241m>>\u001b[39m \u001b[38;5;241m2\u001b[39m\n\u001b[0;32m      3\u001b[0m Z \u001b[38;5;241m<\u001b[39m\u001b[38;5;241m-\u001b[39m Z\n",
      "\u001b[1;31mValueError\u001b[0m: Integers to negative integer powers are not allowed."
     ]
    }
   ],
   "source": [
    "Z**Z\n",
    "2 << Z >> 2\n",
    "Z <- Z\n",
    "1j*Z\n",
    "Z/1/1\n",
    "Z<Z>Z"
   ]
  },
  {
   "cell_type": "markdown",
   "id": "0121b40c",
   "metadata": {},
   "source": [
    "### 28. What are the result of the following expressions?\n"
   ]
  },
  {
   "cell_type": "code",
   "execution_count": 26,
   "id": "90bca18f",
   "metadata": {},
   "outputs": [
    {
     "name": "stderr",
     "output_type": "stream",
     "text": [
      "C:\\Users\\furqan ahmed\\AppData\\Local\\Temp\\ipykernel_19408\\548293649.py:1: RuntimeWarning: invalid value encountered in divide\n",
      "  np.array(0) / np.array(0)\n",
      "C:\\Users\\furqan ahmed\\AppData\\Local\\Temp\\ipykernel_19408\\548293649.py:2: RuntimeWarning: divide by zero encountered in floor_divide\n",
      "  np.array(0) // np.array(0)\n",
      "C:\\Users\\furqan ahmed\\AppData\\Local\\Temp\\ipykernel_19408\\548293649.py:3: RuntimeWarning: invalid value encountered in cast\n",
      "  np.array([np.nan]).astype(int).astype(float)\n"
     ]
    },
    {
     "data": {
      "text/plain": [
       "array([-2.14748365e+09])"
      ]
     },
     "execution_count": 26,
     "metadata": {},
     "output_type": "execute_result"
    }
   ],
   "source": [
    "np.array(0) / np.array(0)\n",
    "np.array(0) // np.array(0)\n",
    "np.array([np.nan]).astype(int).astype(float)"
   ]
  },
  {
   "cell_type": "markdown",
   "id": "4e1ce439",
   "metadata": {},
   "source": [
    "### 29. How to round away from zero a float array ? (★☆☆)\n"
   ]
  },
  {
   "cell_type": "code",
   "execution_count": 27,
   "id": "1eae8879",
   "metadata": {},
   "outputs": [
    {
     "name": "stdout",
     "output_type": "stream",
     "text": [
      "[ 4.  7. -4.  7.  4. -2.  8. -2. -2. -3.]\n"
     ]
    }
   ],
   "source": [
    "Z = np.random.uniform(-10,+10,10)\n",
    "print (np.copysign(np.ceil(np.abs(Z)), Z))"
   ]
  },
  {
   "cell_type": "markdown",
   "id": "07a25aad",
   "metadata": {},
   "source": [
    "### 30. How to find common values between two arrays? (★☆☆)\n"
   ]
  },
  {
   "cell_type": "code",
   "execution_count": 28,
   "id": "f76a417a",
   "metadata": {},
   "outputs": [
    {
     "name": "stdout",
     "output_type": "stream",
     "text": [
      "[0 1 3 5 8 9]\n"
     ]
    }
   ],
   "source": [
    "Z1 = np.random.randint(0,10,10)\n",
    "Z2 = np.random.randint(0,10,10)\n",
    "print(np.intersect1d(Z1,Z2))"
   ]
  },
  {
   "cell_type": "markdown",
   "id": "a00c3329",
   "metadata": {},
   "source": [
    "### 31. How to ignore all numpy warnings (not recommended)? (★☆☆)"
   ]
  },
  {
   "cell_type": "code",
   "execution_count": 30,
   "id": "57e08171",
   "metadata": {},
   "outputs": [],
   "source": [
    "with np.errstate(divide='ignore'):\n",
    "    Z = np.ones(1) / 0"
   ]
  },
  {
   "cell_type": "markdown",
   "id": "73d6a422",
   "metadata": {},
   "source": [
    "### 32. Is the following expressions true? (★☆☆)"
   ]
  },
  {
   "cell_type": "code",
   "execution_count": 31,
   "id": "da12ab36",
   "metadata": {},
   "outputs": [
    {
     "name": "stderr",
     "output_type": "stream",
     "text": [
      "C:\\Users\\furqan ahmed\\AppData\\Local\\Temp\\ipykernel_19408\\244602691.py:1: RuntimeWarning: invalid value encountered in sqrt\n",
      "  np.sqrt(-1) == np.emath.sqrt(-1)\n"
     ]
    },
    {
     "data": {
      "text/plain": [
       "False"
      ]
     },
     "execution_count": 31,
     "metadata": {},
     "output_type": "execute_result"
    }
   ],
   "source": [
    "np.sqrt(-1) == np.emath.sqrt(-1)"
   ]
  },
  {
   "cell_type": "markdown",
   "id": "2428a354",
   "metadata": {},
   "source": [
    "### 33. How to get the dates of yesterday, today and tomorrow? (★☆☆)"
   ]
  },
  {
   "cell_type": "code",
   "execution_count": 32,
   "id": "9250bc8b",
   "metadata": {},
   "outputs": [],
   "source": [
    "yesterday = np.datetime64('today', 'D') - np.timedelta64(1, 'D')\n",
    "today     = np.datetime64('today', 'D')\n",
    "tomorrow  = np.datetime64('today', 'D') + np.timedelta64(1, 'D')"
   ]
  },
  {
   "cell_type": "markdown",
   "id": "aad2dc86",
   "metadata": {},
   "source": [
    "### 34. How to get all the dates corresponding to the month of July 2016? (★★☆)\n"
   ]
  },
  {
   "cell_type": "code",
   "execution_count": 33,
   "id": "af0b836c",
   "metadata": {},
   "outputs": [
    {
     "name": "stdout",
     "output_type": "stream",
     "text": [
      "['2016-07-01' '2016-07-02' '2016-07-03' '2016-07-04' '2016-07-05'\n",
      " '2016-07-06' '2016-07-07' '2016-07-08' '2016-07-09' '2016-07-10'\n",
      " '2016-07-11' '2016-07-12' '2016-07-13' '2016-07-14' '2016-07-15'\n",
      " '2016-07-16' '2016-07-17' '2016-07-18' '2016-07-19' '2016-07-20'\n",
      " '2016-07-21' '2016-07-22' '2016-07-23' '2016-07-24' '2016-07-25'\n",
      " '2016-07-26' '2016-07-27' '2016-07-28' '2016-07-29' '2016-07-30'\n",
      " '2016-07-31']\n"
     ]
    }
   ],
   "source": [
    "Z = np.arange('2016-07', '2016-08', dtype='datetime64[D]')\n",
    "print(Z)"
   ]
  },
  {
   "cell_type": "markdown",
   "id": "2c95eec3",
   "metadata": {},
   "source": [
    "### 35. How to compute ((A+B)*(-A/2)) in place (without copy)? (★★☆)\n"
   ]
  },
  {
   "cell_type": "code",
   "execution_count": 34,
   "id": "3077ca01",
   "metadata": {},
   "outputs": [
    {
     "data": {
      "text/plain": [
       "array([-1.5, -1.5, -1.5])"
      ]
     },
     "execution_count": 34,
     "metadata": {},
     "output_type": "execute_result"
    }
   ],
   "source": [
    "A = np.ones(3)*1\n",
    "B = np.ones(3)*2\n",
    "C = np.ones(3)*3\n",
    "np.add(A,B,out=B)\n",
    "np.divide(A,2,out=A)\n",
    "np.negative(A,out=A)\n",
    "np.multiply(A,B,out=A)"
   ]
  },
  {
   "cell_type": "markdown",
   "id": "29af5de7",
   "metadata": {},
   "source": [
    "### 36. Extract the integer part of a random array of positive numbers using 4 different methods (★★☆)\n"
   ]
  },
  {
   "cell_type": "code",
   "execution_count": 35,
   "id": "84648014",
   "metadata": {},
   "outputs": [
    {
     "name": "stdout",
     "output_type": "stream",
     "text": [
      "[1. 2. 6. 1. 4. 4. 7. 0. 5. 5.]\n",
      "[1. 2. 6. 1. 4. 4. 7. 0. 5. 5.]\n",
      "[1. 2. 6. 1. 4. 4. 7. 0. 5. 5.]\n",
      "[1 2 6 1 4 4 7 0 5 5]\n"
     ]
    }
   ],
   "source": [
    "Z = np.random.uniform(0,10,10)\n",
    "\n",
    "print (Z - Z%1)\n",
    "print (np.floor(Z))\n",
    "print (np.ceil(Z)-1)\n",
    "print (Z.astype(int))"
   ]
  },
  {
   "cell_type": "markdown",
   "id": "762b950e",
   "metadata": {},
   "source": [
    "### 37. Create a 5x5 matrix with row values ranging from 0 to 4 (★★☆)\n"
   ]
  },
  {
   "cell_type": "code",
   "execution_count": 36,
   "id": "458eb858",
   "metadata": {},
   "outputs": [
    {
     "name": "stdout",
     "output_type": "stream",
     "text": [
      "[[0. 1. 2. 3. 4.]\n",
      " [0. 1. 2. 3. 4.]\n",
      " [0. 1. 2. 3. 4.]\n",
      " [0. 1. 2. 3. 4.]\n",
      " [0. 1. 2. 3. 4.]]\n"
     ]
    }
   ],
   "source": [
    "Z = np.zeros((5,5))\n",
    "Z += np.arange(5)\n",
    "print(Z)"
   ]
  },
  {
   "cell_type": "markdown",
   "id": "4d47d5cd",
   "metadata": {},
   "source": [
    "### 38. Consider a generator function that generates 10 integers and use it to build an array (★☆☆)\n"
   ]
  },
  {
   "cell_type": "code",
   "execution_count": 37,
   "id": "a7585f2f",
   "metadata": {},
   "outputs": [
    {
     "name": "stdout",
     "output_type": "stream",
     "text": [
      "[0. 1. 2. 3. 4. 5. 6. 7. 8. 9.]\n"
     ]
    }
   ],
   "source": [
    "def generate():\n",
    "    for x in range(10):\n",
    "        yield x\n",
    "Z = np.fromiter(generate(),dtype=float,count=-1)\n",
    "print(Z)"
   ]
  },
  {
   "cell_type": "markdown",
   "id": "c78b766f",
   "metadata": {},
   "source": [
    "### 39. Create a vector of size 10 with values ranging from 0 to 1, both excluded (★★☆)\n"
   ]
  },
  {
   "cell_type": "code",
   "execution_count": 38,
   "id": "e009ea22",
   "metadata": {},
   "outputs": [
    {
     "name": "stdout",
     "output_type": "stream",
     "text": [
      "[0.09090909 0.18181818 0.27272727 0.36363636 0.45454545 0.54545455\n",
      " 0.63636364 0.72727273 0.81818182 0.90909091]\n"
     ]
    }
   ],
   "source": [
    "Z = np.linspace(0,1,11,endpoint=False)[1:]\n",
    "print(Z)"
   ]
  },
  {
   "cell_type": "markdown",
   "id": "cf318370",
   "metadata": {},
   "source": [
    "### 40. Create a random vector of size 10 and sort it (★★☆)"
   ]
  },
  {
   "cell_type": "code",
   "execution_count": 39,
   "id": "bfa9be9b",
   "metadata": {},
   "outputs": [
    {
     "name": "stdout",
     "output_type": "stream",
     "text": [
      "[0.03046508 0.25090161 0.25515529 0.42695723 0.55019552 0.57379222\n",
      " 0.65472759 0.78688252 0.80689305 0.86883257]\n"
     ]
    }
   ],
   "source": [
    "Z = np.random.random(10)\n",
    "Z.sort()\n",
    "print(Z)"
   ]
  },
  {
   "cell_type": "markdown",
   "id": "4e9de94f",
   "metadata": {},
   "source": [
    "### 41. How to sum a small array faster than np.sum? (★★☆)\n"
   ]
  },
  {
   "cell_type": "code",
   "execution_count": 40,
   "id": "32692236",
   "metadata": {},
   "outputs": [
    {
     "data": {
      "text/plain": [
       "45"
      ]
     },
     "execution_count": 40,
     "metadata": {},
     "output_type": "execute_result"
    }
   ],
   "source": [
    "Z = np.arange(10)\n",
    "np.add.reduce(Z)"
   ]
  },
  {
   "cell_type": "markdown",
   "id": "ed70f656",
   "metadata": {},
   "source": [
    "### 42. Consider two random array A and B, check if they are equal (★★☆)\n"
   ]
  },
  {
   "cell_type": "code",
   "execution_count": 41,
   "id": "a5dc9ff7",
   "metadata": {},
   "outputs": [
    {
     "name": "stdout",
     "output_type": "stream",
     "text": [
      "False\n",
      "False\n"
     ]
    }
   ],
   "source": [
    "A = np.random.randint(0,2,5)\n",
    "B = np.random.randint(0,2,5)\n",
    "\n",
    "# Assuming identical shape of the arrays and a tolerance for the comparison of values\n",
    "equal = np.allclose(A,B)\n",
    "print(equal)\n",
    "\n",
    "# Checking both the shape and the element values, no tolerance (values have to be exactly equal)\n",
    "equal = np.array_equal(A,B)\n",
    "print(equal)"
   ]
  },
  {
   "cell_type": "markdown",
   "id": "1cfa3a4f",
   "metadata": {},
   "source": [
    "### 43. Make an array immutable (read-only) (★★☆)\n"
   ]
  },
  {
   "cell_type": "code",
   "execution_count": 42,
   "id": "e381d146",
   "metadata": {},
   "outputs": [
    {
     "ename": "ValueError",
     "evalue": "assignment destination is read-only",
     "output_type": "error",
     "traceback": [
      "\u001b[1;31m---------------------------------------------------------------------------\u001b[0m",
      "\u001b[1;31mValueError\u001b[0m                                Traceback (most recent call last)",
      "Cell \u001b[1;32mIn[42], line 3\u001b[0m\n\u001b[0;32m      1\u001b[0m Z \u001b[38;5;241m=\u001b[39m np\u001b[38;5;241m.\u001b[39mzeros(\u001b[38;5;241m10\u001b[39m)\n\u001b[0;32m      2\u001b[0m Z\u001b[38;5;241m.\u001b[39mflags\u001b[38;5;241m.\u001b[39mwriteable \u001b[38;5;241m=\u001b[39m \u001b[38;5;28;01mFalse\u001b[39;00m\n\u001b[1;32m----> 3\u001b[0m Z[\u001b[38;5;241m0\u001b[39m] \u001b[38;5;241m=\u001b[39m \u001b[38;5;241m1\u001b[39m\n",
      "\u001b[1;31mValueError\u001b[0m: assignment destination is read-only"
     ]
    }
   ],
   "source": [
    "Z = np.zeros(10)\n",
    "Z.flags.writeable = False\n",
    "Z[0] = 1"
   ]
  },
  {
   "cell_type": "markdown",
   "id": "3f69f790",
   "metadata": {},
   "source": [
    "### 44. Consider a random 10x2 matrix representing cartesian coordinates, convert them to polar coordinates (★★☆)\n"
   ]
  },
  {
   "cell_type": "code",
   "execution_count": 43,
   "id": "a49a855b",
   "metadata": {},
   "outputs": [
    {
     "name": "stdout",
     "output_type": "stream",
     "text": [
      "[0.93199589 0.44703646 0.57416608 0.73626617 0.93319781 1.11782453\n",
      " 0.72637775 1.13724153 0.36439458 1.0593433 ]\n",
      "[0.5980562  1.37309351 1.05734824 0.78753037 0.83722351 0.77153802\n",
      " 1.38072565 0.63506764 1.13355729 0.8394183 ]\n"
     ]
    }
   ],
   "source": [
    "Z = np.random.random((10,2))\n",
    "X,Y = Z[:,0], Z[:,1]\n",
    "R = np.sqrt(X**2+Y**2)\n",
    "T = np.arctan2(Y,X)\n",
    "print(R)\n",
    "print(T)"
   ]
  },
  {
   "cell_type": "markdown",
   "id": "5a049fe8",
   "metadata": {},
   "source": [
    "### 45. Create random vector of size 10 and replace the maximum value by 0 (★★☆)"
   ]
  },
  {
   "cell_type": "code",
   "execution_count": 44,
   "id": "dddcd002",
   "metadata": {},
   "outputs": [
    {
     "name": "stdout",
     "output_type": "stream",
     "text": [
      "[0.26090505 0.24176945 0.33398655 0.20482576 0.52564016 0.7687538\n",
      " 0.26409402 0.26851252 0.21028518 0.        ]\n"
     ]
    }
   ],
   "source": [
    "Z = np.random.random(10)\n",
    "Z[Z.argmax()] = 0\n",
    "print(Z)"
   ]
  },
  {
   "cell_type": "markdown",
   "id": "8bbbab6e",
   "metadata": {},
   "source": [
    "### 46. Create a structured array with x and y coordinates covering the [0,1]x[0,1] area (★★☆)"
   ]
  },
  {
   "cell_type": "code",
   "execution_count": 45,
   "id": "49edfeb5",
   "metadata": {},
   "outputs": [
    {
     "name": "stdout",
     "output_type": "stream",
     "text": [
      "[[(0.  , 0.  ) (0.25, 0.  ) (0.5 , 0.  ) (0.75, 0.  ) (1.  , 0.  )]\n",
      " [(0.  , 0.25) (0.25, 0.25) (0.5 , 0.25) (0.75, 0.25) (1.  , 0.25)]\n",
      " [(0.  , 0.5 ) (0.25, 0.5 ) (0.5 , 0.5 ) (0.75, 0.5 ) (1.  , 0.5 )]\n",
      " [(0.  , 0.75) (0.25, 0.75) (0.5 , 0.75) (0.75, 0.75) (1.  , 0.75)]\n",
      " [(0.  , 1.  ) (0.25, 1.  ) (0.5 , 1.  ) (0.75, 1.  ) (1.  , 1.  )]]\n"
     ]
    }
   ],
   "source": [
    "Z = np.zeros((5,5), [('x',float),('y',float)])\n",
    "Z['x'], Z['y'] = np.meshgrid(np.linspace(0,1,5),\n",
    "                             np.linspace(0,1,5))\n",
    "print(Z)"
   ]
  },
  {
   "cell_type": "markdown",
   "id": "a6c52ee9",
   "metadata": {},
   "source": [
    "### 47. Given two arrays, X and Y, construct the Cauchy matrix C (Cij =1/(xi - yj))\n"
   ]
  },
  {
   "cell_type": "code",
   "execution_count": 46,
   "id": "fbf73e61",
   "metadata": {},
   "outputs": [
    {
     "name": "stdout",
     "output_type": "stream",
     "text": [
      "3638.163637117973\n"
     ]
    }
   ],
   "source": [
    "X = np.arange(8)\n",
    "Y = X + 0.5\n",
    "C = 1.0 / np.subtract.outer(X, Y)\n",
    "print(np.linalg.det(C))\n"
   ]
  },
  {
   "cell_type": "markdown",
   "id": "89be4f8a",
   "metadata": {},
   "source": [
    "### 48. Print the minimum and maximum representable value for each numpy scalar type (★★☆)"
   ]
  },
  {
   "cell_type": "code",
   "execution_count": 47,
   "id": "07c09234",
   "metadata": {},
   "outputs": [
    {
     "name": "stdout",
     "output_type": "stream",
     "text": [
      "-128\n",
      "127\n",
      "-2147483648\n",
      "2147483647\n",
      "-9223372036854775808\n",
      "9223372036854775807\n",
      "-3.4028235e+38\n",
      "3.4028235e+38\n",
      "1.1920929e-07\n",
      "-1.7976931348623157e+308\n",
      "1.7976931348623157e+308\n",
      "2.220446049250313e-16\n"
     ]
    }
   ],
   "source": [
    "for dtype in [np.int8, np.int32, np.int64]:\n",
    "   print(np.iinfo(dtype).min)\n",
    "   print(np.iinfo(dtype).max)\n",
    "for dtype in [np.float32, np.float64]:\n",
    "   print(np.finfo(dtype).min)\n",
    "   print(np.finfo(dtype).max)\n",
    "   print(np.finfo(dtype).eps)"
   ]
  },
  {
   "cell_type": "markdown",
   "id": "812b9ce4",
   "metadata": {},
   "source": [
    "### 49. How to print all the values of an array? (★★☆)\n"
   ]
  },
  {
   "cell_type": "code",
   "execution_count": 48,
   "id": "ff91534b",
   "metadata": {},
   "outputs": [
    {
     "ename": "ValueError",
     "evalue": "threshold must be non-NAN, try sys.maxsize for untruncated representation",
     "output_type": "error",
     "traceback": [
      "\u001b[1;31m---------------------------------------------------------------------------\u001b[0m",
      "\u001b[1;31mValueError\u001b[0m                                Traceback (most recent call last)",
      "Cell \u001b[1;32mIn[48], line 1\u001b[0m\n\u001b[1;32m----> 1\u001b[0m np\u001b[38;5;241m.\u001b[39mset_printoptions(threshold\u001b[38;5;241m=\u001b[39mnp\u001b[38;5;241m.\u001b[39mnan)\n\u001b[0;32m      2\u001b[0m Z \u001b[38;5;241m=\u001b[39m np\u001b[38;5;241m.\u001b[39mzeros((\u001b[38;5;241m16\u001b[39m,\u001b[38;5;241m16\u001b[39m))\n\u001b[0;32m      3\u001b[0m \u001b[38;5;28mprint\u001b[39m(Z)\n",
      "File \u001b[1;32m~\\New folder\\envs\\juypter-webapp-venv\\Lib\\site-packages\\numpy\\core\\arrayprint.py:277\u001b[0m, in \u001b[0;36mset_printoptions\u001b[1;34m(precision, threshold, edgeitems, linewidth, suppress, nanstr, infstr, formatter, sign, floatmode, legacy)\u001b[0m\n\u001b[0;32m    116\u001b[0m \u001b[38;5;129m@set_module\u001b[39m(\u001b[38;5;124m'\u001b[39m\u001b[38;5;124mnumpy\u001b[39m\u001b[38;5;124m'\u001b[39m)\n\u001b[0;32m    117\u001b[0m \u001b[38;5;28;01mdef\u001b[39;00m \u001b[38;5;21mset_printoptions\u001b[39m(precision\u001b[38;5;241m=\u001b[39m\u001b[38;5;28;01mNone\u001b[39;00m, threshold\u001b[38;5;241m=\u001b[39m\u001b[38;5;28;01mNone\u001b[39;00m, edgeitems\u001b[38;5;241m=\u001b[39m\u001b[38;5;28;01mNone\u001b[39;00m,\n\u001b[0;32m    118\u001b[0m                      linewidth\u001b[38;5;241m=\u001b[39m\u001b[38;5;28;01mNone\u001b[39;00m, suppress\u001b[38;5;241m=\u001b[39m\u001b[38;5;28;01mNone\u001b[39;00m, nanstr\u001b[38;5;241m=\u001b[39m\u001b[38;5;28;01mNone\u001b[39;00m, infstr\u001b[38;5;241m=\u001b[39m\u001b[38;5;28;01mNone\u001b[39;00m,\n\u001b[0;32m    119\u001b[0m                      formatter\u001b[38;5;241m=\u001b[39m\u001b[38;5;28;01mNone\u001b[39;00m, sign\u001b[38;5;241m=\u001b[39m\u001b[38;5;28;01mNone\u001b[39;00m, floatmode\u001b[38;5;241m=\u001b[39m\u001b[38;5;28;01mNone\u001b[39;00m, \u001b[38;5;241m*\u001b[39m, legacy\u001b[38;5;241m=\u001b[39m\u001b[38;5;28;01mNone\u001b[39;00m):\n\u001b[0;32m    120\u001b[0m \u001b[38;5;250m    \u001b[39m\u001b[38;5;124;03m\"\"\"\u001b[39;00m\n\u001b[0;32m    121\u001b[0m \u001b[38;5;124;03m    Set printing options.\u001b[39;00m\n\u001b[0;32m    122\u001b[0m \n\u001b[1;32m   (...)\u001b[0m\n\u001b[0;32m    275\u001b[0m \n\u001b[0;32m    276\u001b[0m \u001b[38;5;124;03m    \"\"\"\u001b[39;00m\n\u001b[1;32m--> 277\u001b[0m     opt \u001b[38;5;241m=\u001b[39m _make_options_dict(precision, threshold, edgeitems, linewidth,\n\u001b[0;32m    278\u001b[0m                              suppress, nanstr, infstr, sign, formatter,\n\u001b[0;32m    279\u001b[0m                              floatmode, legacy)\n\u001b[0;32m    280\u001b[0m     \u001b[38;5;66;03m# formatter is always reset\u001b[39;00m\n\u001b[0;32m    281\u001b[0m     opt[\u001b[38;5;124m'\u001b[39m\u001b[38;5;124mformatter\u001b[39m\u001b[38;5;124m'\u001b[39m] \u001b[38;5;241m=\u001b[39m formatter\n",
      "File \u001b[1;32m~\\New folder\\envs\\juypter-webapp-venv\\Lib\\site-packages\\numpy\\core\\arrayprint.py:103\u001b[0m, in \u001b[0;36m_make_options_dict\u001b[1;34m(precision, threshold, edgeitems, linewidth, suppress, nanstr, infstr, sign, formatter, floatmode, legacy)\u001b[0m\n\u001b[0;32m    101\u001b[0m         \u001b[38;5;28;01mraise\u001b[39;00m \u001b[38;5;167;01mTypeError\u001b[39;00m(\u001b[38;5;124m\"\u001b[39m\u001b[38;5;124mthreshold must be numeric\u001b[39m\u001b[38;5;124m\"\u001b[39m)\n\u001b[0;32m    102\u001b[0m     \u001b[38;5;28;01mif\u001b[39;00m np\u001b[38;5;241m.\u001b[39misnan(threshold):\n\u001b[1;32m--> 103\u001b[0m         \u001b[38;5;28;01mraise\u001b[39;00m \u001b[38;5;167;01mValueError\u001b[39;00m(\u001b[38;5;124m\"\u001b[39m\u001b[38;5;124mthreshold must be non-NAN, try \u001b[39m\u001b[38;5;124m\"\u001b[39m\n\u001b[0;32m    104\u001b[0m                          \u001b[38;5;124m\"\u001b[39m\u001b[38;5;124msys.maxsize for untruncated representation\u001b[39m\u001b[38;5;124m\"\u001b[39m)\n\u001b[0;32m    106\u001b[0m \u001b[38;5;28;01mif\u001b[39;00m precision \u001b[38;5;129;01mis\u001b[39;00m \u001b[38;5;129;01mnot\u001b[39;00m \u001b[38;5;28;01mNone\u001b[39;00m:\n\u001b[0;32m    107\u001b[0m     \u001b[38;5;66;03m# forbid the bad precision arg as suggested by issue #18254\u001b[39;00m\n\u001b[0;32m    108\u001b[0m     \u001b[38;5;28;01mtry\u001b[39;00m:\n",
      "\u001b[1;31mValueError\u001b[0m: threshold must be non-NAN, try sys.maxsize for untruncated representation"
     ]
    }
   ],
   "source": [
    "np.set_printoptions(threshold=np.nan)\n",
    "Z = np.zeros((16,16))\n",
    "print(Z)"
   ]
  },
  {
   "cell_type": "markdown",
   "id": "15b70170",
   "metadata": {},
   "source": [
    "### 50. How to find the closest value (to a given scalar) in a vector? (★★☆)"
   ]
  },
  {
   "cell_type": "code",
   "execution_count": 49,
   "id": "5ac85599",
   "metadata": {},
   "outputs": [
    {
     "name": "stdout",
     "output_type": "stream",
     "text": [
      "48\n"
     ]
    }
   ],
   "source": [
    "Z = np.arange(100)\n",
    "v = np.random.uniform(0,100)\n",
    "index = (np.abs(Z-v)).argmin()\n",
    "print(Z[index])"
   ]
  },
  {
   "cell_type": "markdown",
   "id": "ab81148b",
   "metadata": {},
   "source": [
    "### 51. Create a structured array representing a position (x,y) and a color (r,g,b) (★★☆)"
   ]
  },
  {
   "cell_type": "code",
   "execution_count": 50,
   "id": "8bc7ad62",
   "metadata": {},
   "outputs": [
    {
     "name": "stdout",
     "output_type": "stream",
     "text": [
      "[((0., 0.), (0., 0., 0.)) ((0., 0.), (0., 0., 0.))\n",
      " ((0., 0.), (0., 0., 0.)) ((0., 0.), (0., 0., 0.))\n",
      " ((0., 0.), (0., 0., 0.)) ((0., 0.), (0., 0., 0.))\n",
      " ((0., 0.), (0., 0., 0.)) ((0., 0.), (0., 0., 0.))\n",
      " ((0., 0.), (0., 0., 0.)) ((0., 0.), (0., 0., 0.))]\n"
     ]
    },
    {
     "name": "stderr",
     "output_type": "stream",
     "text": [
      "C:\\Users\\furqan ahmed\\AppData\\Local\\Temp\\ipykernel_19408\\274409719.py:1: FutureWarning: Passing (type, 1) or '1type' as a synonym of type is deprecated; in a future version of numpy, it will be understood as (type, (1,)) / '(1,)type'.\n",
      "  Z = np.zeros(10, [ ('position', [ ('x', float, 1),\n"
     ]
    }
   ],
   "source": [
    "Z = np.zeros(10, [ ('position', [ ('x', float, 1),\n",
    "                                  ('y', float, 1)]),\n",
    "                   ('color',    [ ('r', float, 1),\n",
    "                                  ('g', float, 1),\n",
    "                                  ('b', float, 1)])])\n",
    "print(Z)"
   ]
  },
  {
   "cell_type": "markdown",
   "id": "8fbc92e6",
   "metadata": {},
   "source": [
    "### 52. Consider a random vector with shape (100,2) representing coordinates, find point by point distances (★★☆)\n"
   ]
  },
  {
   "cell_type": "code",
   "execution_count": 58,
   "id": "fb18eb1c",
   "metadata": {},
   "outputs": [
    {
     "name": "stdout",
     "output_type": "stream",
     "text": [
      "[[0.         0.41047948 0.46722676 0.65684073 0.77551308 0.71562987\n",
      "  0.58468781 0.11734995 0.28698959 0.84111145]\n",
      " [0.41047948 0.         0.404595   0.25122829 0.55048417 0.47271227\n",
      "  0.28693363 0.52655626 0.48680205 0.47563785]\n",
      " [0.46722676 0.404595   0.         0.49707323 0.33142663 0.29343897\n",
      "  0.69134469 0.5292674  0.27148188 0.52833769]\n",
      " [0.65684073 0.25122829 0.49707323 0.         0.47281138 0.39926267\n",
      "  0.35266816 0.77078699 0.67532408 0.26167526]\n",
      " [0.77551308 0.55048417 0.33142663 0.47281138 0.         0.07867553\n",
      "  0.79330917 0.85218542 0.60203411 0.32923172]\n",
      " [0.71562987 0.47271227 0.29343897 0.39926267 0.07867553 0.\n",
      "  0.71499761 0.79826231 0.56401896 0.2866004 ]\n",
      " [0.58468781 0.28693363 0.69134469 0.35266816 0.79330917 0.71499761\n",
      "  0.         0.69758406 0.74714602 0.61221986]\n",
      " [0.11734995 0.52655626 0.5292674  0.77078699 0.85218542 0.79826231\n",
      "  0.69758406 0.         0.29809594 0.94513488]\n",
      " [0.28698959 0.48680205 0.27148188 0.67532408 0.60203411 0.56401896\n",
      "  0.74714602 0.29809594 0.         0.77452329]\n",
      " [0.84111145 0.47563785 0.52833769 0.26167526 0.32923172 0.2866004\n",
      "  0.61221986 0.94513488 0.77452329 0.        ]]\n",
      "[[0.         0.84580694 0.52140731 0.64791413 0.6487192  0.11589571\n",
      "  0.35519751 0.79521004 0.92922898 0.72023556]\n",
      " [0.84580694 0.         0.64807302 0.66849126 0.47541479 0.88299642\n",
      "  0.54253595 0.65179075 0.48998099 0.20793461]\n",
      " [0.52140731 0.64807302 0.         0.1270188  0.20606507 0.46484794\n",
      "  0.25283846 0.27629536 0.46443627 0.66324493]\n",
      " [0.64791413 0.66849126 0.1270188  0.         0.1931996  0.58721471\n",
      "  0.36710642 0.15734866 0.38491531 0.7204093 ]\n",
      " [0.6487192  0.47541479 0.20606507 0.1931996  0.         0.62089008\n",
      "  0.30423672 0.21628364 0.28232    0.54054895]\n",
      " [0.11589571 0.88299642 0.46484794 0.58721471 0.62089008 0.\n",
      "  0.35525722 0.74100722 0.90304053 0.78009479]\n",
      " [0.35519751 0.54253595 0.25283846 0.36710642 0.30423672 0.35525722\n",
      "  0.         0.48559023 0.57855757 0.48380051]\n",
      " [0.79521004 0.65179075 0.27629536 0.15734866 0.21628364 0.74100722\n",
      "  0.48559023 0.         0.26233769 0.74758226]\n",
      " [0.92922898 0.48998099 0.46443627 0.38491531 0.28232    0.90304053\n",
      "  0.57855757 0.26233769 0.         0.64498028]\n",
      " [0.72023556 0.20793461 0.66324493 0.7204093  0.54054895 0.78009479\n",
      "  0.48380051 0.74758226 0.64498028 0.        ]]\n"
     ]
    }
   ],
   "source": [
    "Z = np.random.random((10,2))\n",
    "X,Y = np.atleast_2d(Z[:,0], Z[:,1])\n",
    "D = np.sqrt( (X-X.T)**2 + (Y-Y.T)**2)\n",
    "print(D)\n",
    "\n",
    "# Much faster with scipy\n",
    "import scipy\n",
    "# Thanks Gavin Heverly-Coulson (#issue 1)\n",
    "import scipy.spatial\n",
    "\n",
    "Z = np.random.random((10,2))\n",
    "D = scipy.spatial.distance.cdist(Z,Z)\n",
    "print(D)"
   ]
  },
  {
   "cell_type": "markdown",
   "id": "24515b7e",
   "metadata": {},
   "source": [
    "### 53. How to convert a float (32 bits) array into an integer (32 bits) in place?\n"
   ]
  },
  {
   "cell_type": "code",
   "execution_count": 59,
   "id": "0cee933e",
   "metadata": {},
   "outputs": [
    {
     "name": "stdout",
     "output_type": "stream",
     "text": [
      "[0. 1. 2. 3. 4. 5. 6. 7. 8. 9.]\n"
     ]
    }
   ],
   "source": [
    "Z = np.arange(10, dtype=np.int32)\n",
    "Z = Z.astype(np.float32, copy=False)\n",
    "print(Z)"
   ]
  },
  {
   "cell_type": "markdown",
   "id": "eef05dad",
   "metadata": {},
   "source": [
    "### 54. How to read the following file? (★★☆)"
   ]
  },
  {
   "cell_type": "code",
   "execution_count": 61,
   "id": "f2a90a07",
   "metadata": {},
   "outputs": [
    {
     "name": "stdout",
     "output_type": "stream",
     "text": [
      "[[ 1  2  3  4  5]\n",
      " [ 6 -1 -1  7  8]\n",
      " [-1 -1  9 10 11]]\n"
     ]
    }
   ],
   "source": [
    "from io import StringIO\n",
    "\n",
    "s = StringIO(\"\"\"1, 2, 3, 4, 5\\n\n",
    "                6,  ,  , 7, 8\\n\n",
    "                 ,  , 9,10,11\\n\"\"\")\n",
    "Z = np.genfromtxt(s, delimiter=\",\", dtype=np.int32)\n",
    "print(Z)"
   ]
  },
  {
   "cell_type": "markdown",
   "id": "9292b7ce",
   "metadata": {},
   "source": [
    "### 55. What is the equivalent of enumerate for numpy arrays? (★★☆)\n"
   ]
  },
  {
   "cell_type": "code",
   "execution_count": 62,
   "id": "584c8f29",
   "metadata": {},
   "outputs": [
    {
     "name": "stdout",
     "output_type": "stream",
     "text": [
      "(0, 0) 0\n",
      "(0, 1) 1\n",
      "(0, 2) 2\n",
      "(1, 0) 3\n",
      "(1, 1) 4\n",
      "(1, 2) 5\n",
      "(2, 0) 6\n",
      "(2, 1) 7\n",
      "(2, 2) 8\n",
      "(0, 0) 0\n",
      "(0, 1) 1\n",
      "(0, 2) 2\n",
      "(1, 0) 3\n",
      "(1, 1) 4\n",
      "(1, 2) 5\n",
      "(2, 0) 6\n",
      "(2, 1) 7\n",
      "(2, 2) 8\n"
     ]
    }
   ],
   "source": [
    "Z = np.arange(9).reshape(3,3)\n",
    "for index, value in np.ndenumerate(Z):\n",
    "    print(index, value)\n",
    "for index in np.ndindex(Z.shape):\n",
    "    print(index, Z[index])"
   ]
  },
  {
   "cell_type": "markdown",
   "id": "a7c63cbb",
   "metadata": {},
   "source": [
    "### 56. Generate a generic 2D Gaussian-like array (★★☆)\n"
   ]
  },
  {
   "cell_type": "code",
   "execution_count": 63,
   "id": "f3a5bff1",
   "metadata": {},
   "outputs": [
    {
     "name": "stdout",
     "output_type": "stream",
     "text": [
      "[[0.36787944 0.44822088 0.51979489 0.57375342 0.60279818 0.60279818\n",
      "  0.57375342 0.51979489 0.44822088 0.36787944]\n",
      " [0.44822088 0.54610814 0.63331324 0.69905581 0.73444367 0.73444367\n",
      "  0.69905581 0.63331324 0.54610814 0.44822088]\n",
      " [0.51979489 0.63331324 0.73444367 0.81068432 0.85172308 0.85172308\n",
      "  0.81068432 0.73444367 0.63331324 0.51979489]\n",
      " [0.57375342 0.69905581 0.81068432 0.89483932 0.9401382  0.9401382\n",
      "  0.89483932 0.81068432 0.69905581 0.57375342]\n",
      " [0.60279818 0.73444367 0.85172308 0.9401382  0.98773022 0.98773022\n",
      "  0.9401382  0.85172308 0.73444367 0.60279818]\n",
      " [0.60279818 0.73444367 0.85172308 0.9401382  0.98773022 0.98773022\n",
      "  0.9401382  0.85172308 0.73444367 0.60279818]\n",
      " [0.57375342 0.69905581 0.81068432 0.89483932 0.9401382  0.9401382\n",
      "  0.89483932 0.81068432 0.69905581 0.57375342]\n",
      " [0.51979489 0.63331324 0.73444367 0.81068432 0.85172308 0.85172308\n",
      "  0.81068432 0.73444367 0.63331324 0.51979489]\n",
      " [0.44822088 0.54610814 0.63331324 0.69905581 0.73444367 0.73444367\n",
      "  0.69905581 0.63331324 0.54610814 0.44822088]\n",
      " [0.36787944 0.44822088 0.51979489 0.57375342 0.60279818 0.60279818\n",
      "  0.57375342 0.51979489 0.44822088 0.36787944]]\n"
     ]
    }
   ],
   "source": [
    "X, Y = np.meshgrid(np.linspace(-1,1,10), np.linspace(-1,1,10))\n",
    "D = np.sqrt(X*X+Y*Y)\n",
    "sigma, mu = 1.0, 0.0\n",
    "G = np.exp(-( (D-mu)**2 / ( 2.0 * sigma**2 ) ) )\n",
    "print(G)"
   ]
  },
  {
   "cell_type": "markdown",
   "id": "e1cd16d7",
   "metadata": {},
   "source": [
    "### 57. How to randomly place p elements in a 2D array? (★★☆)\n"
   ]
  },
  {
   "cell_type": "code",
   "execution_count": 64,
   "id": "6b933978",
   "metadata": {},
   "outputs": [
    {
     "name": "stdout",
     "output_type": "stream",
     "text": [
      "[[0. 0. 1. 0. 0. 0. 0. 0. 1. 0.]\n",
      " [0. 0. 0. 0. 0. 0. 0. 0. 0. 0.]\n",
      " [0. 0. 0. 0. 0. 0. 0. 0. 0. 0.]\n",
      " [0. 0. 0. 0. 0. 0. 0. 0. 0. 0.]\n",
      " [0. 0. 0. 0. 0. 0. 0. 0. 0. 0.]\n",
      " [0. 0. 0. 0. 0. 0. 0. 0. 0. 0.]\n",
      " [0. 0. 0. 0. 0. 0. 0. 0. 0. 0.]\n",
      " [0. 0. 0. 0. 0. 0. 0. 0. 0. 0.]\n",
      " [0. 0. 0. 0. 1. 0. 0. 0. 0. 0.]\n",
      " [0. 0. 0. 0. 0. 0. 0. 0. 0. 0.]]\n"
     ]
    }
   ],
   "source": [
    "n = 10\n",
    "p = 3\n",
    "Z = np.zeros((n,n))\n",
    "np.put(Z, np.random.choice(range(n*n), p, replace=False),1)\n",
    "print(Z)"
   ]
  },
  {
   "cell_type": "markdown",
   "id": "7c2839a6",
   "metadata": {},
   "source": [
    "### 58. Subtract the mean of each row of a matrix (★★☆)\n"
   ]
  },
  {
   "cell_type": "code",
   "execution_count": 65,
   "id": "1d071f2d",
   "metadata": {},
   "outputs": [
    {
     "name": "stdout",
     "output_type": "stream",
     "text": [
      "[[ 0.24180348 -0.17523858 -0.07789737 -0.03398752 -0.36617865  0.13593718\n",
      "   0.17269846  0.27553226 -0.11088161 -0.06178765]\n",
      " [ 0.09912942  0.1519247  -0.20817654  0.35481279  0.4048243  -0.05179062\n",
      "   0.26178241 -0.46269406 -0.39216005 -0.15765235]\n",
      " [-0.21002835 -0.17155583  0.30612798  0.18709867 -0.02181891  0.07228698\n",
      "  -0.30406466  0.17572629 -0.33099914  0.29722697]\n",
      " [ 0.24938408 -0.41577468 -0.00620578 -0.15734741  0.19738967 -0.14890997\n",
      "   0.49422588 -0.37445654 -0.18364443  0.34533917]\n",
      " [ 0.09789154  0.44369607 -0.26679549  0.51268338 -0.36685617 -0.0327689\n",
      "   0.12353563 -0.33625569 -0.36596432  0.19083393]]\n"
     ]
    }
   ],
   "source": [
    "X = np.random.rand(5, 10)\n",
    "\n",
    "# Recent versions of numpy\n",
    "Y = X - X.mean(axis=1, keepdims=True)\n",
    "\n",
    "# Older versions of numpy\n",
    "Y = X - X.mean(axis=1).reshape(-1, 1)\n",
    "\n",
    "print(Y)"
   ]
  },
  {
   "cell_type": "markdown",
   "id": "a25a30e3",
   "metadata": {},
   "source": [
    "### 59. How to sort an array by the nth column? (★★☆)"
   ]
  },
  {
   "cell_type": "code",
   "execution_count": 66,
   "id": "a20c4a39",
   "metadata": {},
   "outputs": [
    {
     "name": "stdout",
     "output_type": "stream",
     "text": [
      "[[5 6 6]\n",
      " [4 8 4]\n",
      " [9 9 0]]\n",
      "[[5 6 6]\n",
      " [4 8 4]\n",
      " [9 9 0]]\n"
     ]
    }
   ],
   "source": [
    "Z = np.random.randint(0,10,(3,3))\n",
    "print(Z)\n",
    "print(Z[Z[:,1].argsort()])"
   ]
  },
  {
   "cell_type": "markdown",
   "id": "bdaba7b7",
   "metadata": {},
   "source": [
    "### 60. How to tell if a given 2D array has null columns? (★★☆)\n"
   ]
  },
  {
   "cell_type": "code",
   "execution_count": 67,
   "id": "d731e8ad",
   "metadata": {},
   "outputs": [
    {
     "name": "stdout",
     "output_type": "stream",
     "text": [
      "False\n"
     ]
    }
   ],
   "source": [
    "Z = np.random.randint(0,3,(3,10))\n",
    "print((~Z.any(axis=0)).any())"
   ]
  },
  {
   "cell_type": "markdown",
   "id": "dabf2706",
   "metadata": {},
   "source": [
    "### 61. Find the nearest value from a given value in an array (★★☆)\n"
   ]
  },
  {
   "cell_type": "code",
   "execution_count": 68,
   "id": "7ca68f14",
   "metadata": {},
   "outputs": [
    {
     "name": "stdout",
     "output_type": "stream",
     "text": [
      "0.4910288698027868\n"
     ]
    }
   ],
   "source": [
    "Z = np.random.uniform(0,1,10)\n",
    "z = 0.5\n",
    "m = Z.flat[np.abs(Z - z).argmin()]\n",
    "print(m)"
   ]
  },
  {
   "cell_type": "markdown",
   "id": "47717ce1",
   "metadata": {},
   "source": [
    "### 62. Considering two arrays with shape (1,3) and (3,1), how to compute their sum using an iterator? (★★☆)"
   ]
  },
  {
   "cell_type": "code",
   "execution_count": 69,
   "id": "6c67f41c",
   "metadata": {},
   "outputs": [
    {
     "name": "stdout",
     "output_type": "stream",
     "text": [
      "[[0 1 2]\n",
      " [1 2 3]\n",
      " [2 3 4]]\n"
     ]
    }
   ],
   "source": [
    "A = np.arange(3).reshape(3,1)\n",
    "B = np.arange(3).reshape(1,3)\n",
    "it = np.nditer([A,B,None])\n",
    "for x,y,z in it: z[...] = x + y\n",
    "print(it.operands[2])"
   ]
  },
  {
   "cell_type": "markdown",
   "id": "dc2c5705",
   "metadata": {},
   "source": [
    "### 63. Create an array class that has a name attribute (★★☆)\n"
   ]
  },
  {
   "cell_type": "code",
   "execution_count": 70,
   "id": "17902d75",
   "metadata": {},
   "outputs": [
    {
     "name": "stdout",
     "output_type": "stream",
     "text": [
      "range_10\n"
     ]
    }
   ],
   "source": [
    "class NamedArray(np.ndarray):\n",
    "    def __new__(cls, array, name=\"no name\"):\n",
    "        obj = np.asarray(array).view(cls)\n",
    "        obj.name = name\n",
    "        return obj\n",
    "    def __array_finalize__(self, obj):\n",
    "        if obj is None: return\n",
    "        self.info = getattr(obj, 'name', \"no name\")\n",
    "\n",
    "Z = NamedArray(np.arange(10), \"range_10\")\n",
    "print (Z.name)"
   ]
  },
  {
   "cell_type": "markdown",
   "id": "a5f3f78c",
   "metadata": {},
   "source": [
    "### 64. Consider a given vector, how to add 1 to each element indexed by a second vector (be careful with repeated indices)? (★★★)\n"
   ]
  },
  {
   "cell_type": "code",
   "execution_count": 71,
   "id": "44a5bcfd",
   "metadata": {},
   "outputs": [
    {
     "name": "stdout",
     "output_type": "stream",
     "text": [
      "[3. 4. 3. 1. 5. 2. 6. 1. 3. 2.]\n",
      "[ 5.  7.  5.  1.  9.  3. 11.  1.  5.  3.]\n"
     ]
    }
   ],
   "source": [
    "\n",
    "Z = np.ones(10)\n",
    "I = np.random.randint(0,len(Z),20)\n",
    "Z += np.bincount(I, minlength=len(Z))\n",
    "print(Z)\n",
    "\n",
    "\n",
    "np.add.at(Z, I, 1)\n",
    "print(Z)"
   ]
  },
  {
   "cell_type": "markdown",
   "id": "b25343e9",
   "metadata": {},
   "source": [
    "### 65. How to accumulate elements of a vector (X) to an array (F) based on an index list (I)? (★★★)\n"
   ]
  },
  {
   "cell_type": "code",
   "execution_count": 72,
   "id": "7021a309",
   "metadata": {},
   "outputs": [
    {
     "name": "stdout",
     "output_type": "stream",
     "text": [
      "[0. 7. 0. 6. 5. 0. 0. 0. 0. 3.]\n"
     ]
    }
   ],
   "source": [
    "\n",
    "X = [1,2,3,4,5,6]\n",
    "I = [1,3,9,3,4,1]\n",
    "F = np.bincount(I,X)\n",
    "print(F)"
   ]
  },
  {
   "cell_type": "markdown",
   "id": "37bac9ee",
   "metadata": {},
   "source": [
    "### 66. Considering a (w,h,3) image of (dtype=ubyte), compute the number of unique colors (★★★)"
   ]
  },
  {
   "cell_type": "code",
   "execution_count": 73,
   "id": "8a0a2ac3",
   "metadata": {},
   "outputs": [
    {
     "name": "stdout",
     "output_type": "stream",
     "text": [
      "[0 1]\n"
     ]
    }
   ],
   "source": [
    "w,h = 16,16\n",
    "I = np.random.randint(0,2,(h,w,3)).astype(np.ubyte)\n",
    "F = I[...,0]*256*256 + I[...,1]*256 +I[...,2]\n",
    "n = len(np.unique(F))\n",
    "print(np.unique(I))"
   ]
  },
  {
   "cell_type": "markdown",
   "id": "9dcdae67",
   "metadata": {},
   "source": [
    "### 67. Considering a four dimensions array, how to get sum over the last two axis at once? (★★★)"
   ]
  },
  {
   "cell_type": "code",
   "execution_count": 74,
   "id": "08491b78",
   "metadata": {},
   "outputs": [
    {
     "name": "stdout",
     "output_type": "stream",
     "text": [
      "[[56 56 53 53]\n",
      " [55 52 46 55]\n",
      " [59 62 46 44]]\n",
      "[[56 56 53 53]\n",
      " [55 52 46 55]\n",
      " [59 62 46 44]]\n"
     ]
    }
   ],
   "source": [
    "A = np.random.randint(0,10,(3,4,3,4))\n",
    "# solution by passing a tuple of axes (introduced in numpy 1.7.0)\n",
    "sum = A.sum(axis=(-2,-1))\n",
    "print(sum)\n",
    "# solution by flattening the last two dimensions into one\n",
    "# (useful for functions that don't accept tuples for axis argument)\n",
    "sum = A.reshape(A.shape[:-2] + (-1,)).sum(axis=-1)\n",
    "print(sum)"
   ]
  },
  {
   "cell_type": "markdown",
   "id": "20f3ce09",
   "metadata": {},
   "source": [
    "### 68. Considering a one-dimensional vector D, how to compute means of subsets of D using a vector S of same size describing subset indices? (★★★)\n"
   ]
  },
  {
   "cell_type": "code",
   "execution_count": 78,
   "id": "ade91794",
   "metadata": {},
   "outputs": [
    {
     "name": "stdout",
     "output_type": "stream",
     "text": [
      "[0.52906544 0.5165328  0.45419048 0.64114447 0.45082105 0.50292934\n",
      " 0.36723556 0.51831478 0.70278361 0.36508164]\n",
      "0    0.529065\n",
      "1    0.516533\n",
      "2    0.454190\n",
      "3    0.641144\n",
      "4    0.450821\n",
      "5    0.502929\n",
      "6    0.367236\n",
      "7    0.518315\n",
      "8    0.702784\n",
      "9    0.365082\n",
      "dtype: float64\n"
     ]
    }
   ],
   "source": [
    "D = np.random.uniform(0,1,100)\n",
    "S = np.random.randint(0,10,100)\n",
    "D_sums = np.bincount(S, weights=D)\n",
    "D_counts = np.bincount(S)\n",
    "D_means = D_sums / D_counts\n",
    "print(D_means)\n",
    "\n",
    "# Pandas solution as a reference due to more intuitive code\n",
    "import pandas as pd\n",
    "print(pd.Series(D).groupby(S).mean())"
   ]
  },
  {
   "cell_type": "markdown",
   "id": "82ca5ed2",
   "metadata": {},
   "source": [
    "### 69. How to get the diagonal of a dot product? (★★★)\n"
   ]
  },
  {
   "cell_type": "code",
   "execution_count": 79,
   "id": "8bb112c7",
   "metadata": {},
   "outputs": [
    {
     "data": {
      "text/plain": [
       "array([0.56638895, 1.4652493 , 1.72384482, 1.18339484, 2.35223128])"
      ]
     },
     "execution_count": 79,
     "metadata": {},
     "output_type": "execute_result"
    }
   ],
   "source": [
    "A = np.random.uniform(0,1,(5,5))\n",
    "B = np.random.uniform(0,1,(5,5))\n",
    "\n",
    "# Slow version  \n",
    "np.diag(np.dot(A, B))\n",
    "\n",
    "# Fast version\n",
    "np.sum(A * B.T, axis=1)\n",
    "\n",
    "# Faster version\n",
    "np.einsum(\"ij,ji->i\", A, B)"
   ]
  },
  {
   "cell_type": "markdown",
   "id": "6bdfa1dd",
   "metadata": {},
   "source": [
    "### 70. Consider the vector [1, 2, 3, 4, 5], how to build a new vector with 3 consecutive zeros interleaved between each value? (★★★)"
   ]
  },
  {
   "cell_type": "code",
   "execution_count": 80,
   "id": "fe9127b3",
   "metadata": {},
   "outputs": [
    {
     "name": "stdout",
     "output_type": "stream",
     "text": [
      "[1. 0. 0. 0. 2. 0. 0. 0. 3. 0. 0. 0. 4. 0. 0. 0. 5.]\n"
     ]
    }
   ],
   "source": [
    "Z = np.array([1,2,3,4,5])\n",
    "nz = 3\n",
    "Z0 = np.zeros(len(Z) + (len(Z)-1)*(nz))\n",
    "Z0[::nz+1] = Z\n",
    "print(Z0)"
   ]
  },
  {
   "cell_type": "markdown",
   "id": "3e3681c5",
   "metadata": {},
   "source": [
    "### 71. Consider an array of dimension (5,5,3), how to mulitply it by an array with dimensions (5,5)? (★★★)"
   ]
  },
  {
   "cell_type": "code",
   "execution_count": 81,
   "id": "86a153ea",
   "metadata": {},
   "outputs": [
    {
     "name": "stdout",
     "output_type": "stream",
     "text": [
      "[[[2. 2. 2.]\n",
      "  [2. 2. 2.]\n",
      "  [2. 2. 2.]\n",
      "  [2. 2. 2.]\n",
      "  [2. 2. 2.]]\n",
      "\n",
      " [[2. 2. 2.]\n",
      "  [2. 2. 2.]\n",
      "  [2. 2. 2.]\n",
      "  [2. 2. 2.]\n",
      "  [2. 2. 2.]]\n",
      "\n",
      " [[2. 2. 2.]\n",
      "  [2. 2. 2.]\n",
      "  [2. 2. 2.]\n",
      "  [2. 2. 2.]\n",
      "  [2. 2. 2.]]\n",
      "\n",
      " [[2. 2. 2.]\n",
      "  [2. 2. 2.]\n",
      "  [2. 2. 2.]\n",
      "  [2. 2. 2.]\n",
      "  [2. 2. 2.]]\n",
      "\n",
      " [[2. 2. 2.]\n",
      "  [2. 2. 2.]\n",
      "  [2. 2. 2.]\n",
      "  [2. 2. 2.]\n",
      "  [2. 2. 2.]]]\n"
     ]
    }
   ],
   "source": [
    "A = np.ones((5,5,3))\n",
    "B = 2*np.ones((5,5))\n",
    "print(A * B[:,:,None])"
   ]
  },
  {
   "cell_type": "markdown",
   "id": "2cd67ab6",
   "metadata": {},
   "source": [
    "### 72. How to swap two rows of an array? (★★★)\n"
   ]
  },
  {
   "cell_type": "code",
   "execution_count": 82,
   "id": "55289213",
   "metadata": {},
   "outputs": [
    {
     "name": "stdout",
     "output_type": "stream",
     "text": [
      "[[ 5  6  7  8  9]\n",
      " [ 0  1  2  3  4]\n",
      " [10 11 12 13 14]\n",
      " [15 16 17 18 19]\n",
      " [20 21 22 23 24]]\n"
     ]
    }
   ],
   "source": [
    "A = np.arange(25).reshape(5,5)\n",
    "A[[0,1]] = A[[1,0]]\n",
    "print(A)"
   ]
  },
  {
   "cell_type": "markdown",
   "id": "e92e8cce",
   "metadata": {},
   "source": [
    "### 73. Consider a set of 10 triplets describing 10 triangles (with shared vertices), find the set of unique line segments composing all the triangles (★★★)"
   ]
  },
  {
   "cell_type": "code",
   "execution_count": 83,
   "id": "bcd1b313",
   "metadata": {},
   "outputs": [
    {
     "name": "stdout",
     "output_type": "stream",
     "text": [
      "[( 9, 34) ( 9, 84) (10, 59) (10, 94) (11, 79) (11, 85) (12, 74) (12, 79)\n",
      " (18, 35) (18, 97) (24, 60) (24, 75) (26, 41) (26, 55) (29, 37) (29, 44)\n",
      " (31, 53) (31, 86) (34, 84) (35, 97) (37, 44) (41, 55) (53, 86) (56, 88)\n",
      " (56, 91) (59, 94) (60, 75) (74, 79) (79, 85) (88, 91)]\n"
     ]
    }
   ],
   "source": [
    "faces = np.random.randint(0,100,(10,3))\n",
    "F = np.roll(faces.repeat(2,axis=1),-1,axis=1)\n",
    "F = F.reshape(len(F)*3,2)\n",
    "F = np.sort(F,axis=1)\n",
    "G = F.view( dtype=[('p0',F.dtype),('p1',F.dtype)] )\n",
    "G = np.unique(G)\n",
    "print(G)"
   ]
  },
  {
   "cell_type": "markdown",
   "id": "cf7f70e2",
   "metadata": {},
   "source": [
    "### 74. Given an array C that is a bincount, how to produce an array A such that np.bincount(A) == C? (★★★)"
   ]
  },
  {
   "cell_type": "code",
   "execution_count": 84,
   "id": "cce43b95",
   "metadata": {},
   "outputs": [
    {
     "name": "stdout",
     "output_type": "stream",
     "text": [
      "[1 1 2 3 4 4 6]\n"
     ]
    }
   ],
   "source": [
    "C = np.bincount([1,1,2,3,4,4,6])\n",
    "A = np.repeat(np.arange(len(C)), C)\n",
    "print(A)"
   ]
  },
  {
   "cell_type": "markdown",
   "id": "0addab44",
   "metadata": {},
   "source": [
    "### 75. How to compute averages using a sliding window over an array? (★★★)\n"
   ]
  },
  {
   "cell_type": "code",
   "execution_count": 85,
   "id": "13a470d5",
   "metadata": {},
   "outputs": [
    {
     "name": "stdout",
     "output_type": "stream",
     "text": [
      "[ 1.  2.  3.  4.  5.  6.  7.  8.  9. 10. 11. 12. 13. 14. 15. 16. 17. 18.]\n"
     ]
    }
   ],
   "source": [
    "def moving_average(a, n=3) :\n",
    "    ret = np.cumsum(a, dtype=float)\n",
    "    ret[n:] = ret[n:] - ret[:-n]\n",
    "    return ret[n - 1:] / n\n",
    "Z = np.arange(20)\n",
    "print(moving_average(Z, n=3))"
   ]
  },
  {
   "cell_type": "markdown",
   "id": "f993a749",
   "metadata": {},
   "source": [
    "### 76. Consider a one-dimensional array Z, build a two-dimensional array whose first row is (Z[0],Z[1],Z[2]) and each subsequent row is shifted by 1 (last row should be (Z[-3],Z[-2],Z[-1]) (★★★)\n"
   ]
  },
  {
   "cell_type": "code",
   "execution_count": 86,
   "id": "81ca2726",
   "metadata": {},
   "outputs": [
    {
     "name": "stdout",
     "output_type": "stream",
     "text": [
      "[[0 1 2]\n",
      " [1 2 3]\n",
      " [2 3 4]\n",
      " [3 4 5]\n",
      " [4 5 6]\n",
      " [5 6 7]\n",
      " [6 7 8]\n",
      " [7 8 9]]\n"
     ]
    }
   ],
   "source": [
    "from numpy.lib import stride_tricks\n",
    "\n",
    "def rolling(a, window):\n",
    "    shape = (a.size - window + 1, window)\n",
    "    strides = (a.itemsize, a.itemsize)\n",
    "    return stride_tricks.as_strided(a, shape=shape, strides=strides)\n",
    "Z = rolling(np.arange(10), 3)\n",
    "print(Z)"
   ]
  },
  {
   "cell_type": "markdown",
   "id": "e57f9b56",
   "metadata": {},
   "source": [
    "### 77. How to negate a boolean, or to change the sign of a float inplace? (★★★)"
   ]
  },
  {
   "cell_type": "code",
   "execution_count": 87,
   "id": "030df195",
   "metadata": {},
   "outputs": [
    {
     "data": {
      "text/plain": [
       "array([-7.81108067e-01,  7.27988527e-01,  9.87917529e-01,  8.54052977e-01,\n",
       "        7.76129830e-02, -8.40250300e-01, -6.44403460e-02,  8.38597435e-01,\n",
       "        7.26025264e-01, -2.93223437e-01,  7.06719613e-02, -5.10834933e-01,\n",
       "       -4.43514464e-01, -8.78536464e-01,  6.81709344e-02, -7.56167925e-01,\n",
       "       -9.07107378e-02,  5.59848848e-01,  9.72247877e-01, -4.13768840e-02,\n",
       "        4.50231601e-01,  5.46228138e-01, -9.98377756e-01, -9.93460417e-01,\n",
       "        1.82581599e-01,  6.65854258e-01,  1.22612414e-01,  3.95382035e-01,\n",
       "       -6.53253797e-01,  8.33748096e-01,  1.99959707e-01, -7.09998301e-01,\n",
       "        9.55040536e-01,  9.47956981e-01,  5.48233105e-01,  6.80941789e-01,\n",
       "        9.35837654e-01, -8.82609269e-02,  3.99584859e-01, -4.13558176e-01,\n",
       "       -9.02064403e-01,  1.27350514e-01,  9.96162880e-01,  7.23111365e-01,\n",
       "       -8.77231553e-01,  4.39492507e-02, -7.08624252e-01,  6.08733039e-01,\n",
       "        2.39332238e-01, -9.81800029e-01, -7.54087465e-01,  3.15561371e-01,\n",
       "       -5.39870936e-01,  8.31746910e-01,  3.92015785e-01, -6.83870500e-01,\n",
       "       -7.96218063e-01,  5.67970830e-01, -4.21044223e-01,  1.21316261e-01,\n",
       "        5.19124919e-01, -9.65894562e-01, -7.06626692e-01,  5.71943214e-02,\n",
       "        4.40623557e-01,  2.45062273e-01,  9.33771891e-01, -6.73614495e-01,\n",
       "       -6.71416037e-01,  1.71764836e-04,  6.21146668e-01,  7.19543294e-01,\n",
       "        9.58599345e-01,  2.78403881e-01, -7.76227919e-01,  8.06919807e-01,\n",
       "        8.69617662e-01, -1.82766684e-01, -8.83823778e-01, -7.61224279e-01,\n",
       "       -7.70938121e-02,  2.81203093e-01, -2.67865606e-02, -8.39600831e-01,\n",
       "        3.06528060e-01,  6.93747065e-01,  5.92899509e-01,  7.38680329e-01,\n",
       "       -9.51063158e-01, -9.14701694e-01, -9.66652888e-01, -4.69725092e-01,\n",
       "        6.08421399e-01, -3.36541742e-01,  9.54380858e-01, -8.30474496e-01,\n",
       "        8.51191386e-02,  1.33356163e-01, -3.14926080e-01, -4.07390289e-03])"
      ]
     },
     "execution_count": 87,
     "metadata": {},
     "output_type": "execute_result"
    }
   ],
   "source": [
    "Z = np.random.randint(0,2,100)\n",
    "np.logical_not(Z, out=Z)\n",
    "\n",
    "Z = np.random.uniform(-1.0,1.0,100)\n",
    "np.negative(Z, out=Z)"
   ]
  },
  {
   "cell_type": "markdown",
   "id": "507f6f13",
   "metadata": {},
   "source": [
    "### 78. Consider 2 sets of points P0,P1 describing lines (2d) and a point p, how to compute distance from p to each line i (P0[i],P1[i])? (★★★)"
   ]
  },
  {
   "cell_type": "code",
   "execution_count": 88,
   "id": "13525d7b",
   "metadata": {},
   "outputs": [
    {
     "name": "stdout",
     "output_type": "stream",
     "text": [
      "[4.23557088 1.96779336 1.74919649 1.30272297 2.46645919 8.34769357\n",
      " 5.77826656 0.96603863 8.2275203  7.17756428]\n"
     ]
    }
   ],
   "source": [
    "def distance(P0, P1, p):\n",
    "    T = P1 - P0\n",
    "    L = (T**2).sum(axis=1)\n",
    "    U = -((P0[:,0]-p[...,0])*T[:,0] + (P0[:,1]-p[...,1])*T[:,1]) / L\n",
    "    U = U.reshape(len(U),1)\n",
    "    D = P0 + U*T - p\n",
    "    return np.sqrt((D**2).sum(axis=1))\n",
    "\n",
    "P0 = np.random.uniform(-10,10,(10,2))\n",
    "P1 = np.random.uniform(-10,10,(10,2))\n",
    "p  = np.random.uniform(-10,10,( 1,2))\n",
    "print(distance(P0, P1, p))"
   ]
  },
  {
   "cell_type": "markdown",
   "id": "6db42af4",
   "metadata": {},
   "source": [
    "### 79. Consider 2 sets of points P0,P1 describing lines (2d) and a set of points P, how to compute distance from each point j (P[j]) to each line i (P0[i],P1[i])? (★★★)"
   ]
  },
  {
   "cell_type": "code",
   "execution_count": 89,
   "id": "d3d62438",
   "metadata": {},
   "outputs": [
    {
     "name": "stdout",
     "output_type": "stream",
     "text": [
      "[[ 2.31002604  1.89608717  8.57883792  9.40693893  5.69913987  5.65247505\n",
      "  10.55416326  1.1975801   7.65901666  7.4800839 ]\n",
      " [ 0.74244947  3.39537651  5.22263105  6.87327997  5.93280403 10.77243074\n",
      "   6.22351374 15.46047735  9.51854051  9.694961  ]\n",
      " [ 4.12495713  0.33426298  8.21733395  9.18664421  9.2030398  11.12815193\n",
      "   6.85327583 17.56747122 11.0103167  11.19725631]\n",
      " [ 2.29766504  2.50449231  7.94483554  9.65719091  8.48858892 12.88792253\n",
      "   8.47778831 18.21787374 12.1233332  12.30313507]\n",
      " [ 4.27283859  5.66048701  5.13897441  4.12854393  3.54723616  1.65353485\n",
      "   3.35797386  4.46370708  1.13938833  0.97215996]\n",
      " [ 2.73428372  1.02845515  5.51636118  6.35613455  6.7090034   8.84940136\n",
      "   4.44789066 14.74711262  8.30058468  8.48478922]\n",
      " [ 8.47273947  5.67163683  6.67247452  5.26249571  9.1875914   3.75878762\n",
      "   0.21510226 13.10391655  5.23367145  5.43996658]\n",
      " [ 5.27737138  8.28860708  1.55139999  0.90922918  1.01689713  8.0436477\n",
      "   2.99329705  9.7902955   4.8033997   4.96266169]\n",
      " [ 2.52234119  1.96875417  9.07796297  9.95002461  6.14776785  6.12626492\n",
      "  11.04811102  1.74352563  8.19647407  8.01786503]\n",
      " [ 0.90946186  0.88437015  6.6727373   7.59728901  3.82408014  4.53869936\n",
      "   9.32058818  0.56047313  6.09120277  5.90863495]]\n"
     ]
    }
   ],
   "source": [
    "\n",
    "P0 = np.random.uniform(-10, 10, (10,2))\n",
    "P1 = np.random.uniform(-10,10,(10,2))\n",
    "p = np.random.uniform(-10, 10, (10,2))\n",
    "print(np.array([distance(P0,P1,p_i) for p_i in p]))"
   ]
  },
  {
   "cell_type": "markdown",
   "id": "8398f8c8",
   "metadata": {},
   "source": [
    "### 80. Consider an arbitrary array, write a function that extract a subpart with a fixed shape and centered on a given element (pad with a fill value when necessary) (★★★)"
   ]
  },
  {
   "cell_type": "code",
   "execution_count": 91,
   "id": "933212d2",
   "metadata": {},
   "outputs": [
    {
     "ename": "IndexError",
     "evalue": "only integers, slices (`:`), ellipsis (`...`), numpy.newaxis (`None`) and integer or boolean arrays are valid indices",
     "output_type": "error",
     "traceback": [
      "\u001b[1;31m---------------------------------------------------------------------------\u001b[0m",
      "\u001b[1;31mIndexError\u001b[0m                                Traceback (most recent call last)",
      "Cell \u001b[1;32mIn[91], line 25\u001b[0m\n\u001b[0;32m     23\u001b[0m r \u001b[38;5;241m=\u001b[39m [\u001b[38;5;28mslice\u001b[39m(start,stop) \u001b[38;5;28;01mfor\u001b[39;00m start,stop \u001b[38;5;129;01min\u001b[39;00m \u001b[38;5;28mzip\u001b[39m(R_start,R_stop)]\n\u001b[0;32m     24\u001b[0m z \u001b[38;5;241m=\u001b[39m [\u001b[38;5;28mslice\u001b[39m(start,stop) \u001b[38;5;28;01mfor\u001b[39;00m start,stop \u001b[38;5;129;01min\u001b[39;00m \u001b[38;5;28mzip\u001b[39m(Z_start,Z_stop)]\n\u001b[1;32m---> 25\u001b[0m R[r] \u001b[38;5;241m=\u001b[39m Z[z]\n\u001b[0;32m     26\u001b[0m \u001b[38;5;28mprint\u001b[39m(Z)\n\u001b[0;32m     27\u001b[0m \u001b[38;5;28mprint\u001b[39m(R)\n",
      "\u001b[1;31mIndexError\u001b[0m: only integers, slices (`:`), ellipsis (`...`), numpy.newaxis (`None`) and integer or boolean arrays are valid indices"
     ]
    }
   ],
   "source": [
    "\n",
    "Z = np.random.randint(0,10,(10,10))\n",
    "shape = (5,5)\n",
    "fill  = 0\n",
    "position = (1,1)\n",
    "\n",
    "R = np.ones(shape, dtype=Z.dtype)*fill\n",
    "P  = np.array(list(position)).astype(int)\n",
    "Rs = np.array(list(R.shape)).astype(int)\n",
    "Zs = np.array(list(Z.shape)).astype(int)\n",
    "\n",
    "R_start = np.zeros((len(shape),)).astype(int)\n",
    "R_stop  = np.array(list(shape)).astype(int)\n",
    "Z_start = (P-Rs//2)\n",
    "Z_stop  = (P+Rs//2)+Rs%2\n",
    "\n",
    "R_start = (R_start - np.minimum(Z_start,0)).tolist()\n",
    "Z_start = (np.maximum(Z_start,0)).tolist()\n",
    "R_stop = np.maximum(R_start, (R_stop - np.maximum(Z_stop-Zs,0))).tolist()\n",
    "Z_stop = (np.minimum(Z_stop,Zs)).tolist()\n",
    "\n",
    "r = [slice(start,stop) for start,stop in zip(R_start,R_stop)]\n",
    "z = [slice(start,stop) for start,stop in zip(Z_start,Z_stop)]\n",
    "R[r] = Z[z]\n",
    "print(Z)\n",
    "print(R)"
   ]
  },
  {
   "cell_type": "markdown",
   "id": "a75ae918",
   "metadata": {},
   "source": [
    "### 81. Consider an array Z = [1,2,3,4,5,6,7,8,9,10,11,12,13,14], how to generate an array R = [[1,2,3,4], [2,3,4,5], [3,4,5,6], ..., [11,12,13,14]]? (★★★)"
   ]
  },
  {
   "cell_type": "code",
   "execution_count": 92,
   "id": "c0b435f1",
   "metadata": {},
   "outputs": [
    {
     "name": "stdout",
     "output_type": "stream",
     "text": [
      "[[ 1  2  3  4]\n",
      " [ 2  3  4  5]\n",
      " [ 3  4  5  6]\n",
      " [ 4  5  6  7]\n",
      " [ 5  6  7  8]\n",
      " [ 6  7  8  9]\n",
      " [ 7  8  9 10]\n",
      " [ 8  9 10 11]\n",
      " [ 9 10 11 12]\n",
      " [10 11 12 13]\n",
      " [11 12 13 14]]\n"
     ]
    }
   ],
   "source": [
    "Z = np.arange(1,15,dtype=np.uint32)\n",
    "R = stride_tricks.as_strided(Z,(11,4),(4,4))\n",
    "print(R)"
   ]
  },
  {
   "cell_type": "markdown",
   "id": "5ee5596f",
   "metadata": {},
   "source": [
    "### 82. Compute a matrix rank (★★★)\n"
   ]
  },
  {
   "cell_type": "code",
   "execution_count": 93,
   "id": "ae9f967a",
   "metadata": {},
   "outputs": [
    {
     "name": "stdout",
     "output_type": "stream",
     "text": [
      "10\n"
     ]
    }
   ],
   "source": [
    "Z = np.random.uniform(0,1,(10,10))\n",
    "U, S, V = np.linalg.svd(Z) # Singular Value Decomposition\n",
    "rank = np.sum(S > 1e-10)\n",
    "print(rank)"
   ]
  },
  {
   "cell_type": "markdown",
   "id": "14762f7a",
   "metadata": {},
   "source": [
    "### 83. How to find the most frequent value in an array?"
   ]
  },
  {
   "cell_type": "code",
   "execution_count": 94,
   "id": "e6c1b816",
   "metadata": {},
   "outputs": [
    {
     "name": "stdout",
     "output_type": "stream",
     "text": [
      "0\n"
     ]
    }
   ],
   "source": [
    "Z = np.random.randint(0,10,50)\n",
    "print(np.bincount(Z).argmax())"
   ]
  },
  {
   "cell_type": "markdown",
   "id": "2556e8be",
   "metadata": {},
   "source": [
    "### 84. Extract all the contiguous 3x3 blocks from a random 10x10 matrix (★★★)\n"
   ]
  },
  {
   "cell_type": "code",
   "execution_count": 95,
   "id": "4c28ef62",
   "metadata": {},
   "outputs": [
    {
     "name": "stdout",
     "output_type": "stream",
     "text": [
      "[[[[2 1 3]\n",
      "   [4 2 1]\n",
      "   [0 3 1]]\n",
      "\n",
      "  [[1 3 1]\n",
      "   [2 1 2]\n",
      "   [3 1 1]]\n",
      "\n",
      "  [[3 1 3]\n",
      "   [1 2 4]\n",
      "   [1 1 2]]\n",
      "\n",
      "  [[1 3 3]\n",
      "   [2 4 2]\n",
      "   [1 2 4]]\n",
      "\n",
      "  [[3 3 0]\n",
      "   [4 2 3]\n",
      "   [2 4 1]]\n",
      "\n",
      "  [[3 0 1]\n",
      "   [2 3 1]\n",
      "   [4 1 2]]\n",
      "\n",
      "  [[0 1 2]\n",
      "   [3 1 1]\n",
      "   [1 2 2]]\n",
      "\n",
      "  [[1 2 3]\n",
      "   [1 1 1]\n",
      "   [2 2 0]]]\n",
      "\n",
      "\n",
      " [[[4 2 1]\n",
      "   [0 3 1]\n",
      "   [0 2 2]]\n",
      "\n",
      "  [[2 1 2]\n",
      "   [3 1 1]\n",
      "   [2 2 1]]\n",
      "\n",
      "  [[1 2 4]\n",
      "   [1 1 2]\n",
      "   [2 1 0]]\n",
      "\n",
      "  [[2 4 2]\n",
      "   [1 2 4]\n",
      "   [1 0 3]]\n",
      "\n",
      "  [[4 2 3]\n",
      "   [2 4 1]\n",
      "   [0 3 0]]\n",
      "\n",
      "  [[2 3 1]\n",
      "   [4 1 2]\n",
      "   [3 0 1]]\n",
      "\n",
      "  [[3 1 1]\n",
      "   [1 2 2]\n",
      "   [0 1 4]]\n",
      "\n",
      "  [[1 1 1]\n",
      "   [2 2 0]\n",
      "   [1 4 4]]]\n",
      "\n",
      "\n",
      " [[[0 3 1]\n",
      "   [0 2 2]\n",
      "   [4 4 3]]\n",
      "\n",
      "  [[3 1 1]\n",
      "   [2 2 1]\n",
      "   [4 3 0]]\n",
      "\n",
      "  [[1 1 2]\n",
      "   [2 1 0]\n",
      "   [3 0 2]]\n",
      "\n",
      "  [[1 2 4]\n",
      "   [1 0 3]\n",
      "   [0 2 1]]\n",
      "\n",
      "  [[2 4 1]\n",
      "   [0 3 0]\n",
      "   [2 1 3]]\n",
      "\n",
      "  [[4 1 2]\n",
      "   [3 0 1]\n",
      "   [1 3 0]]\n",
      "\n",
      "  [[1 2 2]\n",
      "   [0 1 4]\n",
      "   [3 0 1]]\n",
      "\n",
      "  [[2 2 0]\n",
      "   [1 4 4]\n",
      "   [0 1 3]]]\n",
      "\n",
      "\n",
      " [[[0 2 2]\n",
      "   [4 4 3]\n",
      "   [2 4 1]]\n",
      "\n",
      "  [[2 2 1]\n",
      "   [4 3 0]\n",
      "   [4 1 2]]\n",
      "\n",
      "  [[2 1 0]\n",
      "   [3 0 2]\n",
      "   [1 2 3]]\n",
      "\n",
      "  [[1 0 3]\n",
      "   [0 2 1]\n",
      "   [2 3 3]]\n",
      "\n",
      "  [[0 3 0]\n",
      "   [2 1 3]\n",
      "   [3 3 0]]\n",
      "\n",
      "  [[3 0 1]\n",
      "   [1 3 0]\n",
      "   [3 0 4]]\n",
      "\n",
      "  [[0 1 4]\n",
      "   [3 0 1]\n",
      "   [0 4 2]]\n",
      "\n",
      "  [[1 4 4]\n",
      "   [0 1 3]\n",
      "   [4 2 3]]]\n",
      "\n",
      "\n",
      " [[[4 4 3]\n",
      "   [2 4 1]\n",
      "   [3 1 0]]\n",
      "\n",
      "  [[4 3 0]\n",
      "   [4 1 2]\n",
      "   [1 0 4]]\n",
      "\n",
      "  [[3 0 2]\n",
      "   [1 2 3]\n",
      "   [0 4 4]]\n",
      "\n",
      "  [[0 2 1]\n",
      "   [2 3 3]\n",
      "   [4 4 0]]\n",
      "\n",
      "  [[2 1 3]\n",
      "   [3 3 0]\n",
      "   [4 0 4]]\n",
      "\n",
      "  [[1 3 0]\n",
      "   [3 0 4]\n",
      "   [0 4 2]]\n",
      "\n",
      "  [[3 0 1]\n",
      "   [0 4 2]\n",
      "   [4 2 4]]\n",
      "\n",
      "  [[0 1 3]\n",
      "   [4 2 3]\n",
      "   [2 4 2]]]\n",
      "\n",
      "\n",
      " [[[2 4 1]\n",
      "   [3 1 0]\n",
      "   [1 4 0]]\n",
      "\n",
      "  [[4 1 2]\n",
      "   [1 0 4]\n",
      "   [4 0 2]]\n",
      "\n",
      "  [[1 2 3]\n",
      "   [0 4 4]\n",
      "   [0 2 3]]\n",
      "\n",
      "  [[2 3 3]\n",
      "   [4 4 0]\n",
      "   [2 3 4]]\n",
      "\n",
      "  [[3 3 0]\n",
      "   [4 0 4]\n",
      "   [3 4 2]]\n",
      "\n",
      "  [[3 0 4]\n",
      "   [0 4 2]\n",
      "   [4 2 4]]\n",
      "\n",
      "  [[0 4 2]\n",
      "   [4 2 4]\n",
      "   [2 4 2]]\n",
      "\n",
      "  [[4 2 3]\n",
      "   [2 4 2]\n",
      "   [4 2 1]]]\n",
      "\n",
      "\n",
      " [[[3 1 0]\n",
      "   [1 4 0]\n",
      "   [1 0 0]]\n",
      "\n",
      "  [[1 0 4]\n",
      "   [4 0 2]\n",
      "   [0 0 1]]\n",
      "\n",
      "  [[0 4 4]\n",
      "   [0 2 3]\n",
      "   [0 1 0]]\n",
      "\n",
      "  [[4 4 0]\n",
      "   [2 3 4]\n",
      "   [1 0 4]]\n",
      "\n",
      "  [[4 0 4]\n",
      "   [3 4 2]\n",
      "   [0 4 1]]\n",
      "\n",
      "  [[0 4 2]\n",
      "   [4 2 4]\n",
      "   [4 1 3]]\n",
      "\n",
      "  [[4 2 4]\n",
      "   [2 4 2]\n",
      "   [1 3 4]]\n",
      "\n",
      "  [[2 4 2]\n",
      "   [4 2 1]\n",
      "   [3 4 3]]]\n",
      "\n",
      "\n",
      " [[[1 4 0]\n",
      "   [1 0 0]\n",
      "   [0 4 0]]\n",
      "\n",
      "  [[4 0 2]\n",
      "   [0 0 1]\n",
      "   [4 0 1]]\n",
      "\n",
      "  [[0 2 3]\n",
      "   [0 1 0]\n",
      "   [0 1 2]]\n",
      "\n",
      "  [[2 3 4]\n",
      "   [1 0 4]\n",
      "   [1 2 2]]\n",
      "\n",
      "  [[3 4 2]\n",
      "   [0 4 1]\n",
      "   [2 2 2]]\n",
      "\n",
      "  [[4 2 4]\n",
      "   [4 1 3]\n",
      "   [2 2 3]]\n",
      "\n",
      "  [[2 4 2]\n",
      "   [1 3 4]\n",
      "   [2 3 1]]\n",
      "\n",
      "  [[4 2 1]\n",
      "   [3 4 3]\n",
      "   [3 1 3]]]]\n"
     ]
    }
   ],
   "source": [
    "Z = np.random.randint(0,5,(10,10))\n",
    "n = 3\n",
    "i = 1 + (Z.shape[0]-3)\n",
    "j = 1 + (Z.shape[1]-3)\n",
    "C = stride_tricks.as_strided(Z, shape=(i, j, n, n), strides=Z.strides + Z.strides)\n",
    "print(C)"
   ]
  },
  {
   "cell_type": "markdown",
   "id": "1d345224",
   "metadata": {},
   "source": [
    "### 85. Create a 2D array subclass such that Z[i,j] == Z[j,i] (★★★)\n"
   ]
  },
  {
   "cell_type": "code",
   "execution_count": 96,
   "id": "b576a1be",
   "metadata": {},
   "outputs": [
    {
     "name": "stdout",
     "output_type": "stream",
     "text": [
      "[[ 4 11  1  9 12]\n",
      " [11  9  6  9  8]\n",
      " [ 1  6  2 42  2]\n",
      " [ 9  9 42  0  1]\n",
      " [12  8  2  1  3]]\n"
     ]
    }
   ],
   "source": [
    "class Symetric(np.ndarray):\n",
    "    def __setitem__(self, index, value):\n",
    "        i,j = index\n",
    "        super(Symetric, self).__setitem__((i,j), value)\n",
    "        super(Symetric, self).__setitem__((j,i), value)\n",
    "\n",
    "def symetric(Z):\n",
    "    return np.asarray(Z + Z.T - np.diag(Z.diagonal())).view(Symetric)\n",
    "\n",
    "S = symetric(np.random.randint(0,10,(5,5)))\n",
    "S[2,3] = 42\n",
    "print(S)"
   ]
  },
  {
   "cell_type": "markdown",
   "id": "0dd16085",
   "metadata": {},
   "source": [
    "### 86. Consider a set of p matrices wich shape (n,n) and a set of p vectors with shape (n,1). How to compute the sum of of the p matrix products at once? (result has shape (n,1)) (★★★)"
   ]
  },
  {
   "cell_type": "code",
   "execution_count": 97,
   "id": "7479361c",
   "metadata": {},
   "outputs": [
    {
     "name": "stdout",
     "output_type": "stream",
     "text": [
      "[[200.]\n",
      " [200.]\n",
      " [200.]\n",
      " [200.]\n",
      " [200.]\n",
      " [200.]\n",
      " [200.]\n",
      " [200.]\n",
      " [200.]\n",
      " [200.]\n",
      " [200.]\n",
      " [200.]\n",
      " [200.]\n",
      " [200.]\n",
      " [200.]\n",
      " [200.]\n",
      " [200.]\n",
      " [200.]\n",
      " [200.]\n",
      " [200.]]\n"
     ]
    }
   ],
   "source": [
    "p, n = 10, 20\n",
    "M = np.ones((p,n,n))\n",
    "V = np.ones((p,n,1))\n",
    "S = np.tensordot(M, V, axes=[[0, 2], [0, 1]])\n",
    "print(S)"
   ]
  },
  {
   "cell_type": "markdown",
   "id": "04fdf793",
   "metadata": {},
   "source": [
    "### 87. Consider a 16x16 array, how to get the block-sum (block size is 4x4)? (★★★)"
   ]
  },
  {
   "cell_type": "code",
   "execution_count": 98,
   "id": "04c28b6c",
   "metadata": {},
   "outputs": [
    {
     "name": "stdout",
     "output_type": "stream",
     "text": [
      "[[16. 16. 16. 16.]\n",
      " [16. 16. 16. 16.]\n",
      " [16. 16. 16. 16.]\n",
      " [16. 16. 16. 16.]]\n"
     ]
    }
   ],
   "source": [
    "Z = np.ones((16,16))\n",
    "k = 4\n",
    "S = np.add.reduceat(np.add.reduceat(Z, np.arange(0, Z.shape[0], k), axis=0),\n",
    "                                       np.arange(0, Z.shape[1], k), axis=1)\n",
    "print(S)"
   ]
  },
  {
   "cell_type": "markdown",
   "id": "0bbcfd84",
   "metadata": {},
   "source": [
    "### 88. How to implement the Game of Life using numpy arrays? (★★★)\n"
   ]
  },
  {
   "cell_type": "code",
   "execution_count": 99,
   "id": "5afd9a1f",
   "metadata": {},
   "outputs": [
    {
     "name": "stdout",
     "output_type": "stream",
     "text": [
      "[[0 0 0 ... 0 0 0]\n",
      " [0 0 0 ... 0 0 0]\n",
      " [0 0 0 ... 0 0 0]\n",
      " ...\n",
      " [0 0 1 ... 0 0 0]\n",
      " [0 0 0 ... 0 0 0]\n",
      " [0 0 0 ... 0 0 0]]\n"
     ]
    }
   ],
   "source": [
    "def iterate(Z):\n",
    "    # Count neighbours\n",
    "    N = (Z[0:-2,0:-2] + Z[0:-2,1:-1] + Z[0:-2,2:] +\n",
    "         Z[1:-1,0:-2]                + Z[1:-1,2:] +\n",
    "         Z[2:  ,0:-2] + Z[2:  ,1:-1] + Z[2:  ,2:])\n",
    "\n",
    "    # Apply rules\n",
    "    birth = (N==3) & (Z[1:-1,1:-1]==0)\n",
    "    survive = ((N==2) | (N==3)) & (Z[1:-1,1:-1]==1)\n",
    "    Z[...] = 0\n",
    "    Z[1:-1,1:-1][birth | survive] = 1\n",
    "    return Z\n",
    "\n",
    "Z = np.random.randint(0,2,(50,50))\n",
    "for i in range(100): Z = iterate(Z)\n",
    "print(Z)"
   ]
  },
  {
   "cell_type": "markdown",
   "id": "4d8c8b07",
   "metadata": {},
   "source": [
    "### 89. How to get the n largest values of an array (★★★)"
   ]
  },
  {
   "cell_type": "code",
   "execution_count": 100,
   "id": "499aaa3d",
   "metadata": {},
   "outputs": [
    {
     "name": "stdout",
     "output_type": "stream",
     "text": [
      "[9995 9996 9997 9998 9999]\n",
      "[9998 9999 9997 9996 9995]\n"
     ]
    }
   ],
   "source": [
    "Z = np.arange(10000)\n",
    "np.random.shuffle(Z)\n",
    "n = 5\n",
    "\n",
    "# Slow\n",
    "print (Z[np.argsort(Z)[-n:]])\n",
    "\n",
    "# Fast\n",
    "print (Z[np.argpartition(-Z,n)[:n]])"
   ]
  },
  {
   "cell_type": "markdown",
   "id": "222eae37",
   "metadata": {},
   "source": [
    "### 90. Given an arbitrary number of vectors, build the cartesian product (every combinations of every item) (★★★)"
   ]
  },
  {
   "cell_type": "code",
   "execution_count": 101,
   "id": "f7fe2e11",
   "metadata": {},
   "outputs": [
    {
     "name": "stdout",
     "output_type": "stream",
     "text": [
      "[[1 4 6]\n",
      " [1 4 7]\n",
      " [1 5 6]\n",
      " [1 5 7]\n",
      " [2 4 6]\n",
      " [2 4 7]\n",
      " [2 5 6]\n",
      " [2 5 7]\n",
      " [3 4 6]\n",
      " [3 4 7]\n",
      " [3 5 6]\n",
      " [3 5 7]]\n"
     ]
    }
   ],
   "source": [
    "def cartesian(arrays):\n",
    "    arrays = [np.asarray(a) for a in arrays]\n",
    "    shape = (len(x) for x in arrays)\n",
    "\n",
    "    ix = np.indices(shape, dtype=int)\n",
    "    ix = ix.reshape(len(arrays), -1).T\n",
    "\n",
    "    for n, arr in enumerate(arrays):\n",
    "        ix[:, n] = arrays[n][ix[:, n]]\n",
    "\n",
    "    return ix\n",
    "\n",
    "print (cartesian(([1, 2, 3], [4, 5], [6, 7])))"
   ]
  },
  {
   "cell_type": "markdown",
   "id": "2d528d18",
   "metadata": {},
   "source": [
    "### 91. How to create a record array from a regular array? (★★★)"
   ]
  },
  {
   "cell_type": "code",
   "execution_count": 102,
   "id": "29d5f5e4",
   "metadata": {},
   "outputs": [
    {
     "name": "stdout",
     "output_type": "stream",
     "text": [
      "[(b'Hello', 2.5, 3) (b'World', 3.6, 2)]\n"
     ]
    }
   ],
   "source": [
    "Z = np.array([(\"Hello\", 2.5, 3),\n",
    "              (\"World\", 3.6, 2)])\n",
    "R = np.core.records.fromarrays(Z.T, \n",
    "                               names='col1, col2, col3',\n",
    "                               formats = 'S8, f8, i8')\n",
    "print(R)"
   ]
  },
  {
   "cell_type": "markdown",
   "id": "29a90ee9",
   "metadata": {},
   "source": [
    "### 92. Consider a large vector Z, compute Z to the power of 3 using 3 different methods (★★★)"
   ]
  },
  {
   "cell_type": "code",
   "execution_count": 106,
   "id": "6576d3c9",
   "metadata": {},
   "outputs": [
    {
     "name": "stdout",
     "output_type": "stream",
     "text": [
      "2.52 µs ± 174 ns per loop (mean ± std. dev. of 7 runs, 100,000 loops each)\n",
      "1.23 µs ± 25.9 ns per loop (mean ± std. dev. of 7 runs, 1,000,000 loops each)\n",
      "3.74 µs ± 88 ns per loop (mean ± std. dev. of 7 runs, 100,000 loops each)\n"
     ]
    }
   ],
   "source": [
    "x = np.random.rand(5)\n",
    "\n",
    "%timeit np.power(x,3)\n",
    "%timeit x*x*x\n",
    "%timeit np.einsum('i,i,i->i',x,x,x)"
   ]
  },
  {
   "cell_type": "markdown",
   "id": "f268aa88",
   "metadata": {},
   "source": [
    "### 93. Consider two arrays A and B of shape (8,3) and (2,2). How to find rows of A that contain elements of each row of B regardless of the order of the elements in B? (★★★)"
   ]
  },
  {
   "cell_type": "code",
   "execution_count": 107,
   "id": "aeb213fa",
   "metadata": {},
   "outputs": [
    {
     "name": "stdout",
     "output_type": "stream",
     "text": [
      "[0 1 2 3 5 6 7]\n"
     ]
    }
   ],
   "source": [
    "A = np.random.randint(0,5,(8,3))\n",
    "B = np.random.randint(0,5,(2,2))\n",
    "\n",
    "C = (A[..., np.newaxis, np.newaxis] == B)\n",
    "rows = np.where(C.any((3,1)).all(1))[0]\n",
    "print(rows)"
   ]
  },
  {
   "cell_type": "markdown",
   "id": "82468b43",
   "metadata": {},
   "source": [
    "### 94. Considering a 10x3 matrix, extract rows with unequal values (e.g. [2,2,3]) (★★★)\n"
   ]
  },
  {
   "cell_type": "code",
   "execution_count": 108,
   "id": "59b1cc35",
   "metadata": {},
   "outputs": [
    {
     "name": "stdout",
     "output_type": "stream",
     "text": [
      "[[4 2 1]\n",
      " [4 2 3]\n",
      " [1 3 0]\n",
      " [4 3 4]\n",
      " [3 3 0]\n",
      " [0 4 2]\n",
      " [3 0 3]\n",
      " [1 0 0]\n",
      " [0 1 2]\n",
      " [1 0 3]]\n",
      "[[4 2 1]\n",
      " [4 2 3]\n",
      " [1 3 0]\n",
      " [4 3 4]\n",
      " [3 3 0]\n",
      " [0 4 2]\n",
      " [3 0 3]\n",
      " [1 0 0]\n",
      " [0 1 2]\n",
      " [1 0 3]]\n",
      "[[4 2 1]\n",
      " [4 2 3]\n",
      " [1 3 0]\n",
      " [4 3 4]\n",
      " [3 3 0]\n",
      " [0 4 2]\n",
      " [3 0 3]\n",
      " [1 0 0]\n",
      " [0 1 2]\n",
      " [1 0 3]]\n"
     ]
    }
   ],
   "source": [
    "Z = np.random.randint(0,5,(10,3))\n",
    "print(Z)\n",
    "# solution for arrays of all dtypes (including string arrays and record arrays)\n",
    "E = np.all(Z[:,1:] == Z[:,:-1], axis=1)\n",
    "U = Z[~E]\n",
    "print(U)\n",
    "# soluiton for numerical arrays only, will work for any number of columns in Z\n",
    "U = Z[Z.max(axis=1) != Z.min(axis=1),:]\n",
    "print(U)"
   ]
  },
  {
   "cell_type": "markdown",
   "id": "d1bdddf9",
   "metadata": {},
   "source": [
    "### 95. Convert a vector of ints into a matrix binary representation (★★★)"
   ]
  },
  {
   "cell_type": "code",
   "execution_count": 109,
   "id": "8ed31e76",
   "metadata": {},
   "outputs": [
    {
     "name": "stdout",
     "output_type": "stream",
     "text": [
      "[[0 0 0 0 0 0 0 0]\n",
      " [0 0 0 0 0 0 0 1]\n",
      " [0 0 0 0 0 0 1 0]\n",
      " [0 0 0 0 0 0 1 1]\n",
      " [0 0 0 0 1 1 1 1]\n",
      " [0 0 0 1 0 0 0 0]\n",
      " [0 0 1 0 0 0 0 0]\n",
      " [0 1 0 0 0 0 0 0]\n",
      " [1 0 0 0 0 0 0 0]]\n",
      "[[0 0 0 0 0 0 0 0]\n",
      " [0 0 0 0 0 0 0 1]\n",
      " [0 0 0 0 0 0 1 0]\n",
      " [0 0 0 0 0 0 1 1]\n",
      " [0 0 0 0 1 1 1 1]\n",
      " [0 0 0 1 0 0 0 0]\n",
      " [0 0 1 0 0 0 0 0]\n",
      " [0 1 0 0 0 0 0 0]\n",
      " [1 0 0 0 0 0 0 0]]\n"
     ]
    }
   ],
   "source": [
    "I = np.array([0, 1, 2, 3, 15, 16, 32, 64, 128])\n",
    "B = ((I.reshape(-1,1) & (2**np.arange(8))) != 0).astype(int)\n",
    "print(B[:,::-1])\n",
    "\n",
    "# Author: Daniel T. McDonald\n",
    "\n",
    "I = np.array([0, 1, 2, 3, 15, 16, 32, 64, 128], dtype=np.uint8)\n",
    "print(np.unpackbits(I[:, np.newaxis], axis=1))"
   ]
  },
  {
   "cell_type": "markdown",
   "id": "1b36ec7c",
   "metadata": {},
   "source": [
    "### 96. Given a two dimensional array, how to extract unique rows? (★★★)"
   ]
  },
  {
   "cell_type": "code",
   "execution_count": 110,
   "id": "41c100e1",
   "metadata": {},
   "outputs": [
    {
     "name": "stdout",
     "output_type": "stream",
     "text": [
      "[[0 0 0]\n",
      " [0 0 1]\n",
      " [1 1 1]]\n"
     ]
    }
   ],
   "source": [
    "Z = np.random.randint(0,2,(6,3))\n",
    "T = np.ascontiguousarray(Z).view(np.dtype((np.void, Z.dtype.itemsize * Z.shape[1])))\n",
    "_, idx = np.unique(T, return_index=True)\n",
    "uZ = Z[idx]\n",
    "print(uZ)"
   ]
  },
  {
   "cell_type": "markdown",
   "id": "0ac7b363",
   "metadata": {},
   "source": [
    "### 97. Considering 2 vectors A & B, write the einsum equivalent of inner, outer, sum, and mul function (★★★)"
   ]
  },
  {
   "cell_type": "code",
   "execution_count": 111,
   "id": "d4ea4d81",
   "metadata": {},
   "outputs": [
    {
     "data": {
      "text/plain": [
       "array([[0.48461354, 0.14545426, 0.28697091, 0.3733108 , 0.42893966,\n",
       "        0.4145148 , 0.30051438, 0.22344112, 0.25581266, 0.4240482 ],\n",
       "       [0.6772119 , 0.20326167, 0.40102082, 0.52167448, 0.59941173,\n",
       "        0.57925406, 0.41994681, 0.31224259, 0.35747944, 0.59257628],\n",
       "       [0.43022967, 0.12913123, 0.25476672, 0.33141745, 0.38080357,\n",
       "        0.36799749, 0.26679032, 0.19836631, 0.22710508, 0.37646104],\n",
       "       [0.07139284, 0.02142819, 0.0422763 , 0.05499582, 0.06319101,\n",
       "        0.06106595, 0.04427151, 0.03291715, 0.03768609, 0.06247041],\n",
       "       [0.33747895, 0.10129257, 0.19984304, 0.25996908, 0.29870834,\n",
       "        0.28866305, 0.20927454, 0.15560167, 0.17814481, 0.29530199],\n",
       "       [0.26937912, 0.08085276, 0.15951674, 0.20750995, 0.23843202,\n",
       "        0.23041377, 0.16704506, 0.12420283, 0.14219699, 0.23571304],\n",
       "       [0.17112771, 0.0513631 , 0.10133574, 0.13182426, 0.15146803,\n",
       "        0.1463743 , 0.10611824, 0.07890198, 0.09033308, 0.14974075],\n",
       "       [0.10403131, 0.03122446, 0.06160364, 0.08013811, 0.09207987,\n",
       "        0.08898331, 0.064511  , 0.04796579, 0.05491494, 0.09102983],\n",
       "       [0.12322384, 0.036985  , 0.07296878, 0.09492262, 0.10906751,\n",
       "        0.10539966, 0.0764125 , 0.05681491, 0.06504609, 0.10782374],\n",
       "       [0.49565406, 0.14876802, 0.29350871, 0.38181561, 0.43871181,\n",
       "        0.42395832, 0.30736073, 0.22853158, 0.26164061, 0.43370891]])"
      ]
     },
     "execution_count": 111,
     "metadata": {},
     "output_type": "execute_result"
    }
   ],
   "source": [
    "A = np.random.uniform(0,1,10)\n",
    "B = np.random.uniform(0,1,10)\n",
    "\n",
    "np.einsum('i->', A)       # np.sum(A)\n",
    "np.einsum('i,i->i', A, B) # A * B\n",
    "np.einsum('i,i', A, B)    # np.inner(A, B)\n",
    "np.einsum('i,j->ij', A, B)    # np.outer(A, B)"
   ]
  },
  {
   "cell_type": "markdown",
   "id": "b0c8a8b4",
   "metadata": {},
   "source": [
    "### 98. Considering a path described by two vectors (X,Y), how to sample it using equidistant samples (★★★)?"
   ]
  },
  {
   "cell_type": "code",
   "execution_count": 115,
   "id": "99f28b67",
   "metadata": {},
   "outputs": [],
   "source": [
    "phi = np.arange(0, 10*np.pi, 0.1)\n",
    "a = 1\n",
    "x = a*phi*np.cos(phi)\n",
    "y = a*phi*np.sin(phi)\n",
    "\n",
    "dr = (np.diff(x)**2 + np.diff(y)**2)**.5 # segment lengths\n",
    "r = np.zeros_like(x)\n",
    "r[1:] = np.cumsum(dr)                # integrate path\n",
    "r_int = np.linspace(0, r.max(), 200) # regular spaced path\n",
    "x_int = np.interp(r_int, r, x)       # integrate path\n",
    "y_int = np.interp(r_int, r, y)"
   ]
  },
  {
   "cell_type": "markdown",
   "id": "1413ccd8",
   "metadata": {},
   "source": [
    "### 99. Given an integer n and a 2D array X, select from X the rows which can be interpreted as draws from a multinomial distribution with n degrees, i.e., the rows which only contain integers and which sum to n. (★★★)"
   ]
  },
  {
   "cell_type": "code",
   "execution_count": 113,
   "id": "fd2dde72",
   "metadata": {},
   "outputs": [
    {
     "name": "stdout",
     "output_type": "stream",
     "text": [
      "[[2. 0. 1. 1.]]\n"
     ]
    }
   ],
   "source": [
    "X = np.asarray([[1.0, 0.0, 3.0, 8.0],\n",
    "                [2.0, 0.0, 1.0, 1.0],\n",
    "                [1.5, 2.5, 1.0, 0.0]])\n",
    "n = 4\n",
    "M = np.logical_and.reduce(np.mod(X, 1) == 0, axis=-1)\n",
    "M &= (X.sum(axis=-1) == n)\n",
    "print(X[M])"
   ]
  },
  {
   "cell_type": "markdown",
   "id": "e64486fb",
   "metadata": {},
   "source": [
    "### 100. Compute bootstrapped 95% confidence intervals for the mean of a 1D array X (i.e., resample the elements of an array with replacement N times, compute the mean of each sample, and then compute percentiles over the means). (★★★)"
   ]
  },
  {
   "cell_type": "code",
   "execution_count": 114,
   "id": "80b7e20c",
   "metadata": {},
   "outputs": [
    {
     "name": "stdout",
     "output_type": "stream",
     "text": [
      "[-0.38016916  0.01182154]\n"
     ]
    }
   ],
   "source": [
    "X = np.random.randn(100) # random 1D array\n",
    "N = 1000 # number of bootstrap samples\n",
    "idx = np.random.randint(0, X.size, (N, X.size))\n",
    "means = X[idx].mean(axis=1)\n",
    "confint = np.percentile(means, [2.5, 97.5])\n",
    "print(confint)"
   ]
  },
  {
   "cell_type": "code",
   "execution_count": null,
   "id": "71d28f21",
   "metadata": {},
   "outputs": [],
   "source": []
  }
 ],
 "metadata": {
  "kernelspec": {
   "display_name": "Python 3 (ipykernel)",
   "language": "python",
   "name": "python3"
  },
  "language_info": {
   "codemirror_mode": {
    "name": "ipython",
    "version": 3
   },
   "file_extension": ".py",
   "mimetype": "text/x-python",
   "name": "python",
   "nbconvert_exporter": "python",
   "pygments_lexer": "ipython3",
   "version": "3.11.5"
  }
 },
 "nbformat": 4,
 "nbformat_minor": 5
}
